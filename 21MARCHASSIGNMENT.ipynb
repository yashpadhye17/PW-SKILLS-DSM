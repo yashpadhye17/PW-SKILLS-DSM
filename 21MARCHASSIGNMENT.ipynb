{
 "cells": [
  {
   "attachments": {},
   "cell_type": "markdown",
   "metadata": {},
   "source": [
    "# 21 MARCH ASSIGNMENT"
   ]
  },
  {
   "attachments": {},
   "cell_type": "markdown",
   "metadata": {},
   "source": [
    "Q1. What is the difference between Ordinal Encoding and Label Encoding? Provide an example of when you\n",
    "might choose one over the other."
   ]
  },
  {
   "attachments": {},
   "cell_type": "markdown",
   "metadata": {},
   "source": [
    "Both ordinal encoding and label encoding are methods for converting category data into numerical values. They differ, however, in how they allocate values to each category.\n",
    "\n",
    "Ordinal encoding assigns a unique integer value to each category depending on its order or rank in the feature space. For example, if we had a categorical variable \"education\" with three categories \"high school,\" \"college,\" and \"graduate,\" we may give the values 1, 2, and 3 to these categories. The order of the values suggests a classification, but not necessarily a definite numerical difference between them.\n",
    "\n",
    "The choice between ordinal encoding and label encoding is determined by the unique scenario and data properties. Where there is a natural order or hierarchy between the categories, such as in the example of \"education,\" where \"graduate\" is higher than \"college\" and \"high school,\" ordinal encoding is more appropriate. Label encoding, on the other hand, is more suited when there is no inherent ordering or link between the categories, such as with colours or country names.\n",
    "\n",
    "Assume we have a categorical variable \"income level\" with three levels: low, medium, and high. We may use ordinal encoding in this example since there is a natural order between the groups depending on income level. In contrast, if we have a categorical variable \"preferred colour\" with categories \"red,\" \"green,\" and \"blue,\" we might utilise label encoding because the colours have no inherent order or hierarchy."
   ]
  },
  {
   "attachments": {},
   "cell_type": "markdown",
   "metadata": {},
   "source": [
    "Q2. Explain how Target Guided Ordinal Encoding works and provide an example of when you might use it in\n",
    "a machine learning project."
   ]
  },
  {
   "attachments": {},
   "cell_type": "markdown",
   "metadata": {},
   "source": [
    "Target Directed Ordinal Encoding is a method for assigning numerical values to categories based on their relationship to the target variable. The objective is to encode categories with comparable numerical values that have similar target variable values. This can assist capture the association between the category variable and the target variable, which can improve the machine learning model's performance.\n",
    "\n",
    "The following is the general procedure for Target Directed Ordinal Encoding:\n",
    "\n",
    "1. Calculate the mean of the target variable for each category in the categorical variable for all occurrences where that category appears.\n",
    "2. Arrange the categories in ascending order according to their mean goal values.\n",
    "3. Each category should be assigned a number value depending on its position in the sorted list.\n",
    "\n",
    "For example, suppose we have a categorical variable \"region\" with the categories \"North\", \"South\", \"East\", and \"West\". We want to encode this variable using Target Guided Ordinal Encoding based on its relationship with the target variable, which is the income level of customers.\n"
   ]
  },
  {
   "attachments": {},
   "cell_type": "markdown",
   "metadata": {},
   "source": [
    "Q3. Define covariance and explain why it is important in statistical analysis. How is covariance calculated?"
   ]
  },
  {
   "attachments": {},
   "cell_type": "markdown",
   "metadata": {},
   "source": [
    "Covariance is a statistical term that quantifies how closely two variables are connected linearly. It quantifies the combined variability of two random variables. When two variables vary together, their covariance is positive. If they fluctuate in the other direction, their covariance is negative. Their covariance is 0 if they are independent.\n",
    "\n",
    "For numerous reasons, covariance is significant in statistical analysis. Initially, it indicates the direction of the link between two variables. A positive covariance suggests that the two variables tend to move together, whereas a negative covariance indicates that they tend to move in opposing directions. Second, covariance is utilised to calculate the correlation coefficient, which is a standardised measure of the strength and direction of a two-variable linear connection. Finally, covariance is utilised in regression models, which predict the value of one variable depending on the value of another variable. Lastly, covariance is utilised to compute the variance of a linear combination of two or more random variables.\n",
    "\n",
    "\n",
    "The covariance between two random variables X and Y is calculated as follows\n",
    "1. Find the mean of X (X) and the mean of Y (Y).\n",
    "\n",
    "2. Remove the X mean from each X value, and the Y mean from each Y value. This yields the deviations of X and Y from their respective means.\n",
    "\n",
    "3. Multiply each X departure from the mean by the corresponding Y variation from the mean. This returns the deviations' products.\n",
    "\n",
    "4. Add the deviations' products together.\n",
    "\n",
    "5. Subtract the sum of the deviation products from the total number of observations (N).\n",
    "\n",
    "The formula for covariance can be written as:\n",
    "\n",
    "Cov(X, Y) = Σ((Xi - μX) * (Yi - μY)) / (N - 1)"
   ]
  },
  {
   "attachments": {},
   "cell_type": "markdown",
   "metadata": {},
   "source": [
    "Q4. For a dataset with the following categorical variables: Color (red, green, blue), Size (small, medium,\n",
    "large), and Material (wood, metal, plastic), perform label encoding using Python's scikit-learn library.\n",
    "Show your code and explain the output."
   ]
  },
  {
   "cell_type": "code",
   "execution_count": 3,
   "metadata": {},
   "outputs": [],
   "source": [
    "from sklearn.preprocessing import LabelEncoder\n",
    "import pandas as pd\n",
    "\n",
    "data = pd.DataFrame({\n",
    "    'Color': ['red', 'green', 'blue'],\n",
    "    'Size': ['small', 'medium', 'large'],\n",
    "    'Material': ['wood', 'metal', 'plastic']\n",
    "})\n",
    "\n",
    "le = LabelEncoder()\n",
    "\n",
    "for col in data.columns:\n",
    "    data[col] = le.fit_transform(data[col])"
   ]
  },
  {
   "cell_type": "code",
   "execution_count": 4,
   "metadata": {},
   "outputs": [
    {
     "data": {
      "text/html": [
       "<div>\n",
       "<style scoped>\n",
       "    .dataframe tbody tr th:only-of-type {\n",
       "        vertical-align: middle;\n",
       "    }\n",
       "\n",
       "    .dataframe tbody tr th {\n",
       "        vertical-align: top;\n",
       "    }\n",
       "\n",
       "    .dataframe thead th {\n",
       "        text-align: right;\n",
       "    }\n",
       "</style>\n",
       "<table border=\"1\" class=\"dataframe\">\n",
       "  <thead>\n",
       "    <tr style=\"text-align: right;\">\n",
       "      <th></th>\n",
       "      <th>Color</th>\n",
       "      <th>Size</th>\n",
       "      <th>Material</th>\n",
       "    </tr>\n",
       "  </thead>\n",
       "  <tbody>\n",
       "    <tr>\n",
       "      <th>0</th>\n",
       "      <td>2</td>\n",
       "      <td>2</td>\n",
       "      <td>2</td>\n",
       "    </tr>\n",
       "    <tr>\n",
       "      <th>1</th>\n",
       "      <td>1</td>\n",
       "      <td>1</td>\n",
       "      <td>0</td>\n",
       "    </tr>\n",
       "    <tr>\n",
       "      <th>2</th>\n",
       "      <td>0</td>\n",
       "      <td>0</td>\n",
       "      <td>1</td>\n",
       "    </tr>\n",
       "  </tbody>\n",
       "</table>\n",
       "</div>"
      ],
      "text/plain": [
       "   Color  Size  Material\n",
       "0      2     2         2\n",
       "1      1     1         0\n",
       "2      0     0         1"
      ]
     },
     "execution_count": 4,
     "metadata": {},
     "output_type": "execute_result"
    }
   ],
   "source": [
    "data"
   ]
  },
  {
   "attachments": {},
   "cell_type": "markdown",
   "metadata": {},
   "source": [
    "Q5. Calculate the covariance matrix for the following variables in a dataset: Age, Income, and Education\n",
    "level. Interpret the results."
   ]
  },
  {
   "cell_type": "code",
   "execution_count": 5,
   "metadata": {},
   "outputs": [
    {
     "name": "stdout",
     "output_type": "stream",
     "text": [
      "[[1.075e+02 3.250e+05 3.250e+01]\n",
      " [3.250e+05 1.000e+09 1.000e+05]\n",
      " [3.250e+01 1.000e+05 1.000e+01]]\n"
     ]
    }
   ],
   "source": [
    "import numpy as np\n",
    "import pandas as pd\n",
    "\n",
    "data = pd.DataFrame({\n",
    "    'Age': [25, 30, 40, 45, 50],\n",
    "    'Income': [40000, 60000, 80000, 100000, 120000],\n",
    "    'Education': [12, 14, 16, 18, 20]\n",
    "})\n",
    "\n",
    "cov_matrix = np.cov(data, rowvar=False)\n",
    "\n",
    "print(cov_matrix)\n"
   ]
  },
  {
   "attachments": {},
   "cell_type": "markdown",
   "metadata": {},
   "source": [
    "Q6. You are working on a machine learning project with a dataset containing several categorical\n",
    "variables, including \"Gender\" (Male/Female), \"Education Level\" (High School/Bachelor's/Master's/PhD),\n",
    "and \"Employment Status\" (Unemployed/Part-Time/Full-Time). Which encoding method would you use for\n",
    "each variable, and why?"
   ]
  },
  {
   "attachments": {},
   "cell_type": "markdown",
   "metadata": {},
   "source": [
    "In a machine learning project, we must transform categorical variables to numerical values so that they may be used as inputs to machine learning algorithms. There are numerous encoding methods available, and the one chosen relies on the nature of the variable and the project's unique requirements. We have three categorical variables in this case: gender, education level, and employment status. Below are some potential encoding techniques for each variable, along with reasons why they would be appropriate:\n",
    "\n",
    "Gender: Since Gender is a binary categorical variable with just two potential values (Male/Female), we may convert it to a numerical number using binary encoding. Each category is assigned a number between 0 and 1, with 0 representing one category and 1 representing the other. In this scenario, we can assign a value of 0 to Male and a value of 1 to Female. Binary encoding is acceptable in this scenario because it keeps the variable's binary nature while avoiding the creation of needless ordinal links between the categories.\n",
    "\n",
    "Education Level: Because Education Level is an ordinal categorical variable with four potential values (High School/Bachelor's/Master's/PhD), we may convert it to a numerical value using ordinal encoding. Ordinal encoding gives each category a numerical value depending on its order or rank. In this situation, we may award a 0 to High School, a 1, a 2, and a 3 to Bachelor's, Master's, and PhD. In this scenario, ordinal encoding is acceptable since it retains the ordinal connections between the categories.\n",
    "\n",
    "Employment Status: Because Employment Status is a nominal categorical variable with three potential values (Unemployed/Part-Time/Full-Time), we can convert it to a numerical value using one-hot encoding. One-hot encoding generates a binary vector for each category, with 1 representing the existence of the category and 0 representing its absence. We may generate three binary vectors in this case: [1, 0, 0] for Unemployed, [0, 1, 0] for Part-Time, and [0, 0, 1] for Full-Time. In this case, one-hot encoding is appropriate because it avoids creating unnecessary ordinal relationships between the categories and allows the machine learning algorithm to treat each category independently.\n",
    "\n",
    "\n",
    "Overall, the encoding method chosen is determined by the nature of the categorical variable and the project's specific requirements. It is critical to select the appropriate encoding technique to eliminate biases or needless links between the categories."
   ]
  },
  {
   "attachments": {},
   "cell_type": "markdown",
   "metadata": {},
   "source": [
    "Q7. You are analyzing a dataset with two continuous variables, \"Temperature\" and \"Humidity\", and two\n",
    "categorical variables, \"Weather Condition\" (Sunny/Cloudy/Rainy) and \"Wind Direction\" (North/South/\n",
    "East/West). Calculate the covariance between each pair of variables and interpret the results."
   ]
  },
  {
   "cell_type": "code",
   "execution_count": 7,
   "metadata": {},
   "outputs": [
    {
     "name": "stdout",
     "output_type": "stream",
     "text": [
      "[[ 2.5  -3.75]\n",
      " [-3.75 92.5 ]]\n"
     ]
    }
   ],
   "source": [
    "import numpy as np\n",
    "import pandas as pd\n",
    "\n",
    "data = {'Temperature': [25, 28, 27, 26, 24],\n",
    "        'Humidity': [50, 60, 55, 45, 70],\n",
    "        'Weather Condition': ['Sunny', 'Cloudy', 'Rainy', 'Sunny', 'Cloudy'],\n",
    "        'Wind Direction': ['North', 'South', 'East', 'West', 'South']}\n",
    "\n",
    "df = pd.DataFrame(data)\n",
    "\n",
    "cov_matrix = np.cov(df[['Temperature', 'Humidity']].T)\n",
    "print(cov_matrix)"
   ]
  }
 ],
 "metadata": {
  "kernelspec": {
   "display_name": "Python 3",
   "language": "python",
   "name": "python3"
  },
  "language_info": {
   "codemirror_mode": {
    "name": "ipython",
    "version": 3
   },
   "file_extension": ".py",
   "mimetype": "text/x-python",
   "name": "python",
   "nbconvert_exporter": "python",
   "pygments_lexer": "ipython3",
   "version": "3.11.1"
  },
  "orig_nbformat": 4
 },
 "nbformat": 4,
 "nbformat_minor": 2
}
