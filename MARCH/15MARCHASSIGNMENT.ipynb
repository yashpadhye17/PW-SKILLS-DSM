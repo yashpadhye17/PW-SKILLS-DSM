{
 "cells": [
  {
   "attachments": {},
   "cell_type": "markdown",
   "metadata": {},
   "source": [
    "# 15 MARCH ASSIGNMENT"
   ]
  },
  {
   "attachments": {},
   "cell_type": "markdown",
   "metadata": {},
   "source": [
    "<u>Q1: Explain the following with an example:\n",
    "1. Artificial Intelligence\n",
    "2. Machine Learning\n",
    "3. Deep Learning</u>"
   ]
  },
  {
   "attachments": {},
   "cell_type": "markdown",
   "metadata": {},
   "source": [
    "A) Artificial intelligence (AI) is the emulation of human intellect in computers built to do activities that normally require human intelligence, such as visual perception, speech recognition, decision-making, and language translation.\n",
    "\n",
    "An AI-powered chatbot that can have a conversation with a consumer and answer their inquiries is one type of artificial intelligence.\n",
    "\n",
    "\n",
    "B) Machine Learning (ML) is a branch of artificial intelligence that focuses on constructing algorithms that can learn from and predict data without being explicitly programmed.\n",
    "\n",
    "Image classification is a popular example of machine learning, in which an algorithm is trained to detect and classify photos into multiple categories using labelled training data.\n",
    "\n",
    "C) Deep Learning is a sort of machine learning in which neural networks with numerous layers are trained to extract and learn hierarchical data representations.\n",
    "\n",
    "Image identification is a typical application of deep learning, in which a deep neural network is trained to categorise photos by learning and detecting properties at various levels of abstraction, such as edges, shapes, and textures."
   ]
  },
  {
   "attachments": {},
   "cell_type": "markdown",
   "metadata": {},
   "source": [
    "<u>Q2: What is supervised learning? List some examples of supervised learning.</u>"
   ]
  },
  {
   "attachments": {},
   "cell_type": "markdown",
   "metadata": {},
   "source": [
    "Supervised learning is a sort of machine learning in which the algorithm learns from labelled data in order to make predictions or choices on new, previously unseen data. During training, the algorithm is given input data and the related output data (or labels), and the algorithm attempts to understand the underlying link between them.\n",
    "\n",
    "These are some examples of supervised learning:\n",
    "\n",
    "Image Classification: Using labelled training data, an algorithm is trained to categorise photos into several categories.\n",
    "\n",
    "Sentiment Analysis: An algorithm is taught to assess and categorise text data (such as customer reviews) into positive, negative, or neutral sentiment categories."
   ]
  },
  {
   "attachments": {},
   "cell_type": "markdown",
   "metadata": {},
   "source": [
    "<u>Q3:What is Unsupervised Learning? List some examples of unsupervised learning.</u>"
   ]
  },
  {
   "attachments": {},
   "cell_type": "markdown",
   "metadata": {},
   "source": [
    "Unsupervised learning is a subset of machine learning in which the algorithm learns from unlabeled data in order to uncover patterns, structures, and correlations in the data without any prior knowledge or direction.\n",
    "\n",
    "Unsupervised learning examples include:\n",
    "\n",
    "Clustering is the process of grouping comparable data points together based on their similarity or distance.\n",
    "\n",
    "Dimensionality reduction is the process of reducing the amount of characteristics in data by detecting and removing superfluous or duplicate features."
   ]
  },
  {
   "attachments": {},
   "cell_type": "markdown",
   "metadata": {},
   "source": [
    "<u>Q4: What is the difference between AI, ML, DL, and DS?</u>"
   ]
  },
  {
   "attachments": {},
   "cell_type": "markdown",
   "metadata": {},
   "source": [
    "The creation of intelligent systems capable of performing activities that normally require human intellect, including as perception, reasoning, decision-making, and natural language processing, is referred to as AI.\n",
    "\n",
    "ML is an AI subfield that focuses on creating algorithms that can learn from data without being explicitly programmed. ML algorithms are intended to generate predictions or judgements on previously unknown data based on patterns discovered in labelled or unlabeled training data.\n",
    "\n",
    "DL is a subclass of ML that extracts and learns hierarchical data representations using neural networks with several layers. DL algorithms are meant to learn complicated and abstract data representations that can increase prediction or judgement accuracy.\n",
    "\n",
    "Data science is a vast discipline that includes all parts of the data life cycle, from data collecting, cleaning, and processing to data analysis, visualisation, and interpretation. To extract insights from data and guide business choices, DS use a variety of tools, techniques, and algorithms from statistics, machine learning, and computer science."
   ]
  },
  {
   "attachments": {},
   "cell_type": "markdown",
   "metadata": {},
   "source": [
    "<u>Q5: What are the main differences between supervised, unsupervised and semi-supervised learning?</u>"
   ]
  },
  {
   "attachments": {},
   "cell_type": "markdown",
   "metadata": {},
   "source": [
    "The following are the primary distinctions between supervised, unsupervised, and semi-supervised learning:\n",
    "\n",
    "Supervised Learning: The algorithm learns from labelled data to make predictions or choices on fresh, unseen data in supervised learning. During training, the algorithm is given input data and associated output data (or labels). The goal is to discover the underlying link between input and output data.\n",
    "\n",
    "Unsupervised Learning: In unsupervised learning, the algorithm discovers patterns, structures, and correlations in unlabeled data without any prior knowledge or assistance. The goal is to discover hidden structures or patterns in the data.\n",
    "\n",
    "Semi-Supervised Learning: The algorithm learns from both labelled and unlabeled input in semi-supervised learning. The goal is to increase the algorithm's accuracy by combining the advantages of supervised and unsupervised learning. This method is beneficial when labelled data is scarce or too expensive to gather."
   ]
  },
  {
   "attachments": {},
   "cell_type": "markdown",
   "metadata": {},
   "source": [
    "<u>Q6:What is train, test and validation split? Explain the importance of each term</u>"
   ]
  },
  {
   "attachments": {},
   "cell_type": "markdown",
   "metadata": {},
   "source": [
    "A train, test, and validation split is a typical strategy in machine learning for evaluating model performance. The method entails dividing the available data into three distinct sets: a training set, a validation set, and a test set.\n",
    "\n",
    "\n",
    "The following terms are important in the train, test, and validation split:\n",
    "\n",
    "* The training set is utilised to train the model by reducing the loss function. During training, the model's parameters are changed with the goal of minimising the gap between the model's anticipated output and the actual output on the training data.\n",
    "\n",
    "* The validation set is used to assess the model's performance during training. It is used to fine-tune the model's hyperparameters as well as to determine whether the model is overfitting or underfitting the data. Overfitting happens when a model fits the training data too well but fails to generalise adequately to new, previously unknown data. When a model is overly simplistic, it fails to capture the underlying patterns in the data.\n",
    "\n",
    "* The test set is used to evaluate the model's ultimate performance. Its purpose is to offer an unbiased estimate of the model's performance on fresh, previously unknown data. It is critical to assess the model's performance on the test set to guarantee that it can generalise effectively to new data."
   ]
  },
  {
   "attachments": {},
   "cell_type": "markdown",
   "metadata": {},
   "source": [
    "<u> Q7: How can unsupervised learning be used in anomaly detection?</u>"
   ]
  },
  {
   "attachments": {},
   "cell_type": "markdown",
   "metadata": {},
   "source": [
    "Unsupervised learning may be used to discover anomalies since it allows us to detect patterns in data without the requirement for labelled data or previous knowledge of what makes an abnormality. An anomaly, also known as an outlier, is a data point that deviates greatly from the system's expected behaviour.\n",
    "\n",
    "Clustering is a typical unsupervised learning approach used in anomaly identification. Clustering techniques aggregate comparable data points into clusters, allowing anomalies such as data points that do not belong to any cluster or belong to a small cluster with very few data points to be easily discovered.\n",
    "\n",
    "Dimensionality reduction is another approach used in unsupervised anomaly detection. Dimensionality reduction approaches lower the amount of dimensions in data while retaining the most essential dimensions."
   ]
  },
  {
   "attachments": {},
   "cell_type": "markdown",
   "metadata": {},
   "source": [
    "<u>Q8:List down some commmonly used supervisedd learning algorithms and unsupervised learning\n",
    "algorithms.</u>"
   ]
  },
  {
   "attachments": {},
   "cell_type": "markdown",
   "metadata": {},
   "source": [
    "Supervised Learning Algorithms:\n",
    "\n",
    "1. Linear Regression\n",
    "2. Logistic Regression\n",
    "3. Decision Tree\n",
    "4. Random Forest\n",
    "5. Support Vector Machine (SVM)\n",
    "\n",
    "Unsupervised Learning Algorithms:\n",
    "\n",
    "1. K-Means Clustering\n",
    "2. Hierarchical Clustering\n",
    "3. Principal Component Analysis (PCA)\n",
    "4. Independent Component Analysis (ICA)"
   ]
  },
  {
   "cell_type": "markdown",
   "metadata": {},
   "source": []
  }
 ],
 "metadata": {
  "kernelspec": {
   "display_name": "Python 3",
   "language": "python",
   "name": "python3"
  },
  "language_info": {
   "name": "python",
   "version": "3.11.1"
  },
  "orig_nbformat": 4
 },
 "nbformat": 4,
 "nbformat_minor": 2
}
