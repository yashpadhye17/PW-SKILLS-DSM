{
 "cells": [
  {
   "attachments": {},
   "cell_type": "markdown",
   "metadata": {},
   "source": [
    "# 7 MARCH ASSIGNMENT"
   ]
  },
  {
   "attachments": {},
   "cell_type": "markdown",
   "metadata": {},
   "source": [
    "Q1. What are the three measures of central tendency?"
   ]
  },
  {
   "attachments": {},
   "cell_type": "markdown",
   "metadata": {},
   "source": [
    "The three measurements of central tendency are as follows:\n",
    "\n",
    "* The mean is the arithmetic mean of all the values in the dataset. It is determined by adding all of the values and dividing by the total number of values.\n",
    "\n",
    "* The median is the middle value in the dataset when the values are ordered. If the number of values is even, the median is the average of the two middle values.\n",
    "\n",
    "* The mode is the value that appears the most frequently in the dataset."
   ]
  },
  {
   "attachments": {},
   "cell_type": "markdown",
   "metadata": {},
   "source": [
    "Q2. What is the difference between the mean, median, and mode? How are they used to measure the\n",
    "central tendency of a dataset?"
   ]
  },
  {
   "attachments": {},
   "cell_type": "markdown",
   "metadata": {},
   "source": [
    "The mean is the sum of all the values in the dataset. It is determined by adding all of the values and dividing by the total number of values. The mean is a typical measure of central tendency that may be used to describe a dataset with a normal distribution or when there are no extreme values or outliers.\n",
    "\n",
    "When the values are placed in order, the median is the middle value in the dataset. If the number of values is even, the median is the average of the two middle values. The median is a more robust measure of central tendency than the mean and is less vulnerable to outliers. It is beneficial when the dataset contains outliers.\n",
    "\n",
    "The mode is the most often occurring value in the collection. The mode may be used to find the most frequent value or values in a dataset. It describes the core trend of categorical or nominal data."
   ]
  },
  {
   "attachments": {},
   "cell_type": "markdown",
   "metadata": {},
   "source": [
    "Q3. Measure the three measures of central tendency for the given height data"
   ]
  },
  {
   "cell_type": "code",
   "execution_count": 2,
   "metadata": {},
   "outputs": [],
   "source": [
    "l=[178,177,176,177,178.2,178,175,179,180,175,178.9,176.2,177,172.5,178,176.5]"
   ]
  },
  {
   "cell_type": "code",
   "execution_count": 3,
   "metadata": {},
   "outputs": [],
   "source": [
    "import numpy as np"
   ]
  },
  {
   "cell_type": "code",
   "execution_count": 4,
   "metadata": {},
   "outputs": [
    {
     "name": "stdout",
     "output_type": "stream",
     "text": [
      "Mean = 177.01875\n"
     ]
    }
   ],
   "source": [
    "print(\"Mean =\",np.mean(l))"
   ]
  },
  {
   "cell_type": "code",
   "execution_count": 5,
   "metadata": {},
   "outputs": [
    {
     "name": "stdout",
     "output_type": "stream",
     "text": [
      "Median = 177.0\n"
     ]
    }
   ],
   "source": [
    "print(\"Median =\",np.median(l))"
   ]
  },
  {
   "cell_type": "code",
   "execution_count": 6,
   "metadata": {},
   "outputs": [
    {
     "name": "stdout",
     "output_type": "stream",
     "text": [
      "Mode = ModeResult(mode=array([177.]), count=array([3]))\n"
     ]
    },
    {
     "name": "stderr",
     "output_type": "stream",
     "text": [
      "C:\\Users\\yashp\\AppData\\Local\\Temp\\ipykernel_12496\\4079563173.py:2: FutureWarning: Unlike other reduction functions (e.g. `skew`, `kurtosis`), the default behavior of `mode` typically preserves the axis it acts along. In SciPy 1.11.0, this behavior will change: the default value of `keepdims` will become False, the `axis` over which the statistic is taken will be eliminated, and the value None will no longer be accepted. Set `keepdims` to True or False to avoid this warning.\n",
      "  print(\"Mode =\",stats.mode(l))\n"
     ]
    }
   ],
   "source": [
    "from scipy import stats\n",
    "print(\"Mode =\",stats.mode(l))"
   ]
  },
  {
   "attachments": {},
   "cell_type": "markdown",
   "metadata": {},
   "source": [
    "Q4. Find the standard deviation for the given data."
   ]
  },
  {
   "cell_type": "code",
   "execution_count": 7,
   "metadata": {},
   "outputs": [],
   "source": [
    "l2=[178,177,176,177,178.2,178,175,179,180,175,178.9,176.2,177,172.5,178,176.5]"
   ]
  },
  {
   "cell_type": "code",
   "execution_count": 8,
   "metadata": {},
   "outputs": [
    {
     "name": "stdout",
     "output_type": "stream",
     "text": [
      "Standard Deviation=  1.7885814036548633\n"
     ]
    }
   ],
   "source": [
    "print(\"Standard Deviation= \",np.std(l2))"
   ]
  },
  {
   "attachments": {},
   "cell_type": "markdown",
   "metadata": {},
   "source": [
    "Q5. How are measures of dispersion such as range, variance, and standard deviation used to describe\n",
    "the spread of a dataset? Provide an example."
   ]
  },
  {
   "attachments": {},
   "cell_type": "markdown",
   "metadata": {},
   "source": [
    "Dispersion measures such as range, variance, and standard deviation are used to describe a dataset's spread or variability. They indicate how far the data points deviate from the central trend and how much they differ from one another.\n",
    "\n",
    "The range of a dataset is the difference between its highest and minimum values. It is a quick and straightforward technique to depict data distribution, however it is not highly resistant to outliers or extreme values.\n",
    "\n",
    "The variance is the sum of the squared deviations between each value and the mean. It calculates how much the data points differ from the mean. When the data is regularly distributed or symmetric, the variance might be a helpful measure of dispersion.\n",
    "\n",
    "The square root of the variance is the standard deviation. Because it is in the same units as the original data and is easier to read, it is frequently used instead of the variance. The standard deviation measures how much each data point deviates from the mean on average."
   ]
  },
  {
   "attachments": {},
   "cell_type": "markdown",
   "metadata": {},
   "source": [
    "Q6. What is a Venn diagram?"
   ]
  },
  {
   "attachments": {},
   "cell_type": "markdown",
   "metadata": {},
   "source": [
    "A Venn diagram depicts the connections between groups of components graphically. It is made out of overlapping circles or other shapes, each of which symbolises a set, and the overlap represents the intersection of the sets. The Venn diagram was named after mathematician John Venn, who invented it in the late 1800s.\n",
    "\n",
    "Venn diagrams are often used to explain the links between distinct sets of data in mathematics, statistics, logic, and other subjects. They may be used to organise and visualise complicated information, as well as to find similarities and differences between sets."
   ]
  },
  {
   "attachments": {},
   "cell_type": "markdown",
   "metadata": {},
   "source": [
    "Q7. For the two given sets A = (2,3,4,5,6,7) & B = (0,2,6,8,10). Find:\n",
    "(i) A ⋂ B\n",
    "(ii) A ⋃ B"
   ]
  },
  {
   "cell_type": "code",
   "execution_count": 9,
   "metadata": {},
   "outputs": [
    {
     "name": "stdout",
     "output_type": "stream",
     "text": [
      "Intersection of A and B: {2, 6}\n",
      "Union of A and B: {0, 2, 3, 4, 5, 6, 7, 8, 10}\n"
     ]
    }
   ],
   "source": [
    "A = {2, 3, 4, 5, 6, 7}\n",
    "B = {0, 2, 6, 8, 10}\n",
    "\n",
    "intersection = A.intersection(B)\n",
    "print(\"Intersection of A and B:\", intersection)\n",
    "\n",
    "union = A.union(B)\n",
    "print(\"Union of A and B:\", union)"
   ]
  },
  {
   "attachments": {},
   "cell_type": "markdown",
   "metadata": {},
   "source": [
    "Q8. What do you understand about skewness in data?"
   ]
  },
  {
   "attachments": {},
   "cell_type": "markdown",
   "metadata": {},
   "source": [
    "Skewness is a measure of the asymmetry of a distribution of data. In a symmetrical distribution, the values on the left side of the distribution are roughly the same as the values on the right side of the distribution. In an asymmetrical distribution, the values on one side of the distribution are different from the values on the other side.\n",
    "\n",
    "Skewness is measured using the skewness coefficient, which can be positive, negative, or zero. A positive skewness coefficient indicates that the distribution is skewed to the right, meaning that the tail of the distribution is longer on the right side than on the left side. A negative skewness coefficient indicates that the distribution is skewed to the left, meaning that the tail of the distribution is longer on the left side than on the right side. A skewness coefficient of zero indicates that the distribution is symmetrical.\n",
    "\n",
    "Skewness can have an impact on statistical analysis because it can affect the interpretation of measures of central tendency and variability. For example, in a positively skewed distribution, the mean may be higher than the median, because the long tail on the right side of the distribution pulls the mean in that direction. This can affect how we interpret the average value of the data.\n",
    "\n",
    "It is important to identify skewness in data because it can impact the choice of statistical tests and models used to analyze the data. For example, in a skewed distribution, the median may be a more appropriate measure of central tendency than the mean, and non-parametric statistical tests may be more appropriate than parametric tests."
   ]
  },
  {
   "attachments": {},
   "cell_type": "markdown",
   "metadata": {},
   "source": [
    "Q9. If a data is right skewed then what will be the position of median with respect to mean?"
   ]
  },
  {
   "attachments": {},
   "cell_type": "markdown",
   "metadata": {},
   "source": [
    "When data is skewed to the right, the median is smaller than the mean.\n",
    "\n",
    "A right-skewed distribution has a larger tail on the right side of the graph than the tail on the left, and the mean is often dragged towards the longer tail. This signifies that the mean is bigger than the median, which is the value that divides the data into the upper and lower halves"
   ]
  },
  {
   "attachments": {},
   "cell_type": "markdown",
   "metadata": {},
   "source": [
    "Q10. Explain the difference between covariance and correlation. How are these measures used in\n",
    "statistical analysis?"
   ]
  },
  {
   "attachments": {},
   "cell_type": "markdown",
   "metadata": {},
   "source": [
    "Both covariance and correlation are measurements of the connection between two variables, but their meaning and scale of measurement differ.\n",
    "\n",
    "The covariance of two variables measures how much they fluctuate together. It quantifies the combined variability of two random variables. If the covariance between two variables is positive, it indicates that they tend to rise or decrease together, whereas a negative covariance indicates that they tend to move in opposing ways.\n",
    "\n",
    "Correlation, on the other hand, assesses the strength and direction of a two-variable linear relationship. It is a standardised form of covariance with a value ranging from -1 to 1, with 0 indicating no correlation, -1 representing perfect negative correlation, and 1 showing perfect positive correlation. Since correlation is unitless, it may be used to compare the strength of correlations between various pairs of variables."
   ]
  },
  {
   "attachments": {},
   "cell_type": "markdown",
   "metadata": {},
   "source": [
    "Q11. What is the formula for calculating the sample mean? Provide an example calculation for a\n",
    "dataset."
   ]
  },
  {
   "attachments": {},
   "cell_type": "markdown",
   "metadata": {},
   "source": [
    "The formula for calculating the sample mean is:\n",
    "\n",
    "x̄ = (Σxi) / n\n",
    "\n",
    "where x̄ is the sample mean, Σxi is the sum of all the observatio"
   ]
  },
  {
   "cell_type": "code",
   "execution_count": 10,
   "metadata": {},
   "outputs": [],
   "source": [
    "import seaborn as sns "
   ]
  },
  {
   "cell_type": "code",
   "execution_count": 15,
   "metadata": {},
   "outputs": [],
   "source": [
    "df=sns.load_dataset('iris')"
   ]
  },
  {
   "cell_type": "code",
   "execution_count": 16,
   "metadata": {},
   "outputs": [
    {
     "name": "stderr",
     "output_type": "stream",
     "text": [
      "C:\\Users\\yashp\\AppData\\Local\\Temp\\ipykernel_12496\\3698961737.py:1: FutureWarning: The default value of numeric_only in DataFrame.mean is deprecated. In a future version, it will default to False. In addition, specifying 'numeric_only=None' is deprecated. Select only valid columns or specify the value of numeric_only to silence this warning.\n",
      "  df.mean()\n"
     ]
    },
    {
     "data": {
      "text/plain": [
       "sepal_length    5.843333\n",
       "sepal_width     3.057333\n",
       "petal_length    3.758000\n",
       "petal_width     1.199333\n",
       "dtype: float64"
      ]
     },
     "execution_count": 16,
     "metadata": {},
     "output_type": "execute_result"
    }
   ],
   "source": [
    "df.mean()"
   ]
  },
  {
   "attachments": {},
   "cell_type": "markdown",
   "metadata": {},
   "source": [
    "Q12. For a normal distribution data what is the relationship between its measure of central tendency?"
   ]
  },
  {
   "attachments": {},
   "cell_type": "markdown",
   "metadata": {},
   "source": [
    "The mean, median, and mode of a normal distribution are all equal and indicate the distribution's centre. This is because a normal distribution is symmetric around its mean, and the mean is the distribution's balancing point."
   ]
  },
  {
   "attachments": {},
   "cell_type": "markdown",
   "metadata": {},
   "source": [
    "Q13. How is covariance different from correlation?"
   ]
  },
  {
   "attachments": {},
   "cell_type": "markdown",
   "metadata": {},
   "source": [
    "Differences between correlation and covariance:\n",
    "\n",
    "* Covariance measures the joint variability of two variables, while correlation measures the strength and direction of the linear relationship between them.\n",
    "* Covariance has units of measurement, while correlation is unitless.\n",
    "* Correlation ranges from -1 to 1, while covariance can take any value."
   ]
  },
  {
   "attachments": {},
   "cell_type": "markdown",
   "metadata": {},
   "source": [
    "Q14. How do outliers affect measures of central tendency and dispersion? Provide an example."
   ]
  },
  {
   "attachments": {},
   "cell_type": "markdown",
   "metadata": {},
   "source": [
    "Outliers can skew the distribution and affect the usual values of the data, which can have a major impact on measurements of central tendency and dispersion.\n",
    "\n",
    "Outliers can have a particularly big influence on the mean when it comes to measurements of central tendency, because the mean is sensitive to extreme values. This is due to the fact that the mean is computed by adding all of the values in the dataset and dividing by the number of values, thus any extreme value will have a disproportionate influence on the final result. As a result, the mean might be drawn towards the outlier, away from the bulk of the data, and may not be an accurate reflection of the data's average value.The median and mean, on the other hand, are less impacted by outliers since they are based on the rank or frequency of the data rather than its actual values."
   ]
  },
  {
   "attachments": {},
   "cell_type": "markdown",
   "metadata": {},
   "source": [
    "Take, for example, the following test score dataset:\n",
    "\n",
    "{60, 65, 70, 75, 80, 85, 90, 95, 100, 150}\n",
    "\n",
    "The value 150 is an outlier in this dataset since it is substantially greater than the other values. When we take the mean of this dataset, we get:\n",
    "\n",
    "mean = (60 + 65 + 70 + 75 + 80 + 85 + 90 + 95 + 100 + 150) / 10 = 89\n",
    "\n",
    "Because of the outlier's effect, the mean is much higher than the remainder of the data. When we use the median instead, we get:\n",
    "\n",
    "85 is the median value.\n",
    "\n",
    "Because it is unaffected by the outlier, the median provides a better reflection of the average value of the data."
   ]
  }
 ],
 "metadata": {
  "kernelspec": {
   "display_name": "Python 3",
   "language": "python",
   "name": "python3"
  },
  "language_info": {
   "codemirror_mode": {
    "name": "ipython",
    "version": 3
   },
   "file_extension": ".py",
   "mimetype": "text/x-python",
   "name": "python",
   "nbconvert_exporter": "python",
   "pygments_lexer": "ipython3",
   "version": "3.11.1"
  },
  "orig_nbformat": 4
 },
 "nbformat": 4,
 "nbformat_minor": 2
}
