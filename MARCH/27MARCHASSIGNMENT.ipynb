{
 "cells": [
  {
   "attachments": {},
   "cell_type": "markdown",
   "metadata": {},
   "source": [
    "# 27 MARCH ASSIGNMENT"
   ]
  },
  {
   "attachments": {},
   "cell_type": "markdown",
   "metadata": {},
   "source": [
    "Q1. Explain the concept of R-squared in linear regression models. How is it calculated, and what does it\n",
    "represent?"
   ]
  },
  {
   "attachments": {},
   "cell_type": "markdown",
   "metadata": {},
   "source": [
    "In a linear regression model, R-squared reflects the proportion of variance in the dependent variable (Y) that is explained by the independent variable(s) (X). It's also referred to as the coefficient of determination.\n",
    "\n",
    "The R-squared value ranges from 0 to 1, with higher values suggesting that the regression line fits the data better. An R-squared value of one implies that the independent variable(s) explain all of the variance in the dependent variable, whereas a value of zero shows that the independent variable(s) do not explain any variation in the dependent variable.\n",
    "\n",
    "R-squared is determined as the ratio of the entire sum of squares to the sum of squared errors (SSE) (SST). SSE is the sum of the squared differences between the predicted and actual values of the dependent variable, whereas SST is the sum of the squared differences between the actual values and the dependent variable's mean. R-squared may be determined mathematically as follows:\n",
    "\n",
    "R-squared = 1 - (SSE / SST)\n",
    "\n",
    "An R-squared value of 0.70, for example, shows that the independent variable(s) in the model explain 70% of the variance in the dependent variable, while the remaining 30% is attributable to other factors not included in the model."
   ]
  },
  {
   "attachments": {},
   "cell_type": "markdown",
   "metadata": {},
   "source": [
    "Q2. Define adjusted R-squared and explain how it differs from the regular R-squared."
   ]
  },
  {
   "attachments": {},
   "cell_type": "markdown",
   "metadata": {},
   "source": [
    "The number of independent variables in a regression model is taken into account. Unlike regular R-squared, which only rises when more independent variables are added to the model, adjusted R-squared might fall if adding more independent variables does not enhance model fit sufficiently.\n",
    "\n",
    "R-squared adjusted is determined as follows:\n",
    "\n",
    "Adjusted R-squared = 1 - [(1-R²) * (n-1)/(n-k-1)]\n",
    "\n",
    "where n is the number of observations in the model and k is the number of independent variables.\n",
    "\n",
    "The modified R-squared formula penalises the addition of extra independent variables to the model. The penalty becomes more severe as the number of independent variables rises, which means that the adjusted R-squared value will fall if the additional independent variables do not enhance the model fit sufficiently to compensate for the penalty.\n",
    "\n",
    "In other words, by correcting for the number of independent variables, adjusted R-squared gives a more conservative estimate of a regression model's goodness of fit, and it can be a more accurate measure of model performance when comparing models with various numbers of independent variables.\n",
    "\n",
    "Nevertheless, modified R-squared, like R-squared, is not a perfect measure of model fit, and other criteria should be considered when assessing a model's applicability."
   ]
  },
  {
   "attachments": {},
   "cell_type": "markdown",
   "metadata": {},
   "source": [
    "Q3. When is it more appropriate to use adjusted R-squared?"
   ]
  },
  {
   "attachments": {},
   "cell_type": "markdown",
   "metadata": {},
   "source": [
    "When comparing regression models with differing numbers of independent variables, it is often preferable to use adjusted R-squared rather than ordinary R-squared. This is due to the fact that the adjusted R-squared considers the number of independent variables in the model and penalises the inclusion of new variables that do not significantly enhance model fit.\n",
    "\n",
    "When the number of independent variables in the model is big or there are numerous possible independent variables to pick from, adjusted R-squared is very beneficial. In such instances, the conventional R-squared may offer a deceptive measure of the model's goodness of fit, since it tends to grow when additional independent variables are included, even if these variables do not materially enhance the model fit.\n",
    "\n",
    "Consider a regression model with ten independent variables, only three of which are significant predictors of the dependent variable. Because of the enormous number of independent variables, the conventional R-squared would be rather high in this scenario, even if the majority of them do not contribute much to model fit. The adjusted R-squared, on the other hand, would be smaller, reflecting the fact that just a few independent factors are significant predictors of the dependent variable.\n",
    "\n",
    "In conclusion, when comparing models with varying numbers of independent variables, adjusted R-squared is a more acceptable measure of model fit, and it aids in avoiding overfitting and selecting the most parsimonious model that best fits the data."
   ]
  },
  {
   "attachments": {},
   "cell_type": "markdown",
   "metadata": {},
   "source": [
    "Q4. What are RMSE, MSE, and MAE in the context of regression analysis? How are these metrics\n",
    "calculated, and what do they represent?"
   ]
  },
  {
   "attachments": {},
   "cell_type": "markdown",
   "metadata": {},
   "source": [
    "The RMSE, MSE, and MAE metrics are frequently used to assess the accuracy of regression models. These metrics are used to calculate the difference between the expected and actual values of a dependent variable.\n",
    "\n",
    "1. RMSE (Root Mean Squared Error): RMSE is a measure of the average gap between anticipated and actual dependent variable values. The square root of the average of the squared discrepancies between the predicted and actual values of the dependent variable is used to compute the RMSE. RMSE may be computed mathematically as:\n",
    "\n",
    "RMSE = sqrt(1/n * sum((Yi - Y^i)^2))\n",
    "\n",
    "where Yi is the actual value of the dependent variable, Y^i is the predicted value of the dependent variable, and n is the number of observations.\n",
    "\n",
    "The root mean square error (RMSE) is a common statistic since it penalises large mistakes more severely than minor ones. It is also represented in the same units as the dependent variable, making it simple to understand.\n",
    "\n",
    "\n",
    "2. MSE (Mean Squared Error): MSE is another measure of the average gap between anticipated and actual dependent variable values. MSE, on the other hand, does not take the square root of the average of the squared differences, as RMSE does. MSE may be determined mathematically as follows:\n",
    "\n",
    "MSE = 1/n * sum((Yi - Y^i)^2)\n",
    "\n",
    "MSE is also expressed in the units of the dependent variable, but it is not as easy to interpret as RMSE because it is not in the same units as the dependent variable.\n",
    "\n",
    "3. MAE (Mean Absolute Error): The average absolute distance between the anticipated and actual values of the dependent variable is measured by MAE. The MAE is derived by averaging the absolute differences between the anticipated and actual values of the dependent variable. MAE can be calculated mathematically as follows:\n",
    "\n",
    "MAE = 1/n * sum(abs(Yi - Y^i))\n",
    "\n",
    "MAE is expressed in the same units as the dependent variable, making it easy to interpret."
   ]
  },
  {
   "attachments": {},
   "cell_type": "markdown",
   "metadata": {},
   "source": [
    "Q5. Discuss the advantages and disadvantages of using RMSE, MSE, and MAE as evaluation metrics in\n",
    "regression analysis."
   ]
  },
  {
   "attachments": {},
   "cell_type": "markdown",
   "metadata": {},
   "source": [
    "### RMSE has the following advantages:\n",
    "\n",
    "* The root mean square error (RMSE) is a common statistic because it penalises big mistakes more severely than small errors, making it more sensitive to outliers.\n",
    "* The fact that RMSE is stated in the same units as the dependent variable makes it simple to read and compare across models.\n",
    "\n",
    "### RMSE disadvantages:\n",
    "\n",
    "* If the goal is to minimise the average absolute error rather than the average squared error, RMSE may not be acceptable.\n",
    "* RMSE is more sensitive to outliers than MSE or MAE, which may not be desirable in many cases.\n",
    "\n",
    "### MSE has the following advantages:\n",
    "\n",
    "* MSE is a popular statistic since it is a basic and uncomplicated metric to calculate.\n",
    "* MSE is stated in dependent variable units, making it simple to read and compare across models.\n",
    "### MSE disadvantages:\n",
    "\n",
    "* If the goal is to minimise the average absolute error rather than the average squared error, MSE may not be acceptable.\n",
    "* MSE is less susceptible to outliers than RMSE, which may be a benefit in some situations.\n",
    "\n",
    "\n",
    "### MAE has the following advantages:\n",
    "\n",
    "* MAE is a straightforward and reliable statistic that is less susceptible to outliers than RMSE or MSE.\n",
    "* MAE is represented in the same units as the dependent variable, making it simple to read and compare.\n",
    "### MAE disadvantages:\n",
    "\n",
    "* If the goal is to minimise the average squared error rather than the average absolute error, MAE may not be acceptable.\n",
    "* MAE may be less susceptible to minor mistakes than RMSE or MSE."
   ]
  },
  {
   "attachments": {},
   "cell_type": "markdown",
   "metadata": {},
   "source": [
    "Q6. Explain the concept of Lasso regularization. How does it differ from Ridge regularization, and when is\n",
    "it more appropriate to use?"
   ]
  },
  {
   "attachments": {},
   "cell_type": "markdown",
   "metadata": {},
   "source": [
    "Lasso regularisation (Least Absolute Shrinkage and Selection Operator) is a technique used in linear regression to reduce overfitting and improve the model's generalisation performance. Lasso regression augments the loss function with a penalty term proportional to the absolute value of the coefficients. Because of this penalty term, some of the coefficients are forced to be set to zero, resulting in a sparse model that chooses just the most relevant characteristics.\n",
    "\n",
    "Ridge regularisation, in contrast to Lasso, adds a penalty term to the loss function that is proportional to the square of the coefficients. This penalty term makes the coefficients modest but does not make any of them zero. Ridge regularisation is preferable when all characteristics are assumed to be useful and contribute to the output, but their weights must be reduced to zero to avoid overfitting.\n",
    "\n",
    "The sort of penalty term introduced to the loss function is the primary distinction between Lasso and Ridge regularisation. Ridge utilises L2 regularisation, which results in a solution with tiny but non-zero coefficients. Lasso uses L1 regularisation, which results in a sparse solution with some coefficients set to zero.\n",
    "\n",
    "It is critical to evaluate the sparsity of the solution and the relevance of feature selection when determining whether to employ Lasso or Ridge regularisation. When there are numerous characteristics and just a few are considered to be essential, or where feature selection is critical for interpretability, Lasso is more suited. Ridge is better suited when all characteristics are assumed to be useful and contribute to the output, but their weights must be reduced to zero to avoid overfitting.\n",
    "\n",
    "In summary, Lasso and Ridge regularisation are two prevalent strategies in linear regression that are used to reduce overfitting and improve the model's generalisation performance. When feature selection is critical and the solution is expected to be sparse, Lasso is more suited, but Ridge is more appropriate when all features are considered to be useful but their weights need to be decreased towards zero."
   ]
  },
  {
   "attachments": {},
   "cell_type": "markdown",
   "metadata": {},
   "source": [
    "Q7. How do regularized linear models help to prevent overfitting in machine learning? Provide an\n",
    "example to illustrate."
   ]
  },
  {
   "attachments": {},
   "cell_type": "markdown",
   "metadata": {},
   "source": [
    "Regularized linear models avoid overfitting by including a penalty term in the loss function that discourages high coefficients. This penalty term aids in shrinking the coefficients towards zero, lowering the model's complexity and preventing it from fitting the noise in the training data.\n",
    "\n",
    "Consider the challenge of forecasting house prices with a linear regression model. If we have a dataset with 1000 samples and 100 attributes, and we want to forecast the price of a property based on its features using linear regression. Without regularisation, the model may overfit the training data by assigning high weights to characteristics that are unimportant for prediction. As a result, a model that performs well on training data may perform badly on fresh, unknown data.\n",
    "\n",
    "Regularized linear models, such as Lasso or Ridge regression, can be used to avoid overfitting. For example, Lasso regression may be used by adding a penalty term to the loss function that is proportional to the absolute value of the coefficients. This penalty term pushes the model to choose just the most significant characteristics while setting the weights of the less important elements to zero. As a result, the model is simpler and more interpretable, and it is less prone to overfit the data.\n",
    "\n",
    "In reality, we may modify the penalty term's severity by adjusting a hyperparameter known as the regularisation parameter. A smaller regularisation parameter value results in less regularisation and a more complicated model, whereas a greater value results in more regularisation and a simpler model. Cross-validation may be used to find the best value for the regularisation parameter.\n",
    "\n",
    "Ultimately, by balancing the trade-off between model complexity and model performance, regularised linear models provide a valuable tool for reducing overfitting in machine learning. These models encourage simpler solutions that generalise better to fresh, unknown data by including a penalty factor in the loss function."
   ]
  },
  {
   "attachments": {},
   "cell_type": "markdown",
   "metadata": {},
   "source": [
    "Q8. Discuss the limitations of regularized linear models and explain why they may not always be the best\n",
    "choice for regression analysis."
   ]
  },
  {
   "attachments": {},
   "cell_type": "markdown",
   "metadata": {},
   "source": [
    "Regularized linear models are a strong technique for regression analysis that may assist reduce overfitting and increase model generalisation. However, there are several limits to these models that should be noted before using them.\n",
    "\n",
    "1. Regularized linear models are less interpretable than simple linear regression, especially when L1 regularisation is used, such as Lasso. This is because the penalty term promotes certain coefficients to be set to zero, resulting in a sparse solution that makes interpreting the contribution of each feature to the output more difficult.\n",
    "\n",
    "2. Regularized linear models are still linear models and may be incapable of capturing complicated nonlinear correlations between data and output. Other models, such as decision trees, random forests, or neural networks, may be more suited in circumstances when the connection is severely nonlinear.\n",
    "\n",
    "3. Regularization parameter selection: Choosing a regularisation parameter can be difficult and involves adjustment using cross-validation. Selecting the incorrect number might result in underfitting or overfitting, resulting in poor performance on fresh, unknown data.\n",
    "\n",
    "4. Outliers have an impact on regularised linear models because they are sensitive to outliers in the data, which can affect the values of the coefficients and the regularisation parameter. In such circumstances, robust regression approaches that are less susceptible to outliers, such as Huber regression, may be more suited.\n",
    "\n",
    "5. Big datasets: Regularized linear models can be computationally expensive and time-consuming to train on very large datasets. Stochastic gradient descent or other online learning techniques may be more suited in such instances."
   ]
  },
  {
   "attachments": {},
   "cell_type": "markdown",
   "metadata": {},
   "source": [
    "Q9. You are comparing the performance of two regression models using different evaluation metrics.\n",
    "Model A has an RMSE of 10, while Model B has an MAE of 8. Which model would you choose as the better\n",
    "performer, and why? Are there any limitations to your choice of metric?"
   ]
  },
  {
   "attachments": {},
   "cell_type": "markdown",
   "metadata": {},
   "source": [
    "Choosing between Model A and Model B is dependent on the unique context and aims of the investigation.\n",
    "\n",
    "Model A with an RMSE of 10 may be used to reduce the overall inaccuracy of the model. This measure is appropriate when we wish to penalise huge errors more severely than little ones. Large mistakes, for example, can have a substantial influence on investment decisions when predicting stock prices, and lowering RMSE can lead to more accurate forecasts.\n",
    "\n",
    "Model B, on the other hand, with an MAE of 8, may be used if we wish to reduce the model's average error. This statistic is appropriate when we wish to concentrate on the average magnitude of mistakes regardless of their direction. In the context of forecasting customer happiness, for example, reducing MAE can result in a model that performs well on average across all consumers, rather than focusing on a few outliers with huge errors.\n",
    "\n",
    "Using each measure in isolation has limits. For example, neither RMSE nor MAE account for the model's bias. Moreover, both measures can be influenced by outliers in the data, which can result in exaggerated error levels. As a result, in addition to RMSE and MAE, other evaluation metrics like as R-squared, modified R-squared, and cross-validation should be included to provide a more complete view of the model's performance."
   ]
  },
  {
   "attachments": {},
   "cell_type": "markdown",
   "metadata": {},
   "source": [
    "Q10. You are comparing the performance of two regularized linear models using different types of\n",
    "regularization. Model A uses Ridge regularization with a regularization parameter of 0.1, while Model B\n",
    "uses Lasso regularization with a regularization parameter of 0.5. Which model would you choose as the\n",
    "better performer, and why? Are there any trade-offs or limitations to your choice of regularization\n",
    "method?"
   ]
  },
  {
   "attachments": {},
   "cell_type": "markdown",
   "metadata": {},
   "source": [
    "The choice between Ridge and Lasso regularisation is determined on the context and aims of the study. Both regularisation strategies strive to prevent overfitting and improve the model's generalisation performance, but they do it in different ways.\n",
    "\n",
    "Ridge regularisation introduces a penalty term into the sum of squared coefficients, which causes the coefficients to decrease towards zero while remaining non-zero. This produces a model that is more stable and less susceptible to data changes, although it may not be possible to set some coefficients to exactly zero.\n",
    "\n",
    "In contrast, Lasso regularisation adds a penalty term to the sum of absolute coefficients, which promotes some coefficients to be set to absolutely zero. This produces a more interpretable model that can conduct feature selection by automatically deleting unnecessary characteristics, but it may be less stable and more susceptible to data changes.\n",
    "\n",
    "Model B employs Lasso regularisation with a larger regularisation value of 0.5 in the given case, which may result in a more sparse solution with fewer non-zero coefficients. This is useful when there are a lot of useless characteristics in the dataset that may be deleted without affecting performance. As a result, if interpretability and feature selection are critical goals, we may pick Model B with Lasso regularisation as the best solution.\n",
    "\n",
    "If data stability and sensitivity to changes are more significant, Model A with Ridge regularisation may be the better performance. Lowering the regularisation value to 0.1 results in a more stable model that is less susceptible to changes in the data, but it may not perform feature selection as well as Lasso regularisation.\n",
    "\n",
    "Using any regularisation approach has various trade-offs and limits. Ridge regularisation, for example, might suffer with strongly correlated features, whereas Lasso regularisation can struggle with high-dimensional datasets. Moreover, determining the right regularisation parameter necessitates tweaking and cross-validation, and picking the incorrect value might result in underfitting or overfitting. As a result, it is critical to carefully analyse the unique context and aims of the study, as well as apply proper assessment criteria, in order to make an educated choice."
   ]
  },
  {
   "cell_type": "markdown",
   "metadata": {},
   "source": []
  }
 ],
 "metadata": {
  "language_info": {
   "name": "python"
  },
  "orig_nbformat": 4
 },
 "nbformat": 4,
 "nbformat_minor": 2
}
