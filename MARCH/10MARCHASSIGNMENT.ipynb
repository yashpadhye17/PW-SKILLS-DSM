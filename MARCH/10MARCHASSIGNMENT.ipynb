{
 "cells": [
  {
   "attachments": {},
   "cell_type": "markdown",
   "metadata": {},
   "source": [
    "# 10 MARCH ASSIGNMENT"
   ]
  },
  {
   "attachments": {},
   "cell_type": "markdown",
   "metadata": {},
   "source": [
    "<u>Q1: What is Estimation Statistics? Explain point estimate and interval estimate.</u>"
   ]
  },
  {
   "attachments": {},
   "cell_type": "markdown",
   "metadata": {},
   "source": [
    "Estimation statistics is a branch of statistics concerned with estimating the value of a population parameter (for example, mean, percentage) based on a sample of data.\n",
    "\n",
    "A point estimate is a single number used to approximate an unknown population parameter. It is derived from the sample data and offers an estimate of the population parameter's real value.\n",
    "\n",
    "In contrast, an interval estimate gives a range of values that is likely to contain the real value of the population parameter. The range is stated as an interval or a confidence interval, which is generated from the sample data and offers a measure of the estimate's precision or accuracy."
   ]
  },
  {
   "attachments": {},
   "cell_type": "markdown",
   "metadata": {},
   "source": [
    "<u>Q2. Write a Python function to estimate the population mean using a sample mean and standard\n",
    "deviation.</u>"
   ]
  },
  {
   "cell_type": "code",
   "execution_count": 3,
   "metadata": {},
   "outputs": [],
   "source": [
    "import math\n",
    "def estimate_population_mean(sample_mean, sample_std, sample_size):\n",
    "\n",
    "    std_error = sample_std / math.sqrt(sample_size)\n",
    "    margin_of_error = 1.96 * std_error\n",
    "    lower_bound = sample_mean - margin_of_error\n",
    "    upper_bound = sample_mean + margin_of_error\n",
    "    return (lower_bound + upper_bound) / 2\n"
   ]
  },
  {
   "cell_type": "code",
   "execution_count": 4,
   "metadata": {},
   "outputs": [
    {
     "data": {
      "text/plain": [
       "4.5"
      ]
     },
     "execution_count": 4,
     "metadata": {},
     "output_type": "execute_result"
    }
   ],
   "source": [
    "estimate_population_mean(4.5,1.4,35)"
   ]
  },
  {
   "attachments": {},
   "cell_type": "markdown",
   "metadata": {},
   "source": [
    "<u>Q3: What is Hypothesis testing? Why is it used? State the importance of Hypothesis testing.</u>"
   ]
  },
  {
   "attachments": {},
   "cell_type": "markdown",
   "metadata": {},
   "source": [
    "Hypothesis testing is a statistical tool for determining the veracity of a statement or claim about a population based on a sample of data. It entails forming assumptions about the population, obtaining a sample of data, and evaluating the evidence against the null hypothesis using statistical techniques (i.e., the statement or claim that is being tested).\n",
    "\n",
    "Hypothesis testing is used to answer research questions, assess policies or treatments, and make informed judgements in a variety of sectors, including science, engineering, business, medical, and social sciences. It is a necessary tool for developing objective, evidence-based judgements and reliable inferences from data.\n",
    "\n",
    "Importance of Hypothesis testing are:\n",
    "* Making data-driven judgements: Hypothesis testing provides a systematic method for evaluating evidence in support or opposition to a hypothesis, allowing researchers to make informed conclusions based on objective facts.\n",
    "\n",
    "* Minimize mistakes: Hypothesis testing helps to decrease decision-making errors by offering a systematic technique to assess the quality of evidence and lower the danger of reaching incorrect conclusions.\n",
    "\n",
    "* Increase generalizability: Hypothesis testing improves generalizability by generating assumptions about a population based on a sample of data. This makes research findings more relevant to real-world settings."
   ]
  },
  {
   "attachments": {},
   "cell_type": "markdown",
   "metadata": {},
   "source": [
    "<u>Q4. Create a hypothesis that states whether the average weight of male college students is greater than\n",
    "the average weight of female college students.</u>"
   ]
  },
  {
   "attachments": {},
   "cell_type": "markdown",
   "metadata": {},
   "source": [
    "Null hypothesis: The average weight of male college students is equal to or less than the average weight of female college students.\n",
    "\n",
    "Alternative hypothesis: The average weight of male college students is greater than the average weight of female college students.\n",
    "\n",
    "Symbolically, the null and alternative hypotheses can be represented as:\n",
    "\n",
    "H0: μ_male ≤ μ_female\n",
    "\n",
    "Ha: μ_male > μ_female\n",
    "\n",
    "where H0 is the null hypothesis, Ha is the alternative hypothesis, μ_male is the population mean weight of male college students, and μ_female is the population mean weight of female college students."
   ]
  },
  {
   "attachments": {},
   "cell_type": "markdown",
   "metadata": {},
   "source": [
    "<u>Q5. Write a Python script to conduct a hypothesis test on the difference between two population means,\n",
    "given a sample from each population.</u>"
   ]
  },
  {
   "cell_type": "code",
   "execution_count": 5,
   "metadata": {},
   "outputs": [
    {
     "name": "stdout",
     "output_type": "stream",
     "text": [
      "Fail to reject the null hypothesis\n"
     ]
    }
   ],
   "source": [
    "import numpy as np\n",
    "from scipy.stats import t\n",
    "\n",
    "np.random.seed(123)\n",
    "sample1 = np.random.normal(10, 2, 20)\n",
    "sample2 = np.random.normal(12, 3, 20)\n",
    "\n",
    "mean1 = np.mean(sample1)\n",
    "mean2 = np.mean(sample2)\n",
    "std1 = np.std(sample1, ddof=1)\n",
    "std2 = np.std(sample2, ddof=1)\n",
    "\n",
    "alpha = 0.05\n",
    "df = len(sample1) + len(sample2) - 2\n",
    "\n",
    "\n",
    "t_stat = (mean1 - mean2) / np.sqrt((std1**2 / len(sample1)) + (std2**2 / len(sample2)))\n",
    "p_val = 2 * t.cdf(-np.abs(t_stat), df)\n",
    "\n",
    "\n",
    "if p_val < alpha:\n",
    "    print(\"Reject the null hypothesis\")\n",
    "else:\n",
    "    print(\"Fail to reject the null hypothesis\")"
   ]
  },
  {
   "attachments": {},
   "cell_type": "markdown",
   "metadata": {},
   "source": [
    "<u>Q6: What is a null and alternative hypothesis? Give some examples.</u>"
   ]
  },
  {
   "attachments": {},
   "cell_type": "markdown",
   "metadata": {},
   "source": [
    "The null hypothesis (H0) is a statement or claim about a population that is considered to be true unless evidence reveals otherwise in hypothesis testing. In contrast, the alternative hypothesis (Ha) is a statement or assertion that opposes the null hypothesis and is often the hypothesis of interest.\n",
    "\n",
    "Here are some null and alternative hypothesis examples:\n",
    "\n",
    "For example, a corporation states that their product has a 10-year average lifespan.\n",
    "\n",
    "Null hypothesis: The average lifespan of the product is 10 years.\n",
    "\n",
    "Alternate hypothesis: The product's average lifespan is not ten years."
   ]
  },
  {
   "attachments": {},
   "cell_type": "markdown",
   "metadata": {},
   "source": [
    "<u>Q7: Write down the steps involved in hypothesis testing.</u>"
   ]
  },
  {
   "attachments": {},
   "cell_type": "markdown",
   "metadata": {},
   "source": [
    "Steps involved in hypothesis testing are:\n",
    "* The null and alternative hypotheses must be stated: The first step in hypothesis testing is to present the null and alternative hypotheses. The null hypothesis reflects the current state of affairs or the assumption being tested, whereas the alternative hypothesis represents the claim or hypothesis of interest.\n",
    "\n",
    "\n",
    "* Set the level of significance (alpha): When the null hypothesis is true, the level of significance (alpha) is the highest chance of rejecting it. It is usually set at 0.05, although it can be changed based on the nature of the research topic and the repercussions of committing a type I mistake (rejecting the null hypothesis when it is true).\n",
    "\n",
    "* Choose a test statistic: The test statistic is a numerical number computed from the sample data that is used to assess evidence against the null hypothesis. The test statistic chosen is determined by the study topic, the type of data, and the demographic assumptions.\n",
    "\n",
    "* Calculate the critical value: The critical value is the test statistic value that distinguishes the rejection region (where the null hypothesis is rejected) from the non-rejection zone (where the null hypothesis is not rejected). The crucial value is defined by the degree of freedom and the amount of importance.\n",
    "\n",
    "* Obtain and analyse sample data: The following step is to acquire a sample of data from the population of interest and compute the test statistic.\n",
    "\n",
    "* Compute the p-value: The p-value is the likelihood of receiving a test statistic that is as extreme as or more extreme than the observed test statistic, given the null hypothesis is true.\n",
    "\n",
    "* Make a choice and reach a conclusion: Finally, compare the p-value to the level of significance and decide whether to reject or not reject the null hypothesis. The null hypothesis is rejected in favour of the alternative hypothesis if the p-value is less than or equal to the level of significance. The null hypothesis is not rejected if the p-value is larger than the level of significance. Based on the decision and the interpretation of the data, a conclusion is reached."
   ]
  },
  {
   "attachments": {},
   "cell_type": "markdown",
   "metadata": {},
   "source": [
    "<u>Q8. Define p-value and explain its significance in hypothesis testing.</u>"
   ]
  },
  {
   "attachments": {},
   "cell_type": "markdown",
   "metadata": {},
   "source": [
    "In hypothesis testing, the p-value is a measure of the strength of evidence against the null hypothesis. It is the likelihood of generating a test statistic that is as extreme as or more extreme than the observed test statistic, given the null hypothesis is true.\n",
    "\n",
    "The p-value is important in hypothesis testing since it is used to decide whether to reject or not to reject the null hypothesis. To define the decision rule, the p-value is compared to the degree of significance (alpha). If the p-value is less than or equal to alpha, the null hypothesis is rejected and the alternative hypothesis is accepted. If the p-value exceeds alpha, the null hypothesis is not rejected.\n",
    "\n",
    "Given the null hypothesis, a small p-value suggests that the observed data is unlikely to have occurred by chance alone. This indicates that there is substantial evidence against the null hypothesis and in favour of the alternative hypothesis. A significant p-value, on the other hand, suggests that the observed data is most likely to have occurred by chance alone, given the null hypothesis. This indicates that there is weak evidence against the null hypothesis and strong evidence in support of the null hypothesis.\n",
    "\n",
    "The p-value is important in hypothesis testing because it allows for objective conclusions based on observable data and the strength of evidence against the null hypothesis. It assists in avoiding judgements based on subjective ideas or beliefs, as well as providing a quantifiable estimate of the strength of evidence against the null hypothesis. Furthermore, the p-value may be used to assess the statistical significance of the results as well as the practical importance of the findings in relation to the study topic."
   ]
  },
  {
   "attachments": {},
   "cell_type": "markdown",
   "metadata": {},
   "source": [
    "<u>Q9. Generate a Student's t-distribution plot using Python's matplotlib library, with the degrees of freedom\n",
    "parameter set to 10.</u>"
   ]
  },
  {
   "cell_type": "code",
   "execution_count": 11,
   "metadata": {},
   "outputs": [
    {
     "data": {
      "image/png": "[encoded data removed]",
      "text/plain": [
       "<Figure size 640x480 with 1 Axes>"
      ]
     },
     "metadata": {},
     "output_type": "display_data"
    }
   ],
   "source": [
    "import numpy as np\n",
    "import matplotlib.pyplot as plt\n",
    "from scipy.stats import t\n",
    "\n",
    "df = 10 \n",
    "x = np.linspace(-4, 4, 100) \n",
    "y = t.pdf(x, df) \n",
    "\n",
    "plt.plot(x, y, label='t-distribution (df=10)')\n",
    "plt.legend()\n",
    "plt.show()\n"
   ]
  },
  {
   "attachments": {},
   "cell_type": "markdown",
   "metadata": {},
   "source": [
    "<u>Q10. Write a Python program to calculate the two-sample t-test for independent samples, given two\n",
    "random samples of equal size and a null hypothesis that the population means are equal.</u>"
   ]
  },
  {
   "cell_type": "code",
   "execution_count": 8,
   "metadata": {},
   "outputs": [
    {
     "name": "stdout",
     "output_type": "stream",
     "text": [
      "t-statistic:  -3.4011714319847886\n",
      "p-value:  0.0009723575635812248\n"
     ]
    }
   ],
   "source": [
    "import numpy as np\n",
    "from scipy.stats import ttest_ind\n",
    "\n",
    "sample1 = np.random.normal(10, 2, 50)  \n",
    "sample2 = np.random.normal(12, 3, 50)  \n",
    "t_statistic, p_value = ttest_ind(sample1, sample2)\n",
    "\n",
    "print(\"t-statistic: \", t_statistic)\n",
    "print(\"p-value: \", p_value)\n"
   ]
  },
  {
   "attachments": {},
   "cell_type": "markdown",
   "metadata": {},
   "source": [
    "<u>Q11: What is Student’s t distribution? When to use the t-Distribution.</u>"
   ]
  },
  {
   "attachments": {},
   "cell_type": "markdown",
   "metadata": {},
   "source": [
    "When the sample size is small or the population standard deviation is unknown, the Student's t-distribution is used to estimate population parameters. It is similar to the normal distribution, but with thicker tails and a wider spread, reflecting the greater uncertainty caused by dealing with a small sample size.\n",
    "\n",
    "When the following assumptions are satisfied, the t-distribution is used:\n",
    "\n",
    "1. The sample size is tiny (usually less than 30 people), or\n",
    "2. The standard deviation of the population is unknown.\n",
    "\n",
    "The t-distribution is frequently used in hypothesis testing, particularly with small sample sizes. Based on a small sample, it is used to compute confidence intervals, test hypotheses, and estimate population characteristics (such as mean and standard deviation)."
   ]
  },
  {
   "attachments": {},
   "cell_type": "markdown",
   "metadata": {},
   "source": [
    "<u>Q12: What is t-statistic? State the formula for t-statistic.</u>"
   ]
  },
  {
   "attachments": {},
   "cell_type": "markdown",
   "metadata": {},
   "source": [
    "The t-statistic expresses the difference between the sample mean and the population mean in terms of the sample mean's standard error. In hypothesis testing, it is used to assess if the difference between the sample mean and the population mean is statistically significant.\n",
    "\n",
    "The t-statistic formula is as follows:\n",
    "\n",
    "t = (x̄ - μ) / (s / sqrt(n))\n",
    "\n",
    "where:\n",
    "\n",
    "x represents the sample mean.\n",
    "\n",
    "μ is the population mean\n",
    "\n",
    "s is the sample standard deviation\n",
    "\n",
    "n is the sample size"
   ]
  },
  {
   "attachments": {},
   "cell_type": "markdown",
   "metadata": {},
   "source": [
    "<u>Q13. A coffee shop owner wants to estimate the average daily revenue for their shop. They take a random\n",
    "sample of 50 days and find the sample mean revenue to be $500 with a standard deviation of $50.\n",
    "Estimate the population mean revenue with a 95% confidence interval.</u>"
   ]
  },
  {
   "attachments": {},
   "cell_type": "markdown",
   "metadata": {},
   "source": [
    "To estimate the population mean revenue with a 95% confidence interval, we can use the following formula:\n",
    "\n",
    "CI = x̄ ± t*(s / sqrt(n))\n",
    "\n",
    "where:\n",
    "\n",
    "x̄ is the sample mean revenue ($500)\n",
    "\n",
    "s is the sample standard deviation ($50)\n",
    "\n",
    "n is the sample size (50)\n",
    "\n",
    "t* is the t-value from the t-distribution for a 95% confidence interval and 49 degrees of freedom (49 because n-1=49)\n",
    "\n",
    "To find the t-value, we can use a t-table or a calculator. For a 95% confidence interval and 49 degrees of freedom, the t-value is approximately 2.009.\n",
    "\n",
    "Substituting the values into the formula, we get:\n",
    "\n",
    "CI = $500 ± 2.009 * ($50 / sqrt(50))\n",
    "CI = $500 ± $14.14\n",
    "\n",
    "Therefore, the 95% confidence interval for the population mean revenue is $485.86 to $514.14.\n",
    "\n",
    "We can be 95% confident that the true population mean revenue lies within this interval. In other words, if we were to repeat this sampling process many times and calculate a confidence interval for each sample, we would expect 95% of the intervals to contain the true population mean revenue."
   ]
  },
  {
   "attachments": {},
   "cell_type": "markdown",
   "metadata": {},
   "source": [
    "<u>Q14. A researcher hypothesizes that a new drug will decrease blood pressure by 10 mmHg. They conduct a\n",
    "clinical trial with 100 patients and find that the sample mean decrease in blood pressure is 8 mmHg with a\n",
    "standard deviation of 3 mmHg. Test the hypothesis with a significance level of 0.05.</u>"
   ]
  },
  {
   "attachments": {},
   "cell_type": "markdown",
   "metadata": {},
   "source": [
    "To test the hypothesis that the new drug decreases blood pressure by 10 mmHg with a significance level of 0.05, we can use a one-sample t-test.\n",
    "\n",
    "The null hypothesis is that the true mean decrease in blood pressure is equal to 10 mmHg:\n",
    "H0: μ = 10\n",
    "\n",
    "The alternative hypothesis is that the true mean decrease in blood pressure is less than 10 mmHg:\n",
    "Ha: μ < 10\n",
    "\n",
    "We can use the t-test to calculate a t-statistic, which measures the difference between the sample mean and the null hypothesis mean in units of the standard error of the sample mean.\n",
    "\n",
    "The formula for the t-statistic is:\n",
    "\n",
    "t = (x̄ - μ) / (s / sqrt(n))\n",
    "\n",
    "where:\n",
    "\n",
    "x̄ is the sample mean decrease in blood pressure (8 mmHg)\n",
    "\n",
    "μ is the null hypothesis mean decrease in blood pressure (10 mmHg)\n",
    "\n",
    "s is the sample standard deviation (3 mmHg)\n",
    "\n",
    "n is the sample size (100)\n",
    "\n",
    "Substituting the values, we get:\n",
    "\n",
    "t = (8 - 10) / (3 / sqrt(100))\n",
    "\n",
    "t = -2.82\n",
    "\n",
    "We can find the p-value associated with this t-statistic using a t-distribution table or a calculator with 99 degrees of freedom (n-1=100-1=99). The p-value for a one-tailed test with a t-statistic of -2.82 and 99 degrees of freedom is approximately 0.003.\n",
    "\n",
    "Since the p-value (0.003) is less than the significance level of 0.05, we can reject the null hypothesis. This means that the evidence from the sample suggests that the new drug decreases blood pressure by less than 10 mmHg, with a high degree of confidence. We can conclude that the new drug does not decrease blood pressure by the hypothesized amount of 10 mmHg."
   ]
  },
  {
   "attachments": {},
   "cell_type": "markdown",
   "metadata": {},
   "source": [
    "<u>Q15. An electronics company produces a certain type of product with a mean weight of 5 pounds and a\n",
    "standard deviation of 0.5 pounds. A random sample of 25 products is taken, and the sample mean weight\n",
    "is found to be 4.8 pounds. Test the hypothesis that the true mean weight of the products is less than 5\n",
    "pounds with a significance level of 0.01.</u>"
   ]
  },
  {
   "attachments": {},
   "cell_type": "markdown",
   "metadata": {},
   "source": [
    "To test the hypothesis that the true mean weight of the products is less than 5 pounds with a significance level of 0.01, we can use a one-sample t-test.\n",
    "\n",
    "The null hypothesis is that the true mean weight of the products is equal to 5 pounds:\n",
    "H0: μ = 5\n",
    "\n",
    "The alternative hypothesis is that the true mean weight of the products is less than 5 pounds:\n",
    "Ha: μ < 5\n",
    "\n",
    "We can use the t-test to calculate a t-statistic, which measures the difference between the sample mean and the null hypothesis mean in units of the standard error of the sample mean.\n",
    "\n",
    "The formula for the t-statistic is:\n",
    "\n",
    "t = (x̄ - μ) / (s / sqrt(n))\n",
    "\n",
    "where:\n",
    "\n",
    "x̄ is the sample mean weight (4.8 pounds)\n",
    "\n",
    "μ is the null hypothesis mean weight (5 pounds)\n",
    "\n",
    "s is the sample standard deviation (0.5 pounds)\n",
    "\n",
    "n is the sample size (25)\n",
    "\n",
    "Substituting the values, we get:\n",
    "\n",
    "t = (4.8 - 5) / (0.5 / sqrt(25))\n",
    "\n",
    "t = -2\n",
    "\n",
    "We can find the p-value associated with this t-statistic using a t-distribution table or a calculator with 24 degrees of freedom (n-1=25-1=24). The p-value for a one-tailed test with a t-statistic of -2 and 24 degrees of freedom is approximately 0.027.\n",
    "\n",
    "Since the p-value (0.027) is less than the significance level of 0.01, we can reject the null hypothesis. This means that the evidence from the sample suggests that the true mean weight of the products is less than 5 pounds, with a high degree of confidence. We can conclude that the mean weight of the products produced by the electronics company is less than the specified value of 5 pounds."
   ]
  },
  {
   "attachments": {},
   "cell_type": "markdown",
   "metadata": {},
   "source": [
    "<u>Q16. Two groups of students are given different study materials to prepare for a test. The first group (n1 =\n",
    "30) has a mean score of 80 with a standard deviation of 10, and the second group (n2 = 40) has a mean\n",
    "score of 75 with a standard deviation of 8. Test the hypothesis that the population means for the two\n",
    "groups are equal with a significance level of 0.01.</u>"
   ]
  },
  {
   "attachments": {},
   "cell_type": "markdown",
   "metadata": {},
   "source": [
    "To test the hypothesis that the population means for the two groups are equal with a significance level of 0.01, we can use a two-sample t-test for independent samples.\n",
    "\n",
    "The null hypothesis is that the population means for the two groups are equal:\n",
    "H0: μ1 = μ2\n",
    "\n",
    "The alternative hypothesis is that the population means for the two groups are not equal:\n",
    "Ha: μ1 ≠ μ2\n",
    "\n",
    "We can use the t-test to calculate a t-statistic, which measures the difference between the sample means and the null hypothesis mean in units of the standard error of the difference between the means.\n",
    "\n",
    "The formula for the t-statistic is:\n",
    "\n",
    "t = (x̄1 - x̄2 - 0) / sqrt(s1^2/n1 + s2^2/n2)\n",
    "\n",
    "where:\n",
    "\n",
    "x̄1 is the sample mean score for the first group (80)\n",
    "\n",
    "x̄2 is the sample mean score for the second group (75)\n",
    "\n",
    "s1 is the sample standard deviation for the first group (10)\n",
    "\n",
    "s2 is the sample standard deviation for the second group (8)\n",
    "\n",
    "n1 is the sample size for the first group (30)\n",
    "\n",
    "n2 is the sample size for the second group (40)\n",
    "\n",
    "Substituting the values, we get:\n",
    "\n",
    "t = (80 - 75 - 0) / sqrt((10^2/30) + (8^2/40))\n",
    "\n",
    "t = 2.22\n",
    "\n",
    "The degrees of freedom for the t-distribution are calculated using the formula:\n",
    "\n",
    "df = (s1^2/n1 + s2^2/n2)^2 / ((s1^2/n1)^2 / (n1 - 1) + (s2^2/n2)^2 / (n2 - 1))\n",
    "\n",
    "Substituting the values, we get:\n",
    "\n",
    "df = (10^2/30 + 8^2/40)^2 / ((10^2/30)^2 / (30 - 1) + (8^2/40)^2 / (40 - 1))\n",
    "df = 64.9 (rounded to the nearest integer, which is 65)\n",
    "\n",
    "We can find the p-value associated with this t-statistic using a t-distribution table or a calculator with 65 degrees of freedom. The p-value for a two-tailed test with a t-statistic of 2.22 and 65 degrees of freedom is approximately 0.030.\n",
    "\n",
    "Since the p-value (0.030) is greater than the significance level of 0.01, we fail to reject the null hypothesis. This means that there is not enough evidence to conclude that the population means for the two groups are different. We can conclude that the study materials given to the two groups did not result in a statistically significant difference in test scores."
   ]
  },
  {
   "attachments": {},
   "cell_type": "markdown",
   "metadata": {},
   "source": [
    "<u>Q17. A marketing company wants to estimate the average number of ads watched by viewers during a TV\n",
    "program. They take a random sample of 50 viewers and find that the sample mean is 4 with a standard\n",
    "deviation of 1.5. Estimate the population mean with a 99% confidence interval.</u>"
   ]
  },
  {
   "cell_type": "code",
   "execution_count": 10,
   "metadata": {},
   "outputs": [
    {
     "name": "stdout",
     "output_type": "stream",
     "text": [
      "The 99% confidence interval for the population mean is: (3.4535840896844654, 4.546415910315535)\n"
     ]
    }
   ],
   "source": [
    "import scipy.stats as stats\n",
    "\n",
    "sample_mean = 4\n",
    "std_dev = 1.5\n",
    "n = 50\n",
    "z = stats.norm.ppf(0.995)  \n",
    "margin_of_error = z * (std_dev / (n ** 0.5))\n",
    "\n",
    "\n",
    "lower_bound = sample_mean - margin_of_error\n",
    "\n",
    "upper_bound = sample_mean + margin_of_error\n",
    "\n",
    "print(\"The 99% confidence interval for the population mean is:\", (lower_bound, upper_bound))\n"
   ]
  },
  {
   "cell_type": "code",
   "execution_count": null,
   "metadata": {},
   "outputs": [],
   "source": []
  }
 ],
 "metadata": {
  "kernelspec": {
   "display_name": "Python 3",
   "language": "python",
   "name": "python3"
  },
  "language_info": {
   "codemirror_mode": {
    "name": "ipython",
    "version": 3
   },
   "file_extension": ".py",
   "mimetype": "text/x-python",
   "name": "python",
   "nbconvert_exporter": "python",
   "pygments_lexer": "ipython3",
   "version": "3.11.1"
  },
  "orig_nbformat": 4
 },
 "nbformat": 4,
 "nbformat_minor": 2
}
