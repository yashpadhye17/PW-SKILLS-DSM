{
 "cells": [
  {
   "attachments": {},
   "cell_type": "markdown",
   "metadata": {},
   "source": [
    "# 11 MARCH ASSIGNMENT"
   ]
  },
  {
   "attachments": {},
   "cell_type": "markdown",
   "metadata": {},
   "source": [
    "Q1: What is the difference between a t-test and a z-test? Provide an example scenario where you would\n",
    "use each type of test"
   ]
  },
  {
   "attachments": {},
   "cell_type": "markdown",
   "metadata": {},
   "source": [
    "The major distinction between a t-test and a z-test is that the assumptions regarding the population standard deviation are different. When the population standard deviation is unknown and must be approximated from the sample data, a t-test is used; when the population standard deviation is known, a z-test is employed.\n",
    "\n",
    "These are some examples in which each type of test could be used:\n",
    "\n",
    "* T-test: Assume you want to compare the mean heights of men and women in a certain population. You choose a random sample of 50 men and 50 women and measure their heights. You want to discover if the height disparity between men and women is statistically significant. In this scenario, a two-sample t-test would be used.\n",
    "* Z-test: If you work for a firm that manufactures a certain product and want to determine whether the average weight of the product has changed over time. You have historical data on the weight of the product from prior years that you wish to compare to the current year's weight. In this scenario, you would use a z-test to compare the product's mean weight in the current year to the product's mean weight in past years. This is due to the assumption that the population standard deviation of the weight is known from previous data."
   ]
  },
  {
   "attachments": {},
   "cell_type": "markdown",
   "metadata": {},
   "source": [
    "Q2: Differentiate between one-tailed and two-tailed tests."
   ]
  },
  {
   "attachments": {},
   "cell_type": "markdown",
   "metadata": {},
   "source": [
    "A one-tailed test is a hypothesis test with a directed alternative hypothesis. That is, it forecasts the direction of the effect or difference between the two groups. A one-tailed test, for example, may be used to test the hypothesis that the mean score of a treatment group is greater than that of a control group. The alternative hypothesis might be presented as follows: \"The treatment group's mean score is larger than the control group's mean score.\"\n",
    "\n",
    "A two-tailed test, on the other hand, is a hypothesis test with a non-directional alternative hypothesis. In other words, it anticipates a difference between the groups being compared but does not define the direction of the difference. A two-tailed test, for example, may be used to test the hypothesis that the mean score of a treatment group differs from the mean score of a control group. \"The mean score of the treatment group is not equal to the mean score of the control group,\" would be the alternate hypothesis.\n",
    "\n",
    "The decision between a one-tailed and two-tailed test is determined by the research subject at hand. When there is a clear theoretical or practical reason to predict the direction of the effect, a one-tailed test is employed, but a two-tailed test is used when there is no clear expectation regarding the direction of the impact."
   ]
  },
  {
   "attachments": {},
   "cell_type": "markdown",
   "metadata": {},
   "source": [
    "Q3: Explain the concept of Type 1 and Type 2 errors in hypothesis testing. Provide an example scenario for\n",
    "each type of error."
   ]
  },
  {
   "attachments": {},
   "cell_type": "markdown",
   "metadata": {},
   "source": [
    "Type I and Type II mistakes can arise while reaching a choice on the null hypothesis during hypothesis testing.\n",
    "\n",
    "A type I mistake arises when a false null hypothesis is rejected. In other words, it is the mistake of rejecting a null hypothesis incorrectly. The probability of making a Type I error is denoted by the Greek letter alpha () and is typically set at 0.05 or 0.01, implying a 5% or 1% chance of rejecting the null hypothesis when it is actually true.\n",
    "\n",
    "Consider the following scenario: A medical researcher is evaluating a new medicine to determine if it lowers blood pressure. They do a hypothesis test and reject the null hypothesis that the medicine has no impact on blood pressure, even if it does. This is a Type I mistake.\n",
    "\n",
    "\n",
    "A type II mistake arises when a false null hypothesis is not rejected. In other words, it is the failure to reject a null hypothesis when it is wrong. The likelihood of making a Type II mistake is symbolised by the Greek letter beta () and is impacted by a number of parameters, including sample size, effect size, and degree of significance.\n",
    "\n",
    "\n",
    "Consider the following scenario: A medical researcher is evaluating a new medicine to determine if it lowers blood pressure. They do a hypothesis test and fail to reject the null hypothesis that the medicine has no impact on blood pressure, despite the fact that the drug does. This is a Class II mistake."
   ]
  },
  {
   "attachments": {},
   "cell_type": "markdown",
   "metadata": {},
   "source": [
    "Q4: Explain Bayes's theorem with an example."
   ]
  },
  {
   "attachments": {},
   "cell_type": "markdown",
   "metadata": {},
   "source": [
    "Bayes's theorem is a fundamental concept in probability theory that allows us to update our prior beliefs about the probability of an event occurring based on new information.\n",
    "\n",
    "Bayes's theorem states that the probability of an event A given an event B is equal to the probability of B given A multiplied by the prior probability of A, divided by the prior probability of B. Mathematically, it can be expressed as:\n",
    "\n",
    "P(A|B) = P(B|A) * P(A) / P(B)\n",
    "\n",
    "where:\n",
    "\n",
    "P(A|B) is the conditional probability of A given B\n",
    "\n",
    "P(B|A) is the conditional probability of B given A\n",
    "\n",
    "P(A) is the prior probability of A\n",
    "\n",
    "P(B) is the prior probability of B"
   ]
  },
  {
   "attachments": {},
   "cell_type": "markdown",
   "metadata": {},
   "source": [
    "Q5: What is a confidence interval? How to calculate the confidence interval, explain with an example."
   ]
  },
  {
   "attachments": {},
   "cell_type": "markdown",
   "metadata": {},
   "source": [
    "A confidence interval is a range of values that, with a given degree of certainty, include the real population parameter, such as the mean or percentage. In statistics, it is often used to evaluate the accuracy of sample estimates and to offer a measure of uncertainty in statistical inference.\n",
    "\n",
    "A confidence interval is calculated using three primary components: the sample mean or percentage, the sample size, and the desired degree of confidence. With a normal distribution and a known population standard deviation, the formula for a confidence interval for a population mean is:\n",
    "\n",
    "Confidence Interval = Sample Mean ± z-score * (Population Standard Deviation / √Sample Size)\n",
    "\n",
    "Suppose a random sample of 100 employees is taken to estimate the average salary of employees in a company. The sample mean salary is $50,000, and the population standard deviation is known to be $10,000. Calculate a 95% confidence interval for the population mean salary.\n",
    "\n",
    "Confidence Interval = Sample Mean ± z-score * (Population Standard Deviation / √Sample Size)\n",
    "\n",
    "= $50,000 ± 1.96 * ($10,000 / √100)\n",
    "\n",
    "= $50,000 ± $1,960\n",
    "\n",
    "= ($48,040, $51,960)\n",
    "\n",
    "Therefore, we can say with 95% confidence that the population mean salary falls within the range of $48,040 to $51,960. This means that if we were to repeat this process many times, about 95% of the resulting confidence intervals would contain the true population mean salary."
   ]
  },
  {
   "attachments": {},
   "cell_type": "markdown",
   "metadata": {},
   "source": [
    "Q6. Use Bayes' Theorem to calculate the probability of an event occurring given prior knowledge of the\n",
    "event's probability and new evidence. Provide a sample problem and solution."
   ]
  },
  {
   "attachments": {},
   "cell_type": "markdown",
   "metadata": {},
   "source": [
    "Assume a random sample of 100 employees is used to determine the average wage of a company's employees. The population standard deviation is $10,000, while the sample mean wage is $50,000. Determine the population mean salary's 95% confidence interval.\n",
    "\n",
    "Sample Mean z-score * (Population Standard Deviation / Sample Size) Confidence Interval\n",
    "\n",
    "= $50,000 ± 1.96 * ($10,000 / √100)\n",
    "\n",
    "= $50,000 ± $1,960\n",
    "\n",
    "= ($48,040, $51,960)\n",
    "\n",
    "As a result, we can state with 95% certainty that the population mean wage lies between $48,040 and $51,960. This suggests that if we repeated this technique a number of times, around 95% of the resultant confidence intervals would contain the genuine population mean wage."
   ]
  },
  {
   "attachments": {},
   "cell_type": "markdown",
   "metadata": {},
   "source": [
    "Q7. Calculate the 95% confidence interval for a sample of data with a mean of 50 and a standard deviation\n",
    "of 5. Interpret the results."
   ]
  },
  {
   "attachments": {},
   "cell_type": "markdown",
   "metadata": {},
   "source": [
    "CI = X̄ ± Zα/2 * σ/√n\n",
    "\n",
    "Where:\n",
    "\n",
    "X̄ is the sample mean\n",
    "\n",
    "Zα/2 is the critical value from the standard normal distribution corresponding to the desired confidence level (in this case, 95%)\n",
    "\n",
    "σ is the population standard deviation (which we assume to be known)\n",
    "\n",
    "n is the sample size\n",
    "\n",
    "Substituting the values given in the problem, we have:\n",
    "\n",
    "CI = 50 ± 1.96 * 5/√n\n",
    "\n",
    "CI = 50 ± 1.96 * 5/√100\n",
    "\n",
    "= 50 ± 0.98\n",
    "\n",
    "= [49.02, 50.98]\n",
    "\n",
    "This means that we are 95% confident that the true population mean falls between 49.02 and 50.98."
   ]
  },
  {
   "attachments": {},
   "cell_type": "markdown",
   "metadata": {},
   "source": [
    "Q8. What is the margin of error in a confidence interval? How does sample size affect the margin of error?\n",
    "Provide an example of a scenario where a larger sample size would result in a smaller margin of error."
   ]
  },
  {
   "attachments": {},
   "cell_type": "markdown",
   "metadata": {},
   "source": [
    "The margin of error in a confidence interval is the range of values above and below the point estimate of a parameter (such as a population mean or percentage) that we believe, with a high degree of certainty, contains the real value of the parameter. It shows the degree of uncertainty associated with our estimate and is determined by numerous factors such as sample size, desired level of confidence, and sample data variability.\n",
    "\n",
    "In general, as sample size grows, the margin of error reduces. Because a bigger sample size gives more information about the population, a more exact estimate of the parameter is obtained. When more data is collected, the standard error of the estimate lowers and the margin of error shrinks.\n",
    "\n",
    "For example, suppose we want to estimate the average height of students in a college. We take a random sample of 50 students and calculate the sample mean to be 68 inches with a standard deviation of 2 inches. If we want to construct a 95% confidence interval for the population mean, using the t-distribution with 49 degrees of freedom, we would get:\n",
    "\n",
    "Margin of error = tα/2 * s/√n\n",
    "\n",
    "= 2.0096 * 2/√50\n",
    "\n",
    "= 0.568\n",
    "\n",
    "Therefore, the 95% confidence interval would be:\n",
    "\n",
    "\n",
    "CI = 68 ± 0.568\n",
    "\n",
    "= [67.432, 68.568]"
   ]
  },
  {
   "attachments": {},
   "cell_type": "markdown",
   "metadata": {},
   "source": [
    "Q9. Calculate the z-score for a data point with a value of 75, a population mean of 70, and a population\n",
    "standard deviation of 5. Interpret the results."
   ]
  },
  {
   "attachments": {},
   "cell_type": "markdown",
   "metadata": {},
   "source": [
    "To calculate the z-score for a data point with a value of 75, a population mean of 70, and a population standard deviation of 5, we can use the formula:\n",
    "\n",
    "z = (X - μ) / σ\n",
    "\n",
    "where:\n",
    "\n",
    "X is the value of the data point\n",
    "\n",
    "μ is the population mean\n",
    "\n",
    "σ is the population standard deviation\n",
    "\n",
    "Substituting the values given in the problem, we have:\n",
    "\n",
    "z = (75 - 70) / 5\n",
    "z = 1\n",
    "\n",
    "Therefore, the z-score for this data point is 1."
   ]
  },
  {
   "attachments": {},
   "cell_type": "markdown",
   "metadata": {},
   "source": [
    "Q10. In a study of the effectiveness of a new weight loss drug, a sample of 50 participants lost an average\n",
    "of 6 pounds with a standard deviation of 2.5 pounds. Conduct a hypothesis test to determine if the drug is\n",
    "significantly effective at a 95% confidence level using a t-test."
   ]
  },
  {
   "attachments": {},
   "cell_type": "markdown",
   "metadata": {},
   "source": [
    "To test the hypothesis, we can calculate the t-statistic using the formula:\n",
    "\n",
    "t = (x̄ - μ) / (s / √n)\n",
    "\n",
    "where:\n",
    "\n",
    "x̄ is the sample mean\n",
    "\n",
    "μ is the hypothesized population mean under the null hypothesis (in this case, 0)\n",
    "\n",
    "s is the sample standard deviation\n",
    "\n",
    "n is the sample size\n",
    "\n",
    "Substituting the values given in the problem, we get:\n",
    "\n",
    "t = (6 - 0) / (2.5 / √50)\n",
    "t = 18.97\n",
    "\n",
    "Using a t-distribution table with 49 degrees of freedom (since we have 50-1=49 degrees of freedom), the critical t-value for a one-tailed test at a 0.05 significance level is 1.677. Since our calculated t-statistic of 18.97 is greater than the critical t-value of 1.677, we reject the null hypothesis and conclude that the weight loss drug is significantly effective at a 95% confidence level.\n",
    "\n",
    "In other words, there is strong evidence to suggest that the weight loss drug results in a mean weight loss of more than 0 pounds, and the observed sample mean of 6 pounds is likely due to the effectiveness of the drug rather than chance variability."
   ]
  },
  {
   "attachments": {},
   "cell_type": "markdown",
   "metadata": {},
   "source": [
    "Q11. In a survey of 500 people, 65% reported being satisfied with their current job. Calculate the 95%\n",
    "confidence interval for the true proportion of people who are satisfied with their job."
   ]
  },
  {
   "attachments": {},
   "cell_type": "markdown",
   "metadata": {},
   "source": [
    "o calculate the 95% confidence interval for the true proportion of people who are satisfied with their job, we can use the formula:\n",
    "\n",
    "CI = p ± z* (sqrt(p*(1-p)/n))\n",
    "\n",
    "where:\n",
    "\n",
    "p is the sample proportion\n",
    "\n",
    "z* is the critical value from the standard normal distribution at the desired confidence level (for a \n",
    "95% confidence level, z* is approximately 1.96)\n",
    "\n",
    "n is the sample size\n",
    "\n",
    "Substituting the values given in the problem, we get:\n",
    "\n",
    "CI = 0.65 ± 1.96 (sqrt(0.65*(1-0.65)/500))\n",
    "\n",
    "CI = 0.65 ± 0.044\n",
    "\n",
    "CI = (0.606, 0.694)\n",
    "\n",
    "\n",
    "Therefore, the 95% confidence interval for the true proportion of people who are satisfied with their job is (0.606, 0.694).\n"
   ]
  },
  {
   "attachments": {},
   "cell_type": "markdown",
   "metadata": {},
   "source": [
    "Q12. A researcher is testing the effectiveness of two different teaching methods on student performance.\n",
    "Sample A has a mean score of 85 with a standard deviation of 6, while sample B has a mean score of 82\n",
    "with a standard deviation of 5. Conduct a hypothesis test to determine if the two teaching methods have a\n",
    "significant difference in student performance using a t-test with a significance level of 0.01."
   ]
  },
  {
   "attachments": {},
   "cell_type": "markdown",
   "metadata": {},
   "source": [
    "We can set the significance level to 0.01, which corresponds to a 99% confidence level.\n",
    "\n",
    "To test the hypothesis, we can calculate the two-sample t-statistic using the formula:\n",
    "\n",
    "t = (x̄1 - x̄2) / (sqrt((s1^2 / n1) + (s2^2 / n2)))\n",
    "\n",
    "where:\n",
    "\n",
    "x̄1 and x̄2 are the sample means for sample A and sample B, respectively\n",
    "\n",
    "s1 and s2 are the sample standard deviations for sample A and sample B, respectively\n",
    "\n",
    "n1 and n2 are the sample sizes for sample A and sample B, respectively\n",
    "\n",
    "Substituting the values given in the problem, we get:\n",
    "\n",
    "t = (85 - 82) / (sqrt((6^2 / 1) + (5^2 / 1)))\n",
    "t = 3 / 7.81\n",
    "t = 0.384\n",
    "\n",
    "Using a t-distribution table with 1 degree of freedom (since we have two samples with a total of 2-1=1 degree of freedom), the critical t-value for a two-tailed test at a 0.01 significance level is approximately ± 6.965. Since our calculated t-statistic of 0.384 is less than the critical t-value of ±6.965, we fail to reject the null hypothesis and conclude that there is no significant difference in student performance between the two teaching methods at a 99% confidence level."
   ]
  },
  {
   "attachments": {},
   "cell_type": "markdown",
   "metadata": {},
   "source": [
    "Q13. A population has a mean of 60 and a standard deviation of 8. A sample of 50 observations has a mean\n",
    "of 65. Calculate the 90% confidence interval for the true population mean."
   ]
  },
  {
   "attachments": {},
   "cell_type": "markdown",
   "metadata": {},
   "source": [
    "Confidence interval = sample mean ± z-score (standard error)\n",
    "\n",
    "Where z-score corresponds to the confidence level and the standard error is calculated as the standard deviation divided by the square root of the sample size:\n",
    "\n",
    "standard error = σ / sqrt(n)\n",
    "\n",
    "Given that the population mean is 60 and the sample size is 50, we can calculate the standard error as:\n",
    "\n",
    "standard error = 8 / sqrt(50) = 1.13\n",
    "\n",
    "To find the z-score corresponding to a 90% confidence level, we can look up the value in a standard normal distribution table or use a calculator. The z-score is approximately 1.645.\n",
    "\n",
    "Therefore, the 90% confidence interval for the true population mean is:\n",
    "\n",
    "65 ± 1.645(1.13) = (63.17, 66.83)\n",
    "\n",
    "We can be 90% confident that the true population mean falls within this interval."
   ]
  },
  {
   "attachments": {},
   "cell_type": "markdown",
   "metadata": {},
   "source": [
    "Q14. In a study of the effects of caffeine on reaction time, a sample of 30 participants had an average\n",
    "reaction time of 0.25 seconds with a standard deviation of 0.05 seconds. Conduct a hypothesis test to\n",
    "determine if the caffeine has a significant effect on reaction time at a 90% confidence level using a t-test."
   ]
  },
  {
   "attachments": {},
   "cell_type": "markdown",
   "metadata": {},
   "source": [
    "Null hypothesis (H0): Caffeine has no significant effect on reaction time. μ = μ0\n",
    "Alternative hypothesis (Ha): Caffeine has a significant effect on reaction time. μ ≠ μ0\n",
    "\n",
    "where μ is the population mean reaction time with caffeine and μ0 is the population mean reaction time without caffeine.\n",
    "\n",
    "We can use a two-tailed t-test with a 90% confidence level to test this hypothesis. The critical value for a two-tailed t-test with 29 degrees of freedom at a 90% confidence level is ±1.699.\n",
    "\n",
    "The t-test statistic can be calculated as:\n",
    "\n",
    "t = (x̄ - μ0) / (s / √n)\n",
    "\n",
    "where x̄ is the sample mean reaction time, s is the sample standard deviation, n is the sample size, and μ0 is the hypothesized population mean reaction time without caffeine.\n",
    "\n",
    "Substituting the given values, we get:\n",
    "\n",
    "t = (0.25 - μ0) / (0.05 / √30)\n",
    "\n",
    "To reject the null hypothesis, the absolute value of the t-test statistic should be greater than the critical value.\n",
    "\n",
    "If we assume μ0 = 0.26, then the t-test statistic is:\n",
    "\n",
    "t = (0.25 - 0.26) / (0.05 / √30) = -1.3416\n",
    "\n",
    "Since the absolute value of the t-test statistic (1.3416) is less than the critical value (1.699), we fail to reject the null hypothesis.\n",
    "\n",
    "Therefore, we can conclude that there is not enough evidence to support the claim that caffeine has a significant effect on reaction time at a 90% confidence level."
   ]
  },
  {
   "cell_type": "markdown",
   "metadata": {},
   "source": []
  }
 ],
 "metadata": {
  "language_info": {
   "name": "python"
  },
  "orig_nbformat": 4
 },
 "nbformat": 4,
 "nbformat_minor": 2
}
