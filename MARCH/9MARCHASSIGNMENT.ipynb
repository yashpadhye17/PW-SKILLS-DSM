{
 "cells": [
  {
   "attachments": {},
   "cell_type": "markdown",
   "metadata": {},
   "source": [
    "# 9 MARCH ASSIGNMENT"
   ]
  },
  {
   "attachments": {},
   "cell_type": "markdown",
   "metadata": {},
   "source": [
    "Q1: What are the Probability Mass Function (PMF) and Probability Density Function (PDF)? Explain with\n",
    "an example."
   ]
  },
  {
   "attachments": {},
   "cell_type": "markdown",
   "metadata": {},
   "source": [
    "A probability distribution function (PMF) is a function that represents the probability distribution of a discrete random variable. It calculates the likelihood of each conceivable outcome from a limited or countably infinite collection of outcomes.\n",
    "Example: Tossing a Coin\n",
    "\n",
    "A PDF, on the other hand, is a function that represents the probability distribution of a continuous random variable. It expresses the probability of each conceivable value of the random variable happening within a certain range of values. A PDF, unlike a PMF, gives the probability density at a certain location rather than the chance of a specific result. The integral of the PDF across the variable's whole range is equal to 1.\n",
    "Example:Height of Adult Persons"
   ]
  },
  {
   "attachments": {},
   "cell_type": "markdown",
   "metadata": {},
   "source": [
    "Q2: What is Cumulative Density Function (CDF)? Explain with an example. Why CDF is used?"
   ]
  },
  {
   "attachments": {},
   "cell_type": "markdown",
   "metadata": {},
   "source": [
    "A Cumulative Density Function (CDF) is a function that expresses the likelihood that a random variable X will have a value that is less than or equal to a given input value x. It is generally represented as F(x) for a particular distribution and offers the cumulative probability of X up to that moment.\n",
    "\n",
    "\n",
    "In other words, the CDF is the integral of the probability density function (PDF) from negative infinity to a certain value x. The CDF provides information about the distribution of a random variable X, including the likelihood of observing a value less than or equal to a certain value."
   ]
  },
  {
   "attachments": {},
   "cell_type": "markdown",
   "metadata": {},
   "source": [
    "Q3: What are some examples of situations where the normal distribution might be used as a model?\n",
    "Explain how the parameters of the normal distribution relate to the shape of the distribution."
   ]
  },
  {
   "attachments": {},
   "cell_type": "markdown",
   "metadata": {},
   "source": [
    "The normal distribution is one of the most popular probability distributions used in statistics, especially when the data is believed to be regularly distributed. Following are some scenarios in which the normal distribution might be utilised as a model:\n",
    "\n",
    "A population's heights and weights\n",
    "Test results from a huge population\n",
    "Measurement or experimental data errors\n",
    "Financial information such as stock prices and returns\n",
    "Human-computer interaction response times\n",
    "The mean () and standard deviation () of a normal distribution are two parameters. These factors define the distribution's form and placement. The mean depicts the distribution's central tendency, whereas the standard deviation describes the distribution's dispersion."
   ]
  },
  {
   "attachments": {},
   "cell_type": "markdown",
   "metadata": {},
   "source": [
    "Q4: Explain the importance of Normal Distribution. Give a few real-life examples of Normal\n",
    "Distribution."
   ]
  },
  {
   "attachments": {},
   "cell_type": "markdown",
   "metadata": {},
   "source": [
    "Importance of Normal Distribution:\n",
    "\n",
    "* It is a well-studied distribution with well-understood qualities: The normal distribution has been well-studied and its properties are well-understood. As a result, it may be used for statistical inference and modelling.\n",
    "\n",
    "* The central limit theorem asserts that if we take a big enough sample from any population, the sample means will tend to follow a normal distribution, regardless of the population's underlying distribution. Because of this trait, the normal distribution is a helpful tool for hypothesis testing and estimating confidence intervals.\n",
    "\n",
    "* Simple to work with: Because the normal distribution is simple to calculate, it is a popular choice for many statistical investigations.\n",
    "\n",
    "\n",
    "Examples:\n",
    "\n",
    "* Heights of individuals: The heights of individuals in a given population tend to follow a normal distribution with a mean height and standard deviation.\n",
    "\n",
    "* Stock prices: Daily stock price changes tend to follow a normal distribution, which is useful for financial modeling and risk management."
   ]
  },
  {
   "attachments": {},
   "cell_type": "markdown",
   "metadata": {},
   "source": [
    "Q5: What is Bernaulli Distribution? Give an Example. What is the difference between Bernoulli\n",
    "Distribution and Binomial Distribution?"
   ]
  },
  {
   "attachments": {},
   "cell_type": "markdown",
   "metadata": {},
   "source": [
    "The Bernoulli distribution is a probability distribution that describes the outcome of a single Bernoulli trial, which is a random experiment with two outcomes: success or failure. The Bernoulli distribution is named after the 17th-century Swiss mathematician Jacob Bernoulli, who investigated it.\n",
    "\n",
    "The Bernoulli distribution is distinguished by a single parameter, p, which reflects the likelihood of success in a single trial.\n",
    "\n",
    "\n",
    "Example:\n",
    "Assume a basketball player makes a free shot with a 0.8 chance. Each free throw results in a Bernoulli trial, which we may represent using a Bernoulli distribution. The outcome of a single free throw is represented by the random variable X, where X=1 if the player hits the shot and X=0 if they miss. For this example, the Bernoulli distribution's PMF is:\n",
    "\n",
    "P(X=1) = 0.8\n",
    "P(X=0) = 0.2\n",
    "\n",
    "\n",
    "The primary distinction between the Bernoulli distribution and the Binomial distribution is that the former models the outcome of a single trial, whereas the latter models the number of successes in a specified number of separate Bernoulli trials. The Bernoulli distribution is a particular instance of the Binomial distribution with n=1.\n",
    "\n"
   ]
  },
  {
   "attachments": {},
   "cell_type": "markdown",
   "metadata": {},
   "source": [
    "Q6. Consider a dataset with a mean of 50 and a standard deviation of 10. If we assume that the dataset\n",
    "is normally distributed, what is the probability that a randomly selected observation will be greater\n",
    "than 60? Use the appropriate formula and show your calculations."
   ]
  },
  {
   "attachments": {},
   "cell_type": "markdown",
   "metadata": {},
   "source": [
    "mean=50 \n",
    "standard deviation=10\n",
    "\n",
    "\n",
    "z = (x - mean) / standard deviation\n",
    "\n",
    "z = (60 - 50) / 10 = 1\n",
    "\n",
    "Next, we look up the probability of a standard normal random variable being greater than 1 using a standard normal distribution table or calculator. We find that this probability is approximately 0.1587.\n",
    "\n",
    "Therefore, the probability that a randomly selected observation from the dataset will be greater than 60 is approximately 0.1587 or 15.87%."
   ]
  },
  {
   "attachments": {},
   "cell_type": "markdown",
   "metadata": {},
   "source": [
    "Q7: Explain uniform Distribution with an example."
   ]
  },
  {
   "attachments": {},
   "cell_type": "markdown",
   "metadata": {},
   "source": [
    "A uniform distribution is a probability distribution in which any value in a given range has an equal chance of occurring. This signifies that the uniform distribution's probability density function (PDF) is constant over the whole range of potential values.When there is no prior information or preference for any particular value in a certain range, the uniform distribution is frequently utilised.\n",
    "\n",
    "\n",
    "Example: \n",
    "Assume you have a fair six-sided dice. The potential results of the roll are 1, 2, 3, 4, 5, and 6, each with a 1/6 chance of occurring. A discrete uniform distribution can be used to describe the roll's probability distribution, with each event having an equal chance of occuring.\n",
    "\n",
    "The discrete uniform distribution's probability mass function (PMF) is given by:\n",
    "\n",
    "When k = 1, 2,..., n, P(X = k) = 1/n.\n",
    "\n",
    "If X is the random variable that reflects the roll's outcome, k is the number of potential outcomes, and n is the number of possible outcomes.\n",
    "\n",
    "In this case, n=6, and the PMF is as follows:\n",
    "\n",
    "P(X=1) = P(X=2) = P(X=3) = P(X=4) = P(X=5) = P(X=6) = 1/6\n",
    "\n",
    "A continuous uniform distribution with a continuous range of potential values is also feasible. Individuals in a certain age group, for example, may have a continuous uniform distribution throughout a specified range of heights.\n",
    "\n",
    "The continuous uniform distribution's PDF is given by:\n",
    "\n",
    "f(x) = 1/(b-a), where a = x = b.\n",
    "\n",
    "where a and b are the range's minimum and maximum values, respectively."
   ]
  },
  {
   "attachments": {},
   "cell_type": "markdown",
   "metadata": {},
   "source": [
    "Q8: What is the z score? State the importance of the z score."
   ]
  },
  {
   "attachments": {},
   "cell_type": "markdown",
   "metadata": {},
   "source": [
    "The z-score, also known as the standard score, is a statistical metric that measures how far a data point is from the distribution's mean. It is determined by subtracting the distribution's mean from the data point and dividing the result by the distribution's standard deviation.\n",
    "\n",
    "Importance of Z score:\n",
    "* The z-score is useful because it allows us to compare observations from various normal distributions with varying means and standard deviations. We may compare data from various normal distributions on the same scale by normalising the values to a standard normal distribution with a mean of zero and a standard deviation of one.\n",
    "\n",
    "* The z-score may also be used to test hypotheses and make statistical inferences. In hypothesis testing, the z-score of a test statistic can be calculated to assess the likelihood of receiving that value or a more extreme value under the null hypothesis."
   ]
  },
  {
   "attachments": {},
   "cell_type": "markdown",
   "metadata": {},
   "source": [
    "Q9: What is Central Limit Theorem? State the significance of the Central Limit Theorem."
   ]
  },
  {
   "attachments": {},
   "cell_type": "markdown",
   "metadata": {},
   "source": [
    "The Central Limit Theorem (CLT) is a fundamental theory in statistics that asserts that as sample size rises, the sampling distribution of the means of any random variable approaches a normal distribution, regardless of the form of the population distribution.\n",
    "\n",
    "The Central Limit Theorem is significant because it offers a basis for statistical inference, which is the act of drawing conclusions about a population based on a sample of data. We may utilise techniques like hypothesis testing and confidence intervals to derive inferences about the population mean or other parameters of interest by assuming that the sample means are approximately normally distributed."
   ]
  },
  {
   "attachments": {},
   "cell_type": "markdown",
   "metadata": {},
   "source": [
    "Q10: State the assumptions of the Central Limit Theorem."
   ]
  },
  {
   "attachments": {},
   "cell_type": "markdown",
   "metadata": {},
   "source": [
    "The Central Limit Theorem (CLT) relies on certain assumptions in order to hold true. These assumptions include:\n",
    "\n",
    "\n",
    "Independence: The sample values must be independent of each other. In other words, the selection of one value should not affect the selection of another.\n",
    "\n",
    "Sample size: The sample size should be sufficiently large. While there is no hard and fast rule for what constitutes a \"large\" sample size, as a rule of thumb, a sample size of at least 30 is typically considered sufficient.\n",
    "\n",
    "Random sampling: The samples must be drawn at random from the population. This ensures that the sample is representative of the population.\n",
    "\n",
    "Finite variance: The population from which the samples are drawn should have a finite variance. This means that the spread of the population values should not be too large."
   ]
  },
  {
   "cell_type": "markdown",
   "metadata": {},
   "source": []
  }
 ],
 "metadata": {
  "kernelspec": {
   "display_name": "Python 3",
   "language": "python",
   "name": "python3"
  },
  "language_info": {
   "name": "python",
   "version": "3.11.1"
  },
  "orig_nbformat": 4
 },
 "nbformat": 4,
 "nbformat_minor": 2
}
