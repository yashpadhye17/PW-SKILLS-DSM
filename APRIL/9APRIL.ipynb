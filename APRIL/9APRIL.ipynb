{
 "cells": [
  {
   "attachments": {},
   "cell_type": "markdown",
   "metadata": {},
   "source": [
    "# 9APRIL ASSIGNMENT"
   ]
  },
  {
   "attachments": {},
   "cell_type": "markdown",
   "metadata": {},
   "source": [
    "Q1. What is Bayes' theorem?"
   ]
  },
  {
   "attachments": {},
   "cell_type": "markdown",
   "metadata": {},
   "source": [
    "A mathematical formula that describes the link between conditional probabilities is Bayes' theorem. It is named after Reverend Thomas Bayes, a statistician and theologian from the 18th century.\n",
    "\n",
    "Bayes' theorem is widely used in probability theory, statistics, machine learning, and artificial intelligence to calculate conditional probabilities and make predictions based on new data."
   ]
  },
  {
   "attachments": {},
   "cell_type": "markdown",
   "metadata": {},
   "source": [
    "Q2. What is the formula for Bayes' theorem?"
   ]
  },
  {
   "attachments": {},
   "cell_type": "markdown",
   "metadata": {},
   "source": [
    "\n",
    "The formula for Bayes' theorem is:\n",
    "\n",
    "P(A|B) = P(B|A) * P(A) / P(B)\n",
    "\n",
    "where:\n",
    "\n",
    "P(A|B) is the probability of event A occurring given that event B has occurred.\n",
    "\n",
    "P(B|A) is the probability of event B occurring given that event A has occurred.\n",
    "\n",
    "P(A) is the prior probability of event A occurring.\n",
    "\n",
    "P(B) is the prior probability of event B occurring."
   ]
  },
  {
   "attachments": {},
   "cell_type": "markdown",
   "metadata": {},
   "source": [
    "Q3. How is Bayes' theorem used in practice?"
   ]
  },
  {
   "attachments": {},
   "cell_type": "markdown",
   "metadata": {},
   "source": [
    "Bayes' theorem is used in practice in a wide range of fields, including statistics, machine learning, artificial intelligence, and data analysis. Here are some examples of how Bayes' theorem is used in practice:\n",
    "\n",
    "1. Bayes' theorem is used in medical diagnostics to determine the likelihood of a disease based on the presence of particular symptoms and risk factors. For example, Bayes' theorem may be used to assess the likelihood of a patient having a specific disease based on their symptoms and medical history.\n",
    "\n",
    "2. Spam filtering: Bayes' theorem is used to determine if an email is spam or authentic. The algorithm determines the likelihood of spam in an email based on the presence of specific keywords and phrases in the email.\n",
    "\n",
    "3. Predictive modelling: The Bayes theorem is used to develop predictive models that may be used to forecast future occurrences. It can, for example, be used to forecast stock prices or consumer behaviour based on historical data.\n",
    "\n",
    "4. Bayes' theorem is used in natural language processing to categorise text input into multiple groups. It may, for example, be used to categorise news items into various subjects based on the words and phrases used in the article.\n",
    "\n",
    "5. Image recognition: Bayes' theorem is used to categorise photos into distinct groups. It may, for example, be used to classify photos of animals based on their characteristics.\n"
   ]
  },
  {
   "attachments": {},
   "cell_type": "markdown",
   "metadata": {},
   "source": [
    "Q4. What is the relationship between Bayes' theorem and conditional probability?"
   ]
  },
  {
   "attachments": {},
   "cell_type": "markdown",
   "metadata": {},
   "source": [
    "A mathematical formula that describes the link between conditional probabilities is Bayes' theorem. The chance of an event occurring provided that another event has occurred is known as conditional probability. The Bayes theorem allows you to adjust the likelihood of an event occurring depending on fresh information or evidence.\n"
   ]
  },
  {
   "attachments": {},
   "cell_type": "markdown",
   "metadata": {},
   "source": [
    "Q5. How do you choose which type of Naive Bayes classifier to use for any given problem?"
   ]
  },
  {
   "attachments": {},
   "cell_type": "markdown",
   "metadata": {},
   "source": [
    "There are various elements to consider when deciding the type of Naive Bayes classifier to utilise for a specific task. Here are a few major considerations:\n",
    "\n",
    "1. Data kind: The type of data you're dealing with might impact your classifier selection. For example, if you're dealing with binary data, you might use the Bernoulli Naive Bayes classifier, but if you're working with continuous data, you could use the Gaussian Naive Bayes classifier.\n",
    "\n",
    "2. Size of the dataset: The size of your dataset might also play a role in selecting a classifier. In general, the Multinomial Naive Bayes classifier performs well on small to moderate-sized datasets, but the Gaussian Naive Bayes classifier does better on bigger datasets.\n",
    "\n",
    "3. The Naive Bayes classifier makes the premise that the characteristics in your data are independent of one another. This assumption may not hold true in some circumstances, and an other form of classifier may be more suited.\n",
    "\n",
    "4. Performance: It's always a good idea to run several classifiers through their paces on your data to discover which one performs best. This may entail employing techniques like as cross-validation or holdout testing to assess the classifier's accuracy.\n",
    "\n",
    "5. Finally, your past knowledge of the issue domain might play a role in selecting a classifier. For example, if you have domain-specific information that certain traits are more essential than others, you may use this to impact your classifier selection.\n"
   ]
  },
  {
   "attachments": {},
   "cell_type": "markdown",
   "metadata": {},
   "source": [
    "Q6. Assignment:"
   ]
  },
  {
   "attachments": {},
   "cell_type": "markdown",
   "metadata": {},
   "source": [
    "To classify the new instance with features X1=3 and X2=4 using Naive Bayes, we need to calculate the posterior probabilities of each class given these feature values. The Naive Bayes algorithm assumes that the features are independent, so we can calculate the posterior probability of a class given these features as:\n",
    "\n",
    "\n",
    "P(A|X1=3,X2=4) = P(X1=3|A) * P(X2=4|A) * P(A) / P(X1=3,X2=4)\n",
    "\n",
    "P(B|X1=3,X2=4) = P(X1=3|B) * P(X2=4|B) * P(B) / P(X1=3,X2=4)\n",
    "\n",
    "Since we assume equal prior probabilities for each class, we have P(A) = P(B) = 0.5.\n",
    "\n",
    "To calculate P(X1=3,X2=4), we can use the law of total probability:\n",
    "\n",
    "P(X1=3,X2=4) = P(X1=3,X2=4|A) * P(A) + P(X1=3,X2=4|B) * P(B)\n",
    "\n",
    "= (4/16 * 3/16 * 4/10) + (1/16 * 3/16 * 6/10)\n",
    "\n",
    "= 0.006\n",
    "\n",
    "Now we can calculate the posterior probabilities of each class:\n",
    "\n",
    "P(A|X1=3,X2=4) = (4/10 * 3/16 * 0.5) / 0.006 = 0.625\n",
    "\n",
    "P(B|X1=3,X2=4) = (1/10 * 3/16 * 0.5) / 0.006 = 0.375\n",
    "\n",
    "So Naive Bayes would predict that the new instance belongs to class A, since it has a higher posterior probability of 0.625 compared to class B's posterior probability of 0.375."
   ]
  },
  {
   "cell_type": "markdown",
   "metadata": {},
   "source": []
  }
 ],
 "metadata": {
  "language_info": {
   "name": "python"
  },
  "orig_nbformat": 4
 },
 "nbformat": 4,
 "nbformat_minor": 2
}
