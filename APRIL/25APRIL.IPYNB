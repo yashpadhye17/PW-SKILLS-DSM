{
 "cells": [
  {
   "attachments": {},
   "cell_type": "markdown",
   "metadata": {},
   "source": [
    "# 25 APRIL ASSIGNMENT"
   ]
  },
  {
   "attachments": {},
   "cell_type": "markdown",
   "metadata": {},
   "source": [
    "Q1. What are Eigenvalues and Eigenvectors? How are they related to the Eigen-Decomposition approach?\n",
    "Explain with an example."
   ]
  },
  {
   "attachments": {},
   "cell_type": "markdown",
   "metadata": {},
   "source": [
    "Eigenvalues and eigenvectors are concepts from linear algebra that are used to analyze linear transformations, such as matrix operations. Let's start with eigenvectors.\n",
    "\n",
    "An eigenvector of a square matrix is a non-zero vector that, when multiplied by the matrix, produces a scalar multiple of itself. In other words, if we have a matrix A and a vector v, and if Av is equal to a scalar λ times v, then v is an eigenvector of A and λ is the corresponding eigenvalue.\n",
    "\n",
    "Mathematically, we can represent this relationship as:\n",
    "\n",
    "A * v = λ * v\n",
    "\n",
    "where A is the matrix, v is the eigenvector, and λ is the eigenvalue.\n",
    "\n",
    "The eigen-decomposition approach, also known as eigenvalue decomposition or spectral decomposition, involves decomposing a matrix into a set of eigenvectors and eigenvalues. For a square matrix A, we can decompose it as:\n",
    "\n",
    "A = P * D * P^(-1)\n",
    "\n",
    "where P is a matrix whose columns are the eigenvectors of A, D is a diagonal matrix with the eigenvalues of A on the diagonal, and P^(-1) is the inverse of matrix P.\n",
    "\n",
    "In this decomposition, the eigenvectors form a basis for the vector space on which the matrix A operates. The eigenvalues correspond to the scaling factors by which the eigenvectors are stretched or shrunk when transformed by A."
   ]
  },
  {
   "attachments": {},
   "cell_type": "markdown",
   "metadata": {},
   "source": [
    "Q2. What is eigen decomposition and what is its significance in linear algebra?"
   ]
  },
  {
   "attachments": {},
   "cell_type": "markdown",
   "metadata": {},
   "source": [
    "Eigen decomposition, also known as eigenvalue decomposition or spectral decomposition, is a fundamental concept in linear algebra. It involves decomposing a square matrix into a set of eigenvectors and eigenvalues.\n",
    "\n",
    "Given a square matrix A, eigen decomposition represents it as:\n",
    "\n",
    "A = P * D * P^(-1)\n",
    "\n",
    "where P is a matrix whose columns are the eigenvectors of A, D is a diagonal matrix with the eigenvalues of A on the diagonal, and P^(-1) is the inverse of matrix P.\n",
    "\n",
    "The significance of eigen decomposition in linear algebra lies in its ability to reveal important properties and characteristics of a matrix. Here are a few key points:\n",
    "\n",
    "1. Understanding Transformations: Eigen decomposition provides insight into how a matrix A transforms its associated vector space. The eigenvectors form a basis for the vector space, and the eigenvalues correspond to the scaling factors by which the eigenvectors are stretched or shrunk when transformed by A. This allows us to understand the dominant directions and magnitudes of transformations.\n",
    "\n",
    "2. Diagonalization: Eigen decomposition allows us to diagonalize a matrix. Diagonal matrices are particularly useful because they simplify various matrix operations. For example, raising a diagonal matrix to a power involves simply raising each diagonal element to that power. Diagonalization can make calculations, such as exponentiation or computing powers of matrices, much more straightforward.\n",
    "\n",
    "3. Matrix Powers and Exponentiation: Eigen decomposition enables efficient computation of matrix powers and exponentiation. Since A = P * D * P^(-1), raising A to a power involves raising D to that power while keeping P and P^(-1) the same. Similarly, computing the exponential of A involves exponentiating D while keeping P and P^(-1) unchanged. This simplifies calculations and can significantly speed up computations.\n",
    "\n",
    "4. Matrix Similarity: Eigen decomposition establishes a similarity transformation between a matrix and its diagonalized form. Matrices that have the same eigenvalues and eigenvectors, up to a possible reordering, are considered similar. Similarity transformations can be useful for simplifying calculations or analyzing the structure of a matrix.\n",
    "\n",
    "5. Spectral Properties: Eigen decomposition is intimately related to the spectral properties of a matrix. The eigenvalues provide information about the behavior and characteristics of the matrix. For example, the largest eigenvalue can indicate the dominant mode or behavior of a system, while the smallest eigenvalue can represent stability or convergence properties."
   ]
  },
  {
   "attachments": {},
   "cell_type": "markdown",
   "metadata": {},
   "source": [
    "Q3. What are the conditions that must be satisfied for a square matrix to be diagonalizable using the\n",
    "Eigen-Decomposition approach? Provide a brief proof to support your answer."
   ]
  },
  {
   "attachments": {},
   "cell_type": "markdown",
   "metadata": {},
   "source": [
    "For a square matrix A to be diagonalizable using the eigen-decomposition approach, the following conditions must be satisfied:\n",
    "\n",
    "Matrix A must have n linearly independent eigenvectors: A square matrix A of size n×n can be diagonalized if it has n linearly independent eigenvectors. In other words, there must exist n eigenvectors that form a basis for the vector space spanned by A. This condition ensures that the matrix P in the eigen-decomposition equation A = P * D * P^(-1) is invertible.\n",
    "\n",
    "Matrix A must have distinct eigenvalues: Each eigenvalue of matrix A must be distinct. If A has repeated eigenvalues, it may not be possible to find a complete set of n linearly independent eigenvectors, making the matrix non-diagonalizable. Distinct eigenvalues guarantee the linear independence of the corresponding eigenvectors.\n",
    "\n",
    "Proof:\n",
    "\n",
    "To prove the conditions for diagonalizability using eigen-decomposition, we start with the eigen-decomposition equation:\n",
    "\n",
    "A = P * D * P^(-1)\n",
    "\n",
    "where A is the square matrix, P is the matrix containing eigenvectors, and D is the diagonal matrix containing eigenvalues.\n",
    "\n",
    "Linearly independent eigenvectors:\n",
    "Suppose matrix A has n linearly independent eigenvectors v1, v2, ..., vn with corresponding eigenvalues λ1, λ2, ..., λn.\n",
    "We can form the matrix P using these eigenvectors as columns:\n",
    "\n",
    "P = [v1, v2, ..., vn]\n",
    "\n",
    "Since the eigenvectors are linearly independent, the matrix P is invertible.\n",
    "\n",
    "Now, let's compute the inverse of P:\n",
    "\n",
    "P^(-1) = [v1, v2, ..., vn]^(-1)\n",
    "\n",
    "Since P is invertible, its inverse exists, ensuring that P^(-1) exists.\n",
    "\n",
    "Therefore, the condition of having n linearly independent eigenvectors ensures the invertibility of matrix P.\n",
    "\n",
    "Distinct eigenvalues:\n",
    "Suppose matrix A has distinct eigenvalues λ1, λ2, ..., λn with corresponding linearly independent eigenvectors v1, v2, ..., vn.\n",
    "Since the eigenvalues are distinct, the eigenvectors associated with these eigenvalues are also linearly independent.\n",
    "\n",
    "Now, let's consider the eigen-decomposition equation A = P * D * P^(-1).\n",
    "\n",
    "If matrix A has distinct eigenvalues, then the diagonal matrix D will have the eigenvalues on its diagonal without any repetition. Since the eigenvectors v1, v2, ..., vn are linearly independent, matrix P is invertible.\n",
    "\n",
    "Thus, the conditions of having distinct eigenvalues ensure the invertibility of matrix P.\n",
    "\n",
    "By satisfying both conditions of having n linearly independent eigenvectors and distinct eigenvalues, the square matrix A can be diagonalized using the eigen-decomposition approach.\n",
    "\n",
    "This proof demonstrates that the existence of linearly independent eigenvectors and distinct eigenvalues guarantees the diagonalizability of a square matrix using eigen-decomposition."
   ]
  },
  {
   "attachments": {},
   "cell_type": "markdown",
   "metadata": {},
   "source": [
    "Q4. What is the significance of the spectral theorem in the context of the Eigen-Decomposition approach?\n",
    "How is it related to the diagonalizability of a matrix? Explain with an example."
   ]
  },
  {
   "attachments": {},
   "cell_type": "markdown",
   "metadata": {},
   "source": [
    "The spectral theorem is a fundamental result in linear algebra that establishes a deep connection between the eigenvalues, eigenvectors, and diagonalizability of a matrix. In the context of the eigen-decomposition approach, the spectral theorem provides a key insight into the diagonalizability of a matrix and the relationship between eigenvalues and eigenvectors.\n",
    "\n",
    "The spectral theorem states that for a square matrix A that satisfies certain conditions, it is possible to diagonalize the matrix by finding a basis of eigenvectors. In other words, if A meets the requirements of the spectral theorem, it can be expressed as:\n",
    "\n",
    "A = P * D * P^(-1)\n",
    "\n",
    "where P is a matrix whose columns are eigenvectors of A, and D is a diagonal matrix with eigenvalues of A on the diagonal.\n",
    "\n",
    "The significance of the spectral theorem in the context of the eigen-decomposition approach lies in its implications for understanding the properties and behavior of a matrix. Here are a few key points:\n",
    "\n",
    "Diagonalizability: The spectral theorem guarantees the diagonalizability of a matrix A if it satisfies the requirements. This means that if a matrix has a full set of linearly independent eigenvectors, it can be decomposed into a diagonal form. Diagonal matrices are particularly useful because they simplify various matrix operations and reveal the underlying structure of the matrix.\n",
    "\n",
    "Eigenvalues and Eigenvectors: The spectral theorem establishes that the eigenvalues and eigenvectors play a crucial role in the diagonalization process. The eigenvalues appear as the diagonal entries in the resulting diagonal matrix D, while the eigenvectors form the matrix P. The diagonalization reveals the relationships between eigenvalues and eigenvectors and provides a clear picture of how the matrix operates on the eigenvectors.\n",
    "\n",
    "Simplicity of Operations: The diagonalization of a matrix using the spectral theorem simplifies various matrix operations. For example, raising a diagonal matrix to a power involves simply raising each diagonal element to that power. Similarly, computing the exponential of a diagonal matrix involves exponentiating each diagonal element. This simplification makes calculations more efficient and facilitates the analysis of matrix transformations.\n",
    "\n",
    "Spectral Properties: The spectral theorem connects the eigenvalues with the behavior and characteristics of a matrix. The eigenvalues provide information about the dominant modes or behaviors of a system described by the matrix. The largest eigenvalue can indicate the dominant behavior, while the smallest eigenvalue can represent stability or convergence properties. The diagonalization process allows us to extract these spectral properties easily."
   ]
  },
  {
   "attachments": {},
   "cell_type": "markdown",
   "metadata": {},
   "source": [
    "Q5. How do you find the eigenvalues of a matrix and what do they represent?"
   ]
  },
  {
   "attachments": {},
   "cell_type": "markdown",
   "metadata": {},
   "source": [
    "To find the eigenvalues of a matrix, you need to solve the characteristic equation associated with the matrix. The characteristic equation is formed by equating the determinant of the matrix subtracted by a scalar multiple of the identity matrix to zero. The eigenvalues are the values of the scalar variable that satisfy the characteristic equation.\n",
    "\n",
    "Here's the general procedure to find the eigenvalues of a matrix A:\n",
    "\n",
    "1. Start with an n × n matrix A.\n",
    "\n",
    "2. Form the characteristic equation by subtracting a scalar multiple of the identity matrix from A and set the determinant equal to zero:\n",
    "\n",
    "|A - λI| = 0\n",
    "\n",
    "where A is the matrix, λ is the eigenvalue, and I is the identity matrix of the same size as A.\n",
    "\n",
    "3. Compute the determinant of the resulting matrix A - λI.\n",
    "\n",
    "4. Solve the characteristic equation to find the eigenvalues λ.\n",
    "\n",
    "The eigenvalues represent the scaling factors by which the corresponding eigenvectors are stretched or shrunk when transformed by the matrix A. Each eigenvalue provides information about the behavior and characteristics of the matrix, such as dominant modes, stability, or convergence properties.\n",
    "\n",
    "Here are a few key points about eigenvalues:\n",
    "\n",
    "1. Eigenvalues can be real or complex numbers. For real matrices, the eigenvalues can be either real or complex conjugate pairs.\n",
    "\n",
    "2. The number of distinct eigenvalues is equal to the dimension of the matrix, counting multiplicities. In other words, an n × n matrix has n eigenvalues, but they can be repeated.\n",
    "\n",
    "3. The sum of eigenvalues is equal to the trace of the matrix. The trace of a matrix is the sum of its diagonal elements.\n",
    "\n",
    "4. The product of eigenvalues is equal to the determinant of the matrix.\n",
    "\n",
    "5. Eigenvalues play a crucial role in diagonalization and spectral analysis of matrices. They provide insights into the behavior and properties of linear transformations represented by the matrix."
   ]
  },
  {
   "attachments": {},
   "cell_type": "markdown",
   "metadata": {},
   "source": [
    "Q6. What are eigenvectors and how are they related to eigenvalues?"
   ]
  },
  {
   "attachments": {},
   "cell_type": "markdown",
   "metadata": {},
   "source": [
    "Eigenvectors are vectors that, when multiplied by a matrix, result in a scalar multiple of themselves. They are closely related to eigenvalues and play a fundamental role in understanding the properties of matrices.\n",
    "\n",
    "Formally, let A be a square matrix and v be a non-zero vector. If the following equation holds:\n",
    "\n",
    "A * v = λ * v\n",
    "\n",
    "where λ is a scalar, then v is an eigenvector of A and λ is the corresponding eigenvalue.\n",
    "\n",
    "In this equation, A represents the matrix, v represents the eigenvector, and λ represents the eigenvalue. The equation states that when the matrix A acts on the eigenvector v, it simply scales v by the eigenvalue λ.\n",
    "\n",
    "Here are some key points about eigenvectors:\n",
    "\n",
    "1. Linear Independence: Eigenvectors corresponding to distinct eigenvalues are always linearly independent. In other words, if two eigenvalues are different, their associated eigenvectors are linearly independent. This property is crucial for diagonalization and determining the complete set of eigenvectors of a matrix.\n",
    "\n",
    "2. Null Space: The eigenvectors associated with the eigenvalue zero form the null space (also known as the kernel) of the matrix A. The null space consists of all vectors that are mapped to zero when multiplied by the matrix A.\n",
    "\n",
    "3. Basis for Transformations: The eigenvectors of a matrix form a basis for the vector space on which the matrix operates. Any vector in this space can be expressed as a linear combination of the eigenvectors. This basis provides insight into the dominant directions and magnitudes of transformations represented by the matrix.\n",
    "\n",
    "4. Geometric Interpretation: Eigenvectors can have a geometric interpretation. For example, in a 2D transformation, eigenvectors represent the directions along which the transformation stretches or shrinks space, while the eigenvalues represent the scaling factors along those directions.\n",
    "\n",
    "5. Matrix Diagonalization: Eigenvectors play a crucial role in diagonalizing a matrix. If a square matrix has a complete set of linearly independent eigenvectors, it can be diagonalized by expressing it in terms of these eigenvectors and their corresponding eigenvalues."
   ]
  },
  {
   "attachments": {},
   "cell_type": "markdown",
   "metadata": {},
   "source": [
    "Q7. Can you explain the geometric interpretation of eigenvectors and eigenvalues?"
   ]
  },
  {
   "attachments": {},
   "cell_type": "markdown",
   "metadata": {},
   "source": [
    "Certainly! The geometric interpretation of eigenvectors and eigenvalues provides insight into the transformations represented by a matrix and how they affect the vector space.\n",
    "\n",
    "Let's consider a 2D transformation represented by a matrix A. The eigenvectors and eigenvalues of A will help us understand the geometric interpretation.\n",
    "\n",
    "* Eigenvectors: Eigenvectors represent the directions along which the transformation stretches or shrinks space. Each eigenvector is associated with an eigenvalue, which determines the scaling factor along that direction.\n",
    "If an eigenvector v1 is stretched or shrunk by a factor of λ1, it means that when the transformation A is applied to v1, it results in a vector parallel to v1, but scaled by λ1.\n",
    "\n",
    "1. If an eigenvector v2 is stretched or shrunk by a factor of λ2, it means that the transformation A scales v2 by λ2.\n",
    "\n",
    "2. Eigenvectors provide the principal axes of the transformation, representing the directions that remain unchanged (up to scaling) under the transformation. They indicate the most important directions in the vector space with respect to the transformation.\n",
    "\n",
    "* Eigenvalues: Eigenvalues represent the scaling factors by which the eigenvectors are stretched or shrunk. Each eigenvalue corresponds to an eigenvector and determines the magnitude of the transformation along that direction.\n",
    "1. If an eigenvalue λ1 is positive, it indicates that the transformation stretches the corresponding eigenvector v1 in the direction of v1. The magnitude of stretching is determined by the value of λ1.\n",
    "\n",
    "2. If an eigenvalue λ2 is negative, it indicates that the transformation reverses the direction of the corresponding eigenvector v2 and stretches it by the absolute value of λ2. In other words, v2 is flipped or reflected across the origin.\n",
    "\n",
    "3. If an eigenvalue λ3 is zero, it means that the transformation collapses the corresponding eigenvector v3 to the origin, resulting in a degenerate transformation.\n",
    "\n",
    "The eigenvalues provide information about the scaling behavior of the transformation along the eigenvectors. Positive eigenvalues indicate stretching, negative eigenvalues indicate flipping or reflection, and zero eigenvalues indicate collapsing or degeneracy.\n",
    "\n",
    "In summary, the geometric interpretation of eigenvectors and eigenvalues reveals the principal directions and magnitudes of stretching, shrinking, flipping, and collapsing of space under a linear transformation represented by a matrix. Understanding these geometric properties helps in analyzing the behavior of systems, identifying dominant modes, and studying the structural properties of matrices."
   ]
  },
  {
   "attachments": {},
   "cell_type": "markdown",
   "metadata": {},
   "source": [
    "Q8. What are some real-world applications of eigen decomposition?"
   ]
  },
  {
   "attachments": {},
   "cell_type": "markdown",
   "metadata": {},
   "source": [
    "Eigen-decomposition, or eigendecomposition, has various real-world applications across different fields. Here are some examples:\n",
    "\n",
    "1. Principal Component Analysis (PCA): PCA is a widely used statistical technique that utilizes eigen-decomposition to reduce the dimensionality of high-dimensional data. It identifies the principal components (eigenvectors) that capture the most significant variability in the data and provides a lower-dimensional representation.\n",
    "\n",
    "2. Image Compression: Eigen-decomposition is employed in image compression techniques like Singular Value Decomposition (SVD) and Discrete Cosine Transform (DCT). It enables the transformation of images into a lower-dimensional representation by capturing the most important features using eigenvectors.\n",
    "\n",
    "3. Quantum Mechanics: In quantum mechanics, eigenvalues and eigenvectors play a crucial role in the analysis of quantum systems. The energy levels and states of quantum systems are determined by solving eigenvalue problems, aiding in the understanding and prediction of quantum phenomena.\n",
    "\n",
    "4. Network Analysis: Eigen-decomposition is used in network analysis, particularly in the study of connectivity and centrality measures. Eigenvectors associated with the largest eigenvalues are employed to identify influential nodes or communities in complex networks.\n",
    "\n",
    "5. Signal Processing: Eigen-decomposition techniques, such as the Karhunen-Loève Transform (KLT), are used in signal processing applications. KLT can extract the most relevant features from signals by representing them in terms of eigenvectors, enabling efficient compression and denoising.\n",
    "\n",
    "6. Structural Analysis: Eigen-decomposition is employed in structural analysis, such as finite element analysis, to determine the natural frequencies and modes of vibration of structures. Eigenvalues and eigenvectors help in understanding the dynamic behavior and stability of structures.\n",
    "\n",
    "7. Machine Learning: Eigen-decomposition techniques, such as Eigenfaces, are utilized in face recognition systems. By decomposing face images into eigenvectors, facial features can be efficiently represented and compared for recognition purposes.\n",
    "\n",
    "8. Quantum Chemistry: Eigen-decomposition is applied in solving the Schrödinger equation for molecules, enabling the calculation of electronic energy levels and molecular properties. Eigenvectors and eigenvalues provide valuable insights into molecular structures and electronic states."
   ]
  },
  {
   "attachments": {},
   "cell_type": "markdown",
   "metadata": {},
   "source": [
    "Q9. Can a matrix have more than one set of eigenvectors and eigenvalues?"
   ]
  },
  {
   "attachments": {},
   "cell_type": "markdown",
   "metadata": {},
   "source": [
    "No, a matrix cannot have more than one set of eigenvectors and eigenvalues, but it can have multiple eigenvalues with each eigenvalue having a corresponding eigenvector.\n",
    "\n",
    "For a square matrix, each eigenvalue corresponds to a unique eigenvector, and vice versa. The eigenvectors associated with distinct eigenvalues are always linearly independent.\n",
    "\n",
    "However, a matrix may have repeated eigenvalues, which means that multiple eigenvectors can correspond to the same eigenvalue. In such cases, the eigenvectors associated with the repeated eigenvalue form a subspace called the eigenspace.\n",
    "\n",
    "To clarify, let's consider an example:\n",
    "\n",
    "Consider a matrix A with eigenvalue λ1 and two linearly independent eigenvectors v1 and v2 associated with λ1. These eigenvectors span a subspace called the eigenspace of λ1. Any linear combination of v1 and v2, such as av1 + bv2, where a and b are scalars, will also be an eigenvector associated with λ1.\n",
    "\n",
    "So, while there can be multiple eigenvectors associated with the same eigenvalue, they form a subspace rather than distinct sets. This is because the eigenvectors associated with the same eigenvalue share the same direction but can differ in magnitude.\n",
    "\n",
    "In summary, a matrix can have multiple eigenvectors associated with the same eigenvalue, forming an eigenspace, but it cannot have multiple distinct sets of eigenvectors and eigenvalues. Each eigenvalue corresponds to a unique eigenvector, and the eigenvectors associated with distinct eigenvalues are always linearly independent."
   ]
  },
  {
   "attachments": {},
   "cell_type": "markdown",
   "metadata": {},
   "source": [
    "Q10. In what ways is the Eigen-Decomposition approach useful in data analysis and machine learning?\n",
    "Discuss at least three specific applications or techniques that rely on Eigen-Decomposition."
   ]
  },
  {
   "attachments": {},
   "cell_type": "markdown",
   "metadata": {},
   "source": [
    "Eigen-decomposition, or eigendecomposition, is a valuable tool in data analysis and machine learning, offering insights into the underlying structure and properties of data. Here are three specific applications or techniques that rely on Eigen-Decomposition:\n",
    "\n",
    "1. Principal Component Analysis (PCA): PCA is a widely used technique for dimensionality reduction and feature extraction. It utilizes eigen-decomposition to identify the principal components (eigenvectors) that capture the most significant variability in the data. By projecting the data onto a lower-dimensional space defined by the eigenvectors, PCA enables data compression, visualization, and denoising. Eigen-decomposition plays a crucial role in extracting the eigenvectors and eigenvalues needed to perform PCA.\n",
    "\n",
    "2. Spectral Clustering: Spectral clustering is a clustering algorithm that leverages the spectral properties of the data. It uses eigen-decomposition to transform the data into a lower-dimensional representation where clusters are more separable. The eigenvectors corresponding to the smallest eigenvalues of the Laplacian matrix are utilized to partition the data into clusters. Eigen-decomposition helps to compute these eigenvectors and eigenvalues, enabling spectral clustering to identify complex data patterns and groupings.\n",
    "\n",
    "3. Recommender Systems: Eigen-decomposition is employed in collaborative filtering techniques used in recommender systems. Collaborative filtering aims to recommend items to users based on their preferences and similarities to other users. Eigen-decomposition is used to factorize the user-item rating matrix into lower-dimensional representations, such as matrix factorization or singular value decomposition (SVD). By decomposing the matrix, eigenvectors and eigenvalues can be extracted, allowing for efficient recommendation computations and capturing latent factors underlying user-item interactions.\n",
    "\n",
    "These are just a few examples highlighting how eigen-decomposition is applied in data analysis and machine learning. Eigen-decomposition helps to reveal the important patterns and structures in the data, reduce dimensionality, and provide efficient representations for further analysis. Its utilization in techniques like PCA, spectral clustering, and recommender systems demonstrates its practical significance in extracting meaningful information and enhancing the performance of various data-driven applications."
   ]
  },
  {
   "attachments": {},
   "cell_type": "markdown",
   "metadata": {},
   "source": []
  }
 ],
 "metadata": {
  "language_info": {
   "name": "python"
  },
  "orig_nbformat": 4
 },
 "nbformat": 4,
 "nbformat_minor": 2
}
