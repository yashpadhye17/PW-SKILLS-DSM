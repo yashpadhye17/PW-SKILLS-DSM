{
 "cells": [
  {
   "cell_type": "markdown",
   "metadata": {},
   "source": [
    "# 20 February Assignment"
   ]
  },
  {
   "attachments": {},
   "cell_type": "markdown",
   "metadata": {},
   "source": [
    "Q1. Explain GET and POST methods."
   ]
  },
  {
   "attachments": {},
   "cell_type": "markdown",
   "metadata": {},
   "source": [
    "GET METHOD: The GET technique is used to obtain information from the server. When a browser makes a GET request, the request parameters are appended to the URL as a query string. After that, the server responds by providing the requested data back to the browser. The HTTP method is idempotent, which means that repeating the same GET request will always result in the same response.\n",
    "\n",
    "\n",
    "POST METHOD:The POST method is used to send data to the server, generally to change the server's state. When a browser sends a POST request, the request parameters are sent in the body of the request rather than appended to the URL.\n",
    "The POST method is not idempotent, which means that repeating the same POST request may result in different results, such as the creation of several resources on the server."
   ]
  },
  {
   "attachments": {},
   "cell_type": "markdown",
   "metadata": {},
   "source": [
    "Q2. Why is request used in Flask?"
   ]
  },
  {
   "attachments": {},
   "cell_type": "markdown",
   "metadata": {},
   "source": [
    "The request object in Flask is used to access incoming request data sent by a client, often a web browser. The request object offers access to information from the request, such as form data, query string arguments, and HTTP headers.\n",
    "\n",
    "* Retrieving form data\n",
    "* Query parameters\n",
    "* File uploads"
   ]
  },
  {
   "attachments": {},
   "cell_type": "markdown",
   "metadata": {},
   "source": [
    "Q3. Why is redirect() used in Flask?"
   ]
  },
  {
   "attachments": {},
   "cell_type": "markdown",
   "metadata": {},
   "source": [
    "In Flask, the redirect() function is used to redirect the user to a different URL, generally in reaction to a user action or to conduct a specific server activity. It generates a new HTTP response with the 302 status code, instructing the client (for example, a web browser) to redirect to the provided URL.\n",
    "\n",
    "some common use cases for the redirect() function in Flask:\n",
    "\n",
    "* After a successful form submission\n",
    "* After a login/logout action\n",
    "* Handling errors or invalid requests"
   ]
  },
  {
   "attachments": {},
   "cell_type": "markdown",
   "metadata": {},
   "source": [
    "Q4. What are templates in Flask? Why is the render_template() function used?"
   ]
  },
  {
   "attachments": {},
   "cell_type": "markdown",
   "metadata": {},
   "source": [
    "Templates in Flask are pre-built HTML files that contain placeholders for dynamic content, such as data from a database or user input.The render_template() function in Flask is used to render a template and pass data to it for rendering. It takes two arguments: the name of the template file and any data that should be passed to the template. The function loads the specified template file from the templates directory and renders it with the provided data.\n",
    "\n",
    "render_template() is used for:\n",
    " \n",
    "* Displaying dynamic data\n",
    "* Separating content and presentation\n",
    "* Reusing code"
   ]
  },
  {
   "attachments": {},
   "cell_type": "markdown",
   "metadata": {},
   "source": [
    "Q5. Create a simple API. Use Postman to test it. Attach the screenshot of the output in the Jupyter Notebook."
   ]
  },
  {
   "attachments": {},
   "cell_type": "markdown",
   "metadata": {},
   "source": [
    "![](2023-02-22-16-39-35.png)"
   ]
  },
  {
   "attachments": {},
   "cell_type": "markdown",
   "metadata": {},
   "source": [
    "If Screenshot not visisble then it is present in the similar github folder."
   ]
  },
  {
   "cell_type": "markdown",
   "metadata": {},
   "source": []
  }
 ],
 "metadata": {
  "kernelspec": {
   "display_name": ".venv",
   "language": "python",
   "name": "python3"
  },
  "language_info": {
   "codemirror_mode": {
    "name": "ipython",
    "version": 3
   },
   "file_extension": ".py",
   "mimetype": "text/x-python",
   "name": "python",
   "nbconvert_exporter": "python",
   "pygments_lexer": "ipython3",
   "version": "3.11.1"
  },
  "orig_nbformat": 4,
  "vscode": {
   "interpreter": {
    "hash": "681b62b8b14b178f0d99489f6794bd07985a8f795d8b20ca3a62f16f316d5710"
   }
  }
 },
 "nbformat": 4,
 "nbformat_minor": 2
}
