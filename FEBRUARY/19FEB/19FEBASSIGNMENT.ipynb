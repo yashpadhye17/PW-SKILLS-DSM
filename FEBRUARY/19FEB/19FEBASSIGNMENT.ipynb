{
 "cells": [
  {
   "attachments": {},
   "cell_type": "markdown",
   "metadata": {},
   "source": [
    "# 19 February Assignment\n"
   ]
  },
  {
   "attachments": {},
   "cell_type": "markdown",
   "metadata": {},
   "source": [
    "Q1. What is Flask Framework? What are the advantages of Flask Framework?"
   ]
  },
  {
   "attachments": {},
   "cell_type": "markdown",
   "metadata": {},
   "source": [
    "Flask is a Python-based lightweight and flexible web framework. It is intended to be simple to understand and use, and it just includes the essential functionality required to construct web applications. Flask is a micro-framework that allows developers to construct web apps quickly and with minimal code. It is not a full-stack framework like Django.\n",
    "\n",
    "Advantages of Flask:\n",
    "\n",
    "* Lightweight\n",
    "* Flexibility\n",
    "* Easy to use\n",
    "* Large community\n",
    "* Testing support"
   ]
  },
  {
   "attachments": {},
   "cell_type": "markdown",
   "metadata": {},
   "source": [
    "Q2. Create a simple Flask application to display ‘Hello World!!’. Attach the screenshot of the output in\n",
    "Jupyter Notebook."
   ]
  },
  {
   "attachments": {},
   "cell_type": "markdown",
   "metadata": {},
   "source": [
    "![Output](2023-02-22-12-10-47.png)"
   ]
  },
  {
   "attachments": {},
   "cell_type": "markdown",
   "metadata": {},
   "source": [
    "Q3. What is App routing in Flask? Why do we use app routes?"
   ]
  },
  {
   "attachments": {},
   "cell_type": "markdown",
   "metadata": {},
   "source": [
    "The process of mapping URLs to specific Python methods that will be executed when the URL is requested is known as app routing in Flask. In Python, this is accomplished by using the @app.route decorator.\n",
    "\n",
    "Flask app routing is useful since it enables us to build multiple pages or parts within our web application and map them to certain functions or views. This allows us to construct more sophisticated apps by making it easier to organise and structure our code.\n",
    "To specify the behaviour of our web application, we use Flask app routes. We may control what material is presented to the user when they travel to different pages or sections of our application by mapping URLs to certain functions."
   ]
  },
  {
   "attachments": {},
   "cell_type": "markdown",
   "metadata": {},
   "source": [
    "Q4. Create a “/welcome” route to display the welcome message “Welcome to ABC Corporation” and a “/”\n",
    "route to show the following details:\n",
    "\n",
    "Company Name: ABC Corporation\n",
    "\n",
    "Location: India\n",
    "\n",
    "Contact Detail: 999-999-9999"
   ]
  },
  {
   "attachments": {},
   "cell_type": "markdown",
   "metadata": {},
   "source": [
    "![](2023-02-22-12-19-47.png)"
   ]
  },
  {
   "attachments": {},
   "cell_type": "markdown",
   "metadata": {},
   "source": [
    "![](2023-02-22-12-20-26.png)"
   ]
  },
  {
   "attachments": {},
   "cell_type": "markdown",
   "metadata": {},
   "source": [
    "Q5. What function is used in Flask for URL Building? Write a Python code to demonstrate the working of the\n",
    "url_for() function."
   ]
  },
  {
   "attachments": {},
   "cell_type": "markdown",
   "metadata": {},
   "source": [
    "The <b>url_for()</b> method is used to create URLs. Based on the URL rules established in the application, it generates a URL for the given endpoint and its parameters. The first input to this function is the endpoint name, and any additional keyword arguments are URL variable values."
   ]
  },
  {
   "cell_type": "code",
   "execution_count": 3,
   "metadata": {},
   "outputs": [
    {
     "data": {
      "text/plain": [
       "'from flask import Flask\\n\\napp = Flask(__name__)\\n\\n\\n@app.route(\\'/user/<username>\\')\\ndef profile(username):\\n    return f\\'Hello, {username}!\\'\\n\\n\\nif __name__ == \\'__main__\\':\\n    with app.test_request_context():\\n        print(url_for(\\'index\\'))  \\n        print(url_for(\\'profile\\', username=\\'John\\'))  \\n    app.run(host=\"0.0.0.0\")'"
      ]
     },
     "execution_count": 3,
     "metadata": {},
     "output_type": "execute_result"
    }
   ],
   "source": [
    "'''from flask import Flask\n",
    "\n",
    "app = Flask(__name__)\n",
    "\n",
    "\n",
    "@app.route('/user/<username>')\n",
    "def profile(username):\n",
    "    return f'Hello, {username}!'\n",
    "\n",
    "\n",
    "if __name__ == '__main__':\n",
    "    with app.test_request_context():\n",
    "        print(url_for('index'))  \n",
    "        print(url_for('profile', username='John'))  \n",
    "    app.run(host=\"0.0.0.0\")'''\n"
   ]
  },
  {
   "cell_type": "code",
   "execution_count": null,
   "metadata": {},
   "outputs": [],
   "source": []
  }
 ],
 "metadata": {
  "kernelspec": {
   "display_name": ".venv",
   "language": "python",
   "name": "python3"
  },
  "language_info": {
   "codemirror_mode": {
    "name": "ipython",
    "version": 3
   },
   "file_extension": ".py",
   "mimetype": "text/x-python",
   "name": "python",
   "nbconvert_exporter": "python",
   "pygments_lexer": "ipython3",
   "version": "3.11.1"
  },
  "orig_nbformat": 4,
  "vscode": {
   "interpreter": {
    "hash": "681b62b8b14b178f0d99489f6794bd07985a8f795d8b20ca3a62f16f316d5710"
   }
  }
 },
 "nbformat": 4,
 "nbformat_minor": 2
}
