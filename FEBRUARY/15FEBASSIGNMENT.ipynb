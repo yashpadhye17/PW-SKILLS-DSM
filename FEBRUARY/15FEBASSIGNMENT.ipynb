{
 "cells": [
  {
   "attachments": {},
   "cell_type": "markdown",
   "metadata": {},
   "source": [
    "# 15 FEBRUARY ASSIGNMENT"
   ]
  },
  {
   "attachments": {},
   "cell_type": "markdown",
   "metadata": {},
   "source": [
    "Q1. What is multiprocessing in python? Why is it useful?"
   ]
  },
  {
   "attachments": {},
   "cell_type": "markdown",
   "metadata": {},
   "source": [
    "Multiprocessing is a built-in Python module that allows the system to execute numerous processes at the same time. It will allow programmes to be divided into smaller threads that may operate independently. The operating system may then assign all of these threads or processes to the CPU and have them execute in parallel, enhancing overall performance and efficiency.\n",
    "\n",
    "\n",
    "Performing multiple operations for a single processor becomes challenging. As the number of processes keeps increasing, the processor will have to halt the current process and move to the next, to keep them going. Thus, it will have to interrupt each task, thereby hampering the performance."
   ]
  },
  {
   "attachments": {},
   "cell_type": "markdown",
   "metadata": {},
   "source": [
    "Q2. What are the differences between multiprocessing and multithreading?"
   ]
  },
  {
   "attachments": {},
   "cell_type": "markdown",
   "metadata": {},
   "source": [
    "* Multiprocessing increases computing power by using two or more CPUs, whereas multithreading increases computing power by using a single process with several code segments.\n",
    "* Multithreading is concerned with creating computational threads from a single process, whereas multiprocessing is concerned with increasing computing capacity by adding CPUs.\n",
    "* Multiprocessing is used to make a more dependable system, whereas multithreading is used to produce parallel threads.\n",
    "* Multithreading is easy to set up and requires minimal resources, whereas multiprocessing takes a long time and particular resources to set up.\n",
    "* Multiprocessing operates many processes at the same time, whereas multithreading executes multiple threads at the same time.\n",
    "* Multiprocessing produces a distinct address space for each process, whereas multithreading uses a shared address space for all threads."
   ]
  },
  {
   "attachments": {},
   "cell_type": "markdown",
   "metadata": {},
   "source": [
    "Q3. Write a python code to create a process using the multiprocessing module."
   ]
  },
  {
   "cell_type": "code",
   "execution_count": 1,
   "metadata": {},
   "outputs": [
    {
     "name": "stdout",
     "output_type": "stream",
     "text": [
      "This is my main program\n"
     ]
    }
   ],
   "source": [
    "import multiprocessing\n",
    "def test():\n",
    "    print(\"This is multprocessing prog\")\n",
    "\n",
    "if __name__ == \"__main__\":\n",
    "    m= multiprocessing.Process(target=test)\n",
    "    print(\"This is my main program\")\n",
    "    m.start()\n",
    "    m.join()"
   ]
  },
  {
   "cell_type": "code",
   "execution_count": 2,
   "metadata": {},
   "outputs": [
    {
     "name": "stdout",
     "output_type": "stream",
     "text": [
      "This is multprocessing prog\n"
     ]
    }
   ],
   "source": [
    "test()"
   ]
  },
  {
   "attachments": {},
   "cell_type": "markdown",
   "metadata": {},
   "source": [
    "Q4. What is a multiprocessing pool in python? Why is it used?"
   ]
  },
  {
   "attachments": {},
   "cell_type": "markdown",
   "metadata": {},
   "source": [
    "In Python, a multiprocessing pool is a set of explanation of the process that may execute tasks concurrently. The process of multiprocessing. The Pool class makes it easy to construct a defined number of worker processes and assign tasks to them.\n",
    "\n",
    "Pool class when you need to execute tasks that may or may not take arguments and may or may not return a result once the tasks are complete. Use the multiprocessing. Pool class when you need to execute different types of ad hoc tasks, such as calling different target task functions\n"
   ]
  },
  {
   "attachments": {},
   "cell_type": "markdown",
   "metadata": {},
   "source": [
    "Q5. How can we create a pool of worker processes in python using the multiprocessing module?"
   ]
  },
  {
   "cell_type": "code",
   "execution_count": null,
   "metadata": {},
   "outputs": [],
   "source": [
    "import multiprocessing\n",
    "\n",
    "def test1(x):\n",
    "    return x * x\n",
    "\n",
    "if __name__ == '__main__':\n",
    "    with multiprocessing.Pool(processes=4) as pool:\n",
    "        results = pool.map(test1, [1, 2, 3, 4, 5])\n",
    "        print(results)"
   ]
  },
  {
   "attachments": {},
   "cell_type": "markdown",
   "metadata": {},
   "source": [
    "Q6. Write a python program to create 4 processes, each process should print a different number using the\n",
    "multiprocessing module in python."
   ]
  },
  {
   "cell_type": "code",
   "execution_count": null,
   "metadata": {},
   "outputs": [],
   "source": [
    "import multiprocessing\n",
    "\n",
    "def print_number(num):\n",
    "    print(\"Number:\", num)\n",
    "\n",
    "if __name__ == '__main__':\n",
    "    processes = []\n",
    "    for num in range(1, 5):\n",
    "        process = multiprocessing.Process(target=print_number, args=(num,))\n",
    "        processes.append(process)\n",
    "        process.start()\n",
    "\n",
    "    for process in processes:\n",
    "        process.join()"
   ]
  }
 ],
 "metadata": {
  "kernelspec": {
   "display_name": "Python 3",
   "language": "python",
   "name": "python3"
  },
  "language_info": {
   "codemirror_mode": {
    "name": "ipython",
    "version": 3
   },
   "file_extension": ".py",
   "mimetype": "text/x-python",
   "name": "python",
   "nbconvert_exporter": "python",
   "pygments_lexer": "ipython3",
   "version": "3.11.1"
  },
  "orig_nbformat": 4,
  "vscode": {
   "interpreter": {
    "hash": "da8bd05485955255bdcec9b6056a3f5a0ea9108210a95491ff7a03b1df67877e"
   }
  }
 },
 "nbformat": 4,
 "nbformat_minor": 2
}
