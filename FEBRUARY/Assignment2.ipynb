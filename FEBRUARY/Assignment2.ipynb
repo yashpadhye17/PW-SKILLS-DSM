{
  "cells": [
    {
      "cell_type": "markdown",
      "metadata": {
        "id": "LMSoHK0ld44a"
      },
      "source": [
        "<h1>ASSIGNMENT 2</h1>"
      ]
    },
    {
      "cell_type": "markdown",
      "source": [
        "<h3>Q1</h3>"
      ],
      "metadata": {
        "id": "-oySh6oEd8Qh"
      }
    },
    {
      "cell_type": "code",
      "execution_count": null,
      "metadata": {
        "colab": {
          "base_uri": "https://localhost:8080/"
        },
        "id": "PxeK4i3Gd44f",
        "outputId": "db7311ac-0a52-4519-c2e8-8f44c805d898"
      },
      "outputs": [
        {
          "output_type": "stream",
          "name": "stdout",
          "text": [
            "Enter the Percentage64.2\n",
            "You Got C\n"
          ]
        }
      ],
      "source": [
        "percentage=float(input(\"Enter the Percentage\"))\n",
        "if percentage>90:\n",
        "    Grade='A'\n",
        "    print(\"You Got\",Grade)\n",
        "elif percentage>80 and percentage<=90:\n",
        "    Grade ='B'\n",
        "    print(\"You Got\",Grade)\n",
        "elif percentage>=60 and percentage<=80:\n",
        "    Grade='C'\n",
        "    print(\"You Got\",Grade)\n",
        "else:\n",
        "    Grade='D'\n",
        "    print(\"You Got\",Grade)"
      ]
    },
    {
      "cell_type": "markdown",
      "source": [
        "<h3>Q2</h3>"
      ],
      "metadata": {
        "id": "YvjDXbbgd_9W"
      }
    },
    {
      "cell_type": "code",
      "execution_count": null,
      "metadata": {
        "colab": {
          "base_uri": "https://localhost:8080/"
        },
        "id": "U9tytGGwd44h",
        "outputId": "58b2abf1-a633-4df3-e24f-f947d33263bf"
      },
      "outputs": [
        {
          "output_type": "stream",
          "name": "stdout",
          "text": [
            "Enter the Price of the bike64000\n",
            "Tax to be paid:  10 %\n"
          ]
        }
      ],
      "source": [
        "cost=int(input(\"Enter the Price of the bike\"))\n",
        "if cost>100000:\n",
        "    tax=15\n",
        "    print(\"Tax to be paid: \",tax,\"%\")\n",
        "elif cost>50000 and cost<=100000:\n",
        "    tax=10\n",
        "    print(\"Tax to be paid: \",tax,\"%\")\n",
        "elif cost<=50000:\n",
        "    tax=5\n",
        "    print(\"Tax to be paid: \",tax,\"%\")\n"
      ]
    },
    {
      "cell_type": "markdown",
      "source": [
        "<h3>Q4</h3>"
      ],
      "metadata": {
        "id": "1mEGXYDCeEIi"
      }
    },
    {
      "cell_type": "code",
      "execution_count": null,
      "metadata": {
        "colab": {
          "base_uri": "https://localhost:8080/"
        },
        "id": "ZfBzs6Edd44h",
        "outputId": "e0cbf25f-2855-4e7a-8313-3694a9bbd717"
      },
      "outputs": [
        {
          "output_type": "stream",
          "name": "stdout",
          "text": [
            "Enter City NameJaipur\n",
            "Monument: Jal Mahal\n"
          ]
        }
      ],
      "source": [
        "city=input(\"Enter City Name\")\n",
        "if city==\"Delhi\":\n",
        "    monument=\"Red Fort\"\n",
        "    print(\"Monument:\", monument)\n",
        "elif city==\"Agra\":\n",
        "    monument=\"Taj Mahal\"\n",
        "    print(\"Monument:\", monument)\n",
        "elif city==\"Jaipur\":\n",
        "    monument=\"Jal Mahal\"\n",
        "    print(\"Monument:\", monument)\n",
        "else:\n",
        "    print(\"Enter valid city\")"
      ]
    },
    {
      "cell_type": "markdown",
      "source": [
        "<h3>Q4</h3>"
      ],
      "metadata": {
        "id": "_6jzZb7ReJ8Y"
      }
    },
    {
      "cell_type": "code",
      "execution_count": null,
      "metadata": {
        "colab": {
          "base_uri": "https://localhost:8080/"
        },
        "id": "mmd0jdyOd44i",
        "outputId": "5345cdaf-53bd-4db1-db15-0c4bb27adc3b"
      },
      "outputs": [
        {
          "output_type": "stream",
          "name": "stdout",
          "text": [
            "Enter Number:686\n",
            "Count=  4\n"
          ]
        }
      ],
      "source": [
        "no=int(input(\"Enter Number:\"))\n",
        "least=10\n",
        "count=0\n",
        "while(no>10):\n",
        "    no=no/3\n",
        "    count = count+1\n",
        "print(\"Count= \",count)\n"
      ]
    },
    {
      "cell_type": "markdown",
      "metadata": {
        "id": "vClLrwDrd44i"
      },
      "source": [
        "<h3>Q5)why and when to use while loop in python give a detailed description wtih example.</h3>"
      ]
    },
    {
      "cell_type": "markdown",
      "metadata": {
        "id": "zsmlcJYzd44j"
      },
      "source": [
        "While loop is used to run a block of code unit a certain condition is satisfied.\n",
        "While loop works in this manner:\n",
        "* It evaluates the condition at first\n",
        "* If the condition is True then it goes inside the loop.\n",
        "* This above process continues till it returns False.\n",
        "* When condition evaluates as False then the loop stops."
      ]
    },
    {
      "cell_type": "code",
      "execution_count": null,
      "metadata": {
        "colab": {
          "base_uri": "https://localhost:8080/"
        },
        "id": "DTPxOGVVd44j",
        "outputId": "0c035da4-b114-45cc-ebae-3127694d8e39"
      },
      "outputs": [
        {
          "output_type": "stream",
          "name": "stdout",
          "text": [
            "20\n",
            "30\n",
            "40\n",
            "50\n",
            "60\n",
            "70\n",
            "80\n",
            "90\n",
            "100\n"
          ]
        }
      ],
      "source": [
        "atom=10\n",
        "while(atom<100):\n",
        "    atom=atom+10\n",
        "    print(atom)"
      ]
    },
    {
      "cell_type": "markdown",
      "source": [
        "<h3>Q6</h6>"
      ],
      "metadata": {
        "id": "MXJfUJiBeP3C"
      }
    },
    {
      "cell_type": "code",
      "execution_count": null,
      "metadata": {
        "colab": {
          "base_uri": "https://localhost:8080/"
        },
        "id": "E4hbj1oad44k",
        "outputId": "954f8b13-5d74-421c-fc4a-e264a2453d6b"
      },
      "outputs": [
        {
          "output_type": "stream",
          "name": "stdout",
          "text": [
            "1 \n",
            "3 3 \n",
            "5 5 5 \n",
            "7 7 7 7 \n",
            "9 9 9 9 9 \n",
            "11 11 11 11 11 11 \n"
          ]
        }
      ],
      "source": [
        "rows = 6\n",
        "i = 1\n",
        "while i <= rows:\n",
        "    j = 1\n",
        "    while j <= i:\n",
        "        print((i * 2 - 1), end=\" \")\n",
        "        j = j + 1\n",
        "    i = i + 1\n",
        "    print('')"
      ]
    },
    {
      "cell_type": "code",
      "execution_count": null,
      "metadata": {
        "colab": {
          "base_uri": "https://localhost:8080/"
        },
        "id": "SDOtMA9Ld44k",
        "outputId": "fcfd4af8-e958-4b32-a44a-572f6639ab2e"
      },
      "outputs": [
        {
          "output_type": "stream",
          "name": "stdout",
          "text": [
            "* * * * * \n",
            "  * * * * \n",
            "    * * * \n",
            "      * * \n",
            "        * \n"
          ]
        }
      ],
      "source": [
        "rows = 5\n",
        "i = rows\n",
        "while i >= 1:\n",
        "    j = rows\n",
        "    while j > i:\n",
        "        print(' ', end=' ')\n",
        "        j -= 1\n",
        "    k = 1\n",
        "    while k <= i:\n",
        "        print('*', end=' ')\n",
        "        k += 1\n",
        "    print()\n",
        "    i -= 1"
      ]
    },
    {
      "cell_type": "code",
      "execution_count": null,
      "metadata": {
        "colab": {
          "base_uri": "https://localhost:8080/"
        },
        "id": "-Xtx_J8rd44l",
        "outputId": "e191db54-cbe8-483a-b78d-0f35fbc3dd79"
      },
      "outputs": [
        {
          "output_type": "stream",
          "name": "stdout",
          "text": [
            "    * \n",
            "   * * \n",
            "  * * * \n",
            " * * * * \n",
            "* * * * * \n"
          ]
        }
      ],
      "source": [
        "rows = 5\n",
        "i = 0\n",
        "i = rows - 1\n",
        "while i >= 0:\n",
        "    j = 0\n",
        "    while j < i:\n",
        "        print('', end=' ')\n",
        "        j += 1\n",
        "    k = i\n",
        "    while k <= rows - 1:\n",
        "        print('*', end=' ')\n",
        "        k += 1\n",
        "    print('')\n",
        "    i -= 1"
      ]
    },
    {
      "cell_type": "markdown",
      "source": [
        "<h3>Q7 & Q8 ARE SIMILAR</h3>"
      ],
      "metadata": {
        "id": "jnBvT-8ueY_-"
      }
    },
    {
      "cell_type": "code",
      "execution_count": null,
      "metadata": {
        "colab": {
          "base_uri": "https://localhost:8080/"
        },
        "id": "cnLyAA-5d44l",
        "outputId": "40a5e677-91ab-4747-9a5b-68bd8141d51a"
      },
      "outputs": [
        {
          "output_type": "stream",
          "name": "stdout",
          "text": [
            "10\n",
            "9\n",
            "8\n",
            "7\n",
            "6\n",
            "5\n",
            "4\n",
            "3\n",
            "2\n",
            "1\n"
          ]
        }
      ],
      "source": [
        "a=10\n",
        "while (a>0):\n",
        "    print(a)\n",
        "    a=a-1"
      ]
    },
    {
      "cell_type": "code",
      "execution_count": null,
      "metadata": {
        "id": "qUAnSFcxd44m"
      },
      "outputs": [],
      "source": []
    }
  ],
  "metadata": {
    "kernelspec": {
      "display_name": "Python 3",
      "language": "python",
      "name": "python3"
    },
    "language_info": {
      "codemirror_mode": {
        "name": "ipython",
        "version": 3
      },
      "file_extension": ".py",
      "mimetype": "text/x-python",
      "name": "python",
      "nbconvert_exporter": "python",
      "pygments_lexer": "ipython3",
      "version": "3.11.1"
    },
    "orig_nbformat": 4,
    "vscode": {
      "interpreter": {
        "hash": "da8bd05485955255bdcec9b6056a3f5a0ea9108210a95491ff7a03b1df67877e"
      }
    },
    "colab": {
      "provenance": []
    }
  },
  "nbformat": 4,
  "nbformat_minor": 0
}