{
 "cells": [
  {
   "attachments": {},
   "cell_type": "markdown",
   "metadata": {},
   "source": [
    "# 6 FEBRUARY ASSIGNMENT"
   ]
  },
  {
   "attachments": {},
   "cell_type": "markdown",
   "metadata": {},
   "source": [
    "Q1)Create a function which will take a list as an argument and return the product of all the numbers\n",
    "after creating a flat list.\n",
    "Use the below-given list as an argument for your function."
   ]
  },
  {
   "cell_type": "code",
   "execution_count": 1,
   "metadata": {},
   "outputs": [],
   "source": [
    "list1 = [1,2,3,4, [44,55,66, True], False, (34,56,78,89,34), {1,2,3,3,2,1}, {1:34, \"key2\": [55, 67, 78, 89], 4: (45,\n",
    "22, 61, 34)}, [56, 'data science'], 'Machine Learning']"
   ]
  },
  {
   "cell_type": "code",
   "execution_count": 2,
   "metadata": {},
   "outputs": [],
   "source": [
    "def listprod(list1):\n",
    "    l1=[]\n",
    "    def flatten(lst):\n",
    "        for i in lst:\n",
    "            if type(i) in [list, tuple, set]:\n",
    "                flatten(i)\n",
    "            elif type(i) in [int, float]:\n",
    "                l1.append(i)\n",
    "    flatten(list1)\n",
    "    product=1\n",
    "    for i in l1:\n",
    "        product=product*i\n",
    "    return product\n"
   ]
  },
  {
   "cell_type": "code",
   "execution_count": 5,
   "metadata": {},
   "outputs": [
    {
     "data": {
      "text/plain": [
       "578815684656168960"
      ]
     },
     "execution_count": 5,
     "metadata": {},
     "output_type": "execute_result"
    }
   ],
   "source": [
    "listprod(list1)"
   ]
  },
  {
   "attachments": {},
   "cell_type": "markdown",
   "metadata": {},
   "source": [
    "Q2) Write a python program for encrypting a message sent to you by your friend. \n",
    "\n",
    "The logic of encryption should be such that, for a the output should be z. For b, the output should be y. For c, the output should\n",
    "be x respectively. \n",
    "\n",
    "Also, the whitespace should be replaced with a dollar sign. Keep the punctuation\n",
    "marks unchanged.\n",
    "\n",
    "\n",
    "Input Sentence: I want to become a Data Scientist."
   ]
  },
  {
   "cell_type": "code",
   "execution_count": 9,
   "metadata": {},
   "outputs": [],
   "source": [
    "def encrpyt(message):\n",
    "    message=message.lower()\n",
    "    encryption_map = str.maketrans(\"abcdefghijklmnopqrstuvwxyz\", \"zyxwvutsrqponmlkjihgfedcba\")\n",
    "    encrypted_message = message.translate(encryption_map)\n",
    "    encrypted_message = encrypted_message.replace(\" \", \"$\")\n",
    "    return encrypted_message"
   ]
  },
  {
   "cell_type": "code",
   "execution_count": 11,
   "metadata": {},
   "outputs": [
    {
     "data": {
      "text/plain": [
       "'r$dzmg$gl$yvxlnv$z$wzgz$hxrvmgrhg'"
      ]
     },
     "execution_count": 11,
     "metadata": {},
     "output_type": "execute_result"
    }
   ],
   "source": [
    "message=\"I want to become a Data Scientist\"\n",
    "encrpyt(message)"
   ]
  }
 ],
 "metadata": {
  "kernelspec": {
   "display_name": "Python 3",
   "language": "python",
   "name": "python3"
  },
  "language_info": {
   "codemirror_mode": {
    "name": "ipython",
    "version": 3
   },
   "file_extension": ".py",
   "mimetype": "text/x-python",
   "name": "python",
   "nbconvert_exporter": "python",
   "pygments_lexer": "ipython3",
   "version": "3.11.1"
  },
  "orig_nbformat": 4,
  "vscode": {
   "interpreter": {
    "hash": "da8bd05485955255bdcec9b6056a3f5a0ea9108210a95491ff7a03b1df67877e"
   }
  }
 },
 "nbformat": 4,
 "nbformat_minor": 2
}
