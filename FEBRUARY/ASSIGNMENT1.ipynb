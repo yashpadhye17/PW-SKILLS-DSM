{
 "cells": [
  {
   "attachments": {},
   "cell_type": "markdown",
   "metadata": {},
   "source": [
    "<h3>Q1)Who developed Pyhon Programming Language?</h3>"
   ]
  },
  {
   "attachments": {},
   "cell_type": "markdown",
   "metadata": {},
   "source": [
    "Pyhon Programming Language was developed by Guido Van Rossum in 1989"
   ]
  },
  {
   "attachments": {},
   "cell_type": "markdown",
   "metadata": {},
   "source": [
    "<h3>Q2)Which type of Programming does Python Support</h3>"
   ]
  },
  {
   "attachments": {},
   "cell_type": "markdown",
   "metadata": {},
   "source": [
    "Python is a high-level, general purpose programming language.Pyhton is Object Oriented Programming language and has high level built in data structures."
   ]
  },
  {
   "attachments": {},
   "cell_type": "markdown",
   "metadata": {},
   "source": [
    "<h3>Q3)Is Python Case sensetive when dealing with identifiers</h3>"
   ]
  },
  {
   "attachments": {},
   "cell_type": "markdown",
   "metadata": {},
   "source": [
    "Yes,Python is a case sensetive language that means it treats uppercase and lowercase characters differently and this same even applies to identifiers.\n",
    "There are some rules for identifiers:\n",
    "* Reserved words cannot be used as identifiers.\n",
    "* Identifiers can contain uppercase,lowercase,numericals,underscores. But special characters are not allowed.\n",
    "* Identifier cannot begin with number.\n",
    "* Identifiers are case sensetive.\n",
    "* Identifiers can begin with underscore.\n"
   ]
  },
  {
   "attachments": {},
   "cell_type": "markdown",
   "metadata": {},
   "source": [
    "<h3>Q4)What is the correct extension of the Python File?</h3>"
   ]
  },
  {
   "attachments": {},
   "cell_type": "markdown",
   "metadata": {},
   "source": [
    "* <b>.py</b> is the correct extension for a python file.\n",
    "* <b>.ipynb</b>is the extension for Python Jupyter Notebooks."
   ]
  },
  {
   "attachments": {},
   "cell_type": "markdown",
   "metadata": {},
   "source": [
    "<h3>Q5)Is Python code compiled or interpreted</h3>"
   ]
  },
  {
   "attachments": {},
   "cell_type": "markdown",
   "metadata": {},
   "source": [
    "Python is an interpreted, object-oriented, high-level programming language."
   ]
  },
  {
   "attachments": {},
   "cell_type": "markdown",
   "metadata": {},
   "source": [
    "<h3>Q6)Name a few blocks of code used to define in Python language?</h3>"
   ]
  },
  {
   "attachments": {},
   "cell_type": "markdown",
   "metadata": {},
   "source": [
    "A block is a pierce of Python code that is executed as a unit.\n",
    "* Some examples of Python code block:\n",
    "\n",
    "* Functions: Defined using <b>def</b>keyword.\n",
    "* Classes: Defined using <b>class</b>keyword.\n",
    "* Loops: There are various loops like <b>for</b>,<b>while</b>.\n",
    "* Conditonal Statements: There are various conditional statements like <b>if</b>, <b>elif</b>."
   ]
  },
  {
   "attachments": {},
   "cell_type": "markdown",
   "metadata": {},
   "source": [
    "<h3>Q7)State a character used to give single-line commments in Python?</h3>"
   ]
  },
  {
   "attachments": {},
   "cell_type": "markdown",
   "metadata": {},
   "source": [
    "<b>#</b> is the character is used to give single line comment in Python."
   ]
  },
  {
   "attachments": {},
   "cell_type": "markdown",
   "metadata": {},
   "source": [
    "<h3>Q8) Mention functions which can help  us to find the version of python that we are currently working on?</h3>"
   ]
  },
  {
   "attachments": {},
   "cell_type": "markdown",
   "metadata": {},
   "source": [
    "Version function in sys module help us to find the version of python we currently work on."
   ]
  },
  {
   "cell_type": "code",
   "execution_count": 5,
   "metadata": {},
   "outputs": [
    {
     "data": {
      "text/plain": [
       "'3.11.1 (tags/v3.11.1:a7a450f, Dec  6 2022, 19:58:39) [MSC v.1934 64 bit (AMD64)]'"
      ]
     },
     "execution_count": 5,
     "metadata": {},
     "output_type": "execute_result"
    }
   ],
   "source": [
    "import sys \n",
    "sys.version"
   ]
  },
  {
   "attachments": {},
   "cell_type": "markdown",
   "metadata": {},
   "source": [
    "<h3>Q9)Python supports the creation of anonymous functions at runtime, using a construct called _______</h3>"
   ]
  },
  {
   "attachments": {},
   "cell_type": "markdown",
   "metadata": {},
   "source": [
    "<b>Lambda</b> "
   ]
  },
  {
   "attachments": {},
   "cell_type": "markdown",
   "metadata": {},
   "source": [
    "<h3>Q10)What does pip stand for python?</h3>"
   ]
  },
  {
   "attachments": {},
   "cell_type": "markdown",
   "metadata": {},
   "source": [
    "pip stands for Preferred Installer Program."
   ]
  },
  {
   "attachments": {},
   "cell_type": "markdown",
   "metadata": {},
   "source": [
    "<h3>Q11)Mention a few built in functions in python?</h3>"
   ]
  },
  {
   "attachments": {},
   "cell_type": "markdown",
   "metadata": {},
   "source": [
    "* print() -> For displaying Output.\n",
    "* max() -> Returns the largest item in an iterable.\n",
    "* min() -> Returns the smallest item in an iterable.\n",
    "* sum() -> Returns the sum in an iterable.\n",
    "* pow() -> Returns the calculated value of x to power y."
   ]
  },
  {
   "attachments": {},
   "cell_type": "markdown",
   "metadata": {},
   "source": [
    "<h3>Q12)What is the maximum possible length of an identifier in python?</h3>"
   ]
  },
  {
   "attachments": {},
   "cell_type": "markdown",
   "metadata": {},
   "source": [
    "Identifiers can be of any length.There is no such specified length for identifiers."
   ]
  },
  {
   "attachments": {},
   "cell_type": "markdown",
   "metadata": {},
   "source": [
    "<h3>Q13) What are the benefits of using python?</h3>"
   ]
  },
  {
   "attachments": {},
   "cell_type": "markdown",
   "metadata": {},
   "source": [
    "There are various benefits of using python:\n",
    "* Easy to Learn: Python has very simple and easy to understand syntax which makes it easy to learn.\n",
    "* Productivity of Developers: As it has simpler syntac than other languages like C,C++, the lines of code written is less so the productivity increases.\n",
    "* Libraries: Python has a rich collection of pre written code that can be used to perform basic day to day tasks. There are libraries like seaborn,matplotlib and many more, and they have their own diffrent features which can be used directly by importing such libraries.\n",
    "* Versatile: Python csn be used for many tasks like data science,Machine learning,web development and more."
   ]
  },
  {
   "attachments": {},
   "cell_type": "markdown",
   "metadata": {},
   "source": [
    "<h3>Q14) How is memory managed in python?</h3>"
   ]
  },
  {
   "attachments": {},
   "cell_type": "markdown",
   "metadata": {},
   "source": [
    "A heap containing all Python objects and data structures is used for memory management. The automated management of memory is accomplished through reference counting. Each object in Python keeps track of how many references are made to it, and when that number drops to zero, the object's memory space is released automatically."
   ]
  },
  {
   "attachments": {},
   "cell_type": "markdown",
   "metadata": {},
   "source": [
    "<h3>Q15)How to install Python on Windows and set path variables?</h3>"
   ]
  },
  {
   "attachments": {},
   "cell_type": "markdown",
   "metadata": {},
   "source": [
    "* Visit the official website of Python to obtain the most recent version.\n",
    "* To install Python, launch the Python installer and adhere to the instructions.\n",
    "* Open the Start menu, type \"Environment Variables\" in the search bar, then choose \"Edit the system environment variables\" to specify the path variables.\n",
    "* Click the \"Environment Variables\" button in the System Properties box.\n",
    "* Scroll down to \"System Variables,\" find the \"Path\" variable, and choose \"Edit.\"\n",
    "* Add the path to the Python installation by selecting \"New\" and typing \"C:Python38\".\n",
    "* In order for the changes to take effect, restart your computer."
   ]
  },
  {
   "attachments": {},
   "cell_type": "markdown",
   "metadata": {},
   "source": [
    "<h3>Q16)Is identation required in python?</h3>"
   ]
  },
  {
   "attachments": {},
   "cell_type": "markdown",
   "metadata": {},
   "source": [
    "Yes,identation is requried in python.It is used in indicating a block of code."
   ]
  },
  {
   "cell_type": "markdown",
   "metadata": {},
   "source": []
  }
 ],
 "metadata": {
  "kernelspec": {
   "display_name": "Python 3",
   "language": "python",
   "name": "python3"
  },
  "language_info": {
   "codemirror_mode": {
    "name": "ipython",
    "version": 3
   },
   "file_extension": ".py",
   "mimetype": "text/x-python",
   "name": "python",
   "nbconvert_exporter": "python",
   "pygments_lexer": "ipython3",
   "version": "3.11.1"
  },
  "orig_nbformat": 4,
  "vscode": {
   "interpreter": {
    "hash": "da8bd05485955255bdcec9b6056a3f5a0ea9108210a95491ff7a03b1df67877e"
   }
  }
 },
 "nbformat": 4,
 "nbformat_minor": 2
}
