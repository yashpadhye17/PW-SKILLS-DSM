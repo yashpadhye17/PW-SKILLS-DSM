{
 "cells": [
  {
   "attachments": {},
   "cell_type": "markdown",
   "metadata": {},
   "source": [
    "# 18 FEBRUARY ASSIGNMENT"
   ]
  },
  {
   "attachments": {},
   "cell_type": "markdown",
   "metadata": {},
   "source": [
    "Q1. What is an API? Give an example, where an API is used in real life."
   ]
  },
  {
   "attachments": {},
   "cell_type": "markdown",
   "metadata": {},
   "source": [
    "Application Programming Interface is referred to as API. It is a collection of procedures, instruments, and conventions for creating programmes and applications. APIs specify how various software parts should communicate with one another, enabling programmers to build applications that use the features of other software services or systems.\n",
    "\n",
    "\n",
    "A real-world example of an API is the Google Maps API, which enables programmers to incorporate Google Maps into their own applications. This implies that, rather than needing to develop their own mapping system from the ground up, any application or website may incorporate Google Maps capabilities into their own software."
   ]
  },
  {
   "attachments": {},
   "cell_type": "markdown",
   "metadata": {},
   "source": [
    "Q2. Give advantages and disadvantages of using API."
   ]
  },
  {
   "attachments": {},
   "cell_type": "markdown",
   "metadata": {},
   "source": [
    "Advantages:\n",
    "* Increase efficiency:APIs allow developers to reuse code, reducing the need for custom development and speeding up the development process.\n",
    "\n",
    "* Better user experience:APIs can be used to integrate data and services from multiple sources, creating a more comprehensive and user-friendly experience for the end user.\n",
    "\n",
    "* Earn money:The API can be used to create new revenue streams by enabling payment for access to data or services.\n",
    "\n",
    "* Simplified integration:The API provides a standard interface to interact with an application, making it easy to onboard other developers. \n",
    "\n",
    "Disadvantages:\n",
    "* Complexity:APIs can be complex, with many different parameters and options that developers must understand before they can use them effectively.\n",
    "\n",
    "* Security barrier:APIs can allow attackers to access sensitive system or data. Therefore, it is important to take appropriate security measures to prevent unauthorized access.\n",
    "\n",
    "* Documentation and support:APIs require complete and up-to-date documentation and support resources to help developers use them effectively.\n",
    "\n",
    "* Dependencies on external systems:If the API is used to access data or services from an external system, the reliability of the API depends on the reliability of the external system. "
   ]
  },
  {
   "attachments": {},
   "cell_type": "markdown",
   "metadata": {},
   "source": [
    "Q3. What is a Web API? Differentiate between API and Web API."
   ]
  },
  {
   "attachments": {},
   "cell_type": "markdown",
   "metadata": {},
   "source": [
    "A Web API is a type of API (Application Programming Interface) that is designed to be used over the internet, typically using HTTP (Hypertext Transfer Protocol) requests to access data or functionality provided by a web service.\n",
    "The primary difference between API and Web API is that API is a more general term that can refer to any type of interface used for software-to-software communication, while Web API specifically refers to APIs that are designed to be used over the internet. This means that a Web API is a type of API, but not all APIs are Web APIs.\n",
    "\n",
    "Here are some other differences between API and Web API:\n",
    "\n",
    "* Limit:APIs can be designed for use within an application, between applications on the same system, or between applications on different systems. Web APIs are designed specifically for use on the Internet, often between applications running on different systems.\n",
    "\n",
    "* Shipping protocol:The API can use a variety of transport protocols, including HTTP, Transport Control Protocol (TCP), and others. Web APIs are generally designed to use HTTP as the primary transport protocol.\n",
    "\n",
    "* Data format:The API can use a variety of data formats, including JSON, XML, and others. Web APIs are typically designed to use web-optimized formats, such as JSON.\n",
    "\n",
    "* Authentication and security:APIs and Web APIs may require different types of security and authentication measures depending on the specific use case and the sensitivity of the data being accessed. "
   ]
  },
  {
   "attachments": {},
   "cell_type": "markdown",
   "metadata": {},
   "source": [
    "Q4. Explain REST and SOAP Architecture. Mention shortcomings of SOAP."
   ]
  },
  {
   "attachments": {},
   "cell_type": "markdown",
   "metadata": {},
   "source": [
    "Architecture for REST:\n",
    "\n",
    "* Web services are built using the REST architectural approach. It is founded on a set of guidelines that specify how web services ought to be created and how they ought to communicate with one another.\n",
    "\n",
    "* Client-server architecture: By keeping the client and the server apart, they can develop on their own.\n",
    "\n",
    "* Stateless: Since each request from the client to the server must include all relevant data, there is no need for the server to keep track of session state.\n",
    "\n",
    "* Cacheability: The server's responses can be stored in a cache to speed up performance.\n",
    "* Uniform interface: The web service access interface needs to be standardised and reliable.\n",
    "\n",
    "* Layered system: A more adaptable and scalable system can be made using a layered architecture.\n",
    "\n",
    "\n",
    "Architecture for SOAP:\n",
    "\n",
    "* Independent of any particular protocol: SOAP messages can be exchanged via a number of various protocols, such as HTTP, SMTP, and others.\n",
    "\n",
    "* Extensibility: New message headers or body components can be added to SOAP messages to add new functionality.\n",
    "\n",
    "* Security: To provide secure communication, SOAP messages can be signed and encrypted.\n",
    "\n",
    "* Flexibility: Request-response, one-way, and request-response with callbacks are just a few of the sophisticated message exchange patterns that may be created using SOAP.\n",
    "\n",
    "\n",
    "SOAP's shortcomings:\n",
    "\n",
    "* Complexity: As compared to more straightforward protocols like REST, SOAP messages can be quite complicated and challenging to work with.\n",
    "\n",
    "* Overhead: SOAP messages have the potential to be substantially larger than REST messages, which could slow down performance and increase network traffic.\n",
    "\n",
    "* Low browser support: Because most web browsers do not support SOAP, using it in web-based applications can be challenging.\n",
    "\n",
    "* Compatibility problems: SOAP may be less flexible than other solutions since it might be challenging to combine with other systems that do not support the protocol.\n"
   ]
  },
  {
   "attachments": {},
   "cell_type": "markdown",
   "metadata": {},
   "source": [
    "Q5. Differentiate between REST and SOAP."
   ]
  },
  {
   "attachments": {},
   "cell_type": "markdown",
   "metadata": {},
   "source": [
    "* Communication style: REST uses HTTP protocol for communication, while SOAP can use different communication protocols such as HTTP, SMTP, TCP, or JMS.\n",
    "\n",
    "* Message format: REST uses simple data formats like JSON and XML for message exchange, while SOAP uses a more complex XML format.\n",
    "\n",
    "* Endpoint specification: In REST, the endpoint is specified by the URL (Uniform Resource Locator), while in SOAP, the endpoint is specified by the WSDL (Web Services Description Language).\n",
    "\n",
    "* State management: REST is stateless, meaning that each request contains all the necessary information, and the server doesn't need to store any session state. SOAP, on the other hand, can be stateful or stateless.\n",
    "\n",
    "* Caching: REST allows caching, which can improve performance, while SOAP does not have a standardized way of caching.\n",
    "\n",
    "* Error handling: In REST, error handling is done using HTTP status codes, while in SOAP, error handling is done using specialized XML messages.\n",
    "\n",
    "* Ease of use: REST is simpler to use than SOAP and is easier to understand for developers who are new to web services."
   ]
  },
  {
   "cell_type": "markdown",
   "metadata": {},
   "source": []
  }
 ],
 "metadata": {
  "kernelspec": {
   "display_name": "Python 3",
   "language": "python",
   "name": "python3"
  },
  "language_info": {
   "name": "python",
   "version": "3.11.1"
  },
  "orig_nbformat": 4,
  "vscode": {
   "interpreter": {
    "hash": "da8bd05485955255bdcec9b6056a3f5a0ea9108210a95491ff7a03b1df67877e"
   }
  }
 },
 "nbformat": 4,
 "nbformat_minor": 2
}
