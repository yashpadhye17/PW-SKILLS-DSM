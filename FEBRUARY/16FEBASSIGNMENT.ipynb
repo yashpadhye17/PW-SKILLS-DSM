{
 "cells": [
  {
   "attachments": {},
   "cell_type": "markdown",
   "metadata": {},
   "source": [
    "# 16 FEBRUARY ASSIGNMENT"
   ]
  },
  {
   "attachments": {},
   "cell_type": "markdown",
   "metadata": {},
   "source": [
    "Q1. What is a database? Differentiate between SQL and NoSQL databases."
   ]
  },
  {
   "attachments": {},
   "cell_type": "markdown",
   "metadata": {},
   "source": [
    "A database is a systematic collection of data that is organised and kept on a computer. It offers a framework for storing, organising, and retrieving data in a manner that allows for efficient information access and modification.\n",
    "\n",
    "SQL DATABASES:-\n",
    "* Databases are categorized as Relational Database Management System (RDBMS).\n",
    "* SQL databases have fixed or static or predefined schema.\n",
    "* SQL databases display data in form of tables so it is known as table-based database.\n",
    "* SQL databases are vertically scalable.\n",
    "\n",
    "NOSQL DATABASES:-\n",
    "* NoSQL databases are categorized as Non-relational or distributed database system.\n",
    "* NoSQL databases have dynamic schema.\n",
    "* NoSQL databases display data as collection of key-value pair, documents, graph databases or wide-column stores.\n",
    "* NoSQL databases are horizontally scalable."
   ]
  },
  {
   "attachments": {},
   "cell_type": "markdown",
   "metadata": {},
   "source": [
    "Q2. What is DDL? Explain why CREATE, DROP, ALTER, and TRUNCATE are used with an example."
   ]
  },
  {
   "attachments": {},
   "cell_type": "markdown",
   "metadata": {},
   "source": [
    "Data Definition Language, is a set of SQL commands used to define and manage a database's structure. To create, modify, and delete database objects like tables, indexes, and views, DDL statements are used.\n",
    "\n",
    "CREATE:\n",
    "* create table test_table(c1 int , c2 varchar(50) , c3 int , c4 float , c5 varchar(50));\n",
    "\n",
    "DROP:\n",
    "* drop table test_table;\n",
    "\n",
    "ALTER:\n",
    "* alter table test_table add column dept_name varchar(20);\n",
    "\n",
    "TRUNCATE:\n",
    "* truncate table employees;"
   ]
  },
  {
   "attachments": {},
   "cell_type": "markdown",
   "metadata": {},
   "source": [
    "Q3. What is DML? Explain INSERT, UPDATE, and DELETE with an example."
   ]
  },
  {
   "attachments": {},
   "cell_type": "markdown",
   "metadata": {},
   "source": [
    "DML stands for Data Manipulation Language, which is a set of SQL commands used to manage the data stored in a database. DML commands are used to insert, update, and delete data in database tables.\n",
    "\n",
    "INSERT:\n",
    "* INSERT INTO test_table (c1,c2,c3,c4,c5,dept_name) VALUES (100,\"YASH\",200,25.40,\"DSM\",\"COMP\");\n",
    "\n",
    "UPDATE:\n",
    "* UPDATE test_table SET c4 = 55000.00 WHERE c2=\"YASH\";\n",
    "\n",
    "DELETE\n",
    "* DELETE FROM test_name WHERE c2 = 'YASH';"
   ]
  },
  {
   "attachments": {},
   "cell_type": "markdown",
   "metadata": {},
   "source": [
    "Q4. What is DQL? Explain SELECT with an example."
   ]
  },
  {
   "attachments": {},
   "cell_type": "markdown",
   "metadata": {},
   "source": [
    "Data Query Language, or DQL for short, is a set of SQL commands used to extract data from databases. To select and display data from one or more tables in a database, DQL commands are used.\n",
    "\n",
    "\n",
    "select * from test_table;"
   ]
  },
  {
   "attachments": {},
   "cell_type": "markdown",
   "metadata": {},
   "source": [
    "Q5. Explain Primary Key and Foreign Key."
   ]
  },
  {
   "attachments": {},
   "cell_type": "markdown",
   "metadata": {},
   "source": [
    "In a table, a primary key is a column or set of columns that uniquely identifies each row. The primary key serves as a means of referencing each row in the table from other tables and of ensuring that there are no duplicate rows in the table. \n",
    "\n",
    "A column or set of columns in a table that refers to the primary key of another table is known as a foreign key. You can perform operations that use data from both tables because the foreign key creates a relationship between the two tables."
   ]
  },
  {
   "attachments": {},
   "cell_type": "markdown",
   "metadata": {},
   "source": [
    "Q6. Write a python code to connect MySQL to python. Explain the cursor() and execute() method."
   ]
  },
  {
   "cell_type": "code",
   "execution_count": 5,
   "metadata": {},
   "outputs": [
    {
     "name": "stdout",
     "output_type": "stream",
     "text": [
      "((100, 'YASH', 200, 25.4, 'DSM', 'COMP'),)\n"
     ]
    }
   ],
   "source": [
    "import pymysql\n",
    "\n",
    "conn = pymysql.connect(host='localhost', user='root', password='yash@2002', database='test')\n",
    "\n",
    "cursor = conn.cursor()\n",
    "\n",
    "cursor.execute('SELECT * FROM test_table')\n",
    "\n",
    "data = cursor.fetchall()\n",
    "\n",
    "print(data)\n",
    "\n",
    "conn.close()"
   ]
  },
  {
   "attachments": {},
   "cell_type": "markdown",
   "metadata": {},
   "source": [
    "cursor(): In order to run SQL queries on the database, the cursor() method creates a cursor object. The cursor object is used to communicate with the database, run SQL statements, and retrieve data.\n",
    "\n",
    "execute(): SQL queries are run on the database using the cursor object's execute() method. The method runs an SQL query that is passed to it as a string parameter. If the query returns any results, we can retrieve them using the cursor object's fetch() or fetchall() methods."
   ]
  },
  {
   "attachments": {},
   "cell_type": "markdown",
   "metadata": {},
   "source": [
    "Q7. Give the order of execution of SQL clauses in an SQL query."
   ]
  },
  {
   "attachments": {},
   "cell_type": "markdown",
   "metadata": {},
   "source": [
    "The order of execution of SQL clauses in an SQL query is as follows:\n",
    "1) FROM\n",
    "2) WHERE\n",
    "3) GROUP BY\n",
    "4) HAVING\n",
    "5) SELECT\n",
    "6) ORDER BY\n",
    "7) LIMIT/OFFSET"
   ]
  }
 ],
 "metadata": {
  "kernelspec": {
   "display_name": "Python 3",
   "language": "python",
   "name": "python3"
  },
  "language_info": {
   "codemirror_mode": {
    "name": "ipython",
    "version": 3
   },
   "file_extension": ".py",
   "mimetype": "text/x-python",
   "name": "python",
   "nbconvert_exporter": "python",
   "pygments_lexer": "ipython3",
   "version": "3.11.1"
  },
  "orig_nbformat": 4,
  "vscode": {
   "interpreter": {
    "hash": "da8bd05485955255bdcec9b6056a3f5a0ea9108210a95491ff7a03b1df67877e"
   }
  }
 },
 "nbformat": 4,
 "nbformat_minor": 2
}
