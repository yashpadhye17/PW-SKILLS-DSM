{
 "cells": [
  {
   "attachments": {},
   "cell_type": "markdown",
   "metadata": {},
   "source": [
    "# 20 MARCH ASSIGNMENT"
   ]
  },
  {
   "attachments": {},
   "cell_type": "markdown",
   "metadata": {},
   "source": [
    "<U>Q1. What is data encoding? How is it useful in data science?</U>"
   ]
  },
  {
   "attachments": {},
   "cell_type": "markdown",
   "metadata": {},
   "source": [
    "The process of converting data from one format to another format is the process of transforming data from one format to another format. Encoding can be used to transform data from its original form into a format that is easier to process, store, or transfer. In data science, encoding is particularly significant because it allows data analysts and machine learning algorithms to work with structured data that can be readily processed and evaluated.\n",
    "\n",
    "Data encoding is important in data science for a variety of reasons. As an example:\n",
    "\n",
    "Categorical data: Data encoding can be used to turn categorical data into numerical data that can be processed and analysed more easily. For example, we can encode the category variable \"gender\" into binary numerical data, where 1 represents \"male\" and 0 represents \"female\". What is more, this is the first time that I have heard of this.\n",
    "\n",
    "Compression: Encoding can be used to compress data in order to reduce storage needs and transmission delays. For example, run-length encoding (RLE) may be used to compress photos by encoding runs of pixels of the same hue into a single value and compressing images.\n",
    "\n",
    "illegal access, encrypting data, and protecting it against unauthorised access. For example, encryption methods such as AES and RSA employ encoding techniques such as scrambling data into an unreadable format that can only be decoded using a particular key and can only be decrypted using a specific key.\n",
    "\n",
    "Overall, data encoding is a key tool in the data scientist's arsenal since it enables for efficient processing, storage, and analysis of data."
   ]
  },
  {
   "attachments": {},
   "cell_type": "markdown",
   "metadata": {},
   "source": [
    "<u>Q2. What is nominal encoding? Provide an example of how you would use it in a real-world scenario.</u>"
   ]
  },
  {
   "attachments": {},
   "cell_type": "markdown",
   "metadata": {},
   "source": [
    "Nominal encoding is a data encoding technique that is used to represent category variables as numerical data. Each category in nominal encoding is allocated a unique integer value, with no regard for order or ranking. This encoding approach is appropriate when there is no inherent order or hierarchy in the categories.\n",
    "\n",
    "One use of nominal encoding is to encode a dataset including information about vehicle manufacturers. Assume we have a dataset with the following category variables:\n",
    "\n",
    "Manufacturer (Ford, Toyota, Honda, etc) (Ford, Toyota, Honda, etc.)\n",
    "\n",
    "Model (Fusion, Camry, Civic, etc) (Fusion, Camry, Civic, etc.)\n",
    "\n",
    "Color (Red, Blue, Green, etc) (Red, Blue, Green, etc.)"
   ]
  },
  {
   "attachments": {},
   "cell_type": "markdown",
   "metadata": {},
   "source": [
    "Q3. In what situations is nominal encoding preferred over one-hot encoding? Provide a practical example."
   ]
  },
  {
   "attachments": {},
   "cell_type": "markdown",
   "metadata": {},
   "source": [
    "Nominal encoding is favoured over one-hot encoding when the categorical variable contains a high number of categories. One-hot encoding generates a new binary feature for each category, resulting in a high number of new features, which can lead to the \"curse of dimensionality.\" This can result in increased computing complexity and model overfitting. Nominal encoding, on the other hand, represents each category with a single feature, which is more memory-efficient and computationally easier.\n",
    "\n",
    "When the order of the categories is unimportant or meaningless, nominal encoding may be preferred. The wording of this sentence is a little different than the one used in the movie, but it's still a little different. There is no intrinsic order or ranking between the fruit varieties in this example, therefore nominal encoding would be a better encoding strategy."
   ]
  },
  {
   "attachments": {},
   "cell_type": "markdown",
   "metadata": {},
   "source": [
    "Q4. Suppose you have a dataset containing categorical data with 5 unique values. Which encoding\n",
    "technique would you use to transform this data into a format suitable for machine learning algorithms?\n",
    "Explain why you made this choice."
   ]
  },
  {
   "attachments": {},
   "cell_type": "markdown",
   "metadata": {},
   "source": [
    "I would utilise nominal encoding to convert categorical data with 5 unique values into a format suited for machine learning methods. Nominal encoding is a straightforward and effective method for converting categorical data into numerical data that may be utilised in machine learning techniques. Each category in nominal encoding is allocated a unique integer value, with no regard for order or ranking.\n",
    "\n",
    "\n",
    "Because there are only 5 distinct values in this instance, one-hot encoding may be a fair alternative. Nevertheless, one-hot encoding provides a binary feature for each distinct category, which can lead to a high-dimensional feature space and increased computing complexity. Nominal encoding, on the other hand, represents each category with a single feature, which is more memory-efficient and computationally easier.\n",
    "\n",
    "Additionally, if the categorical variable has no intrinsic order or ranking between the categories, nominal encoding is a more appropriate encoding strategy. If the categorical variable is \"fruit type,\" and the unique values are \"apple,\" \"banana,\" \"orange,\" \"pear,\" and \"kiwi,\" there is no meaningful order or ranking between the fruit varieties, hence nominal encoding is the suitable encoding approach.\n",
    "\n",
    "In conclusion, I would choose nominal encoding to convert categorical data with 5 unique values into a format suited for machine learning algorithms since it is a simple and efficient encoding approach that is ideal when the categories lack intrinsic order or ranking."
   ]
  },
  {
   "attachments": {},
   "cell_type": "markdown",
   "metadata": {},
   "source": [
    "Q5. In a machine learning project, you have a dataset with 1000 rows and 5 columns. Two of the columns\n",
    "are categorical, and the remaining three columns are numerical. If you were to use nominal encoding to\n",
    "transform the categorical data, how many new columns would be created? Show your calculations."
   ]
  },
  {
   "attachments": {},
   "cell_type": "markdown",
   "metadata": {},
   "source": [
    "When we apply nominal encoding to modify the dataset's two categorical columns, each unique category in each column is replaced with a numerical value. The total number of new columns produced will be the same as the total number of unique categories in both columns combined.\n",
    "\n",
    "Assume that the first categorical column has four distinct categories and the second categorical column contains six distinct categories. Hence, the total number of distinct categories across both columns is 4 + 6 = 10.\n",
    "\n",
    "Using nominal encoding, we would assign a number value to each unique category in each categorical column. This would create two new columns, one for each classification column, with the numerical values for the categories. The maximum value for each column would be 9, which equals the number of distinct categories. As a result, the potential values for each nominally encoded column would vary from 0 to 9.\n",
    "\n",
    "As a result, the total number of new columns added is two."
   ]
  },
  {
   "attachments": {},
   "cell_type": "markdown",
   "metadata": {},
   "source": [
    "Q6. You are working with a dataset containing information about different types of animals, including their\n",
    "species, habitat, and diet. Which encoding technique would you use to transform the categorical data into\n",
    "a format suitable for machine learning algorithms? Justify your answer."
   ]
  },
  {
   "attachments": {},
   "cell_type": "markdown",
   "metadata": {},
   "source": [
    "The encoding strategy used to convert categorical data is determined by the nature of the categorical variables as well as the unique needs of the machine learning algorithm. In the case of the animal dataset, which contains information on several species, habitat, and diet, I would propose combining nominal encoding with one-hot encoding.\n",
    "\n",
    "Since categorical variables like \"species\" and \"environment\" have no intrinsic order or ranking between the categories, nominal encoding would be acceptable. Nominal encoding would provide a distinct numerical value to each category, allowing the algorithm to make meaningful use of these variables.\n",
    "\n",
    "One-hot encoding, on the other hand, would be more suited for categorical variables such as \"diet,\" because these variables have a clear order or ranking between the categories. For instance, if the \"diet\" variable's categories are \"herbivore,\" \"carnivore,\" and \"omnivore,\" we may use one-hot encoding to generate three binary features, one for each category. This would allow the system to capture the distinct features of each diet type.\n",
    "\n",
    "We can ensure that the categorical data is translated into a format suited for machine learning algorithms while simultaneously capturing the subtleties and distinctive qualities of the categorical variables by combining nominal and one-hot encoding. This strategy can assist increase the machine learning algorithm's performance by supplying it with meaningful and relevant data."
   ]
  },
  {
   "attachments": {},
   "cell_type": "markdown",
   "metadata": {},
   "source": [
    "Q7.You are working on a project that involves predicting customer churn for a telecommunications\n",
    "company. You have a dataset with 5 features, including the customer's gender, age, contract type,\n",
    "monthly charges, and tenure. Which encoding technique(s) would you use to transform the categorical\n",
    "data into numerical data? Provide a step-by-step explanation of how you would implement the encoding."
   ]
  },
  {
   "attachments": {},
   "cell_type": "markdown",
   "metadata": {},
   "source": [
    "To employ machine learning techniques on the supplied dataset with 5 characteristics, we must convert the categorical data into numerical data. Depending on the nature of the categorical variable, we can utilise both nominal encoding and one-hot encoding in this scenario.\n",
    "\n",
    "Here are the steps I would follow to change the category data into numerical data:\n",
    "\n",
    "\n",
    "1. Identify the categorical features: The single categorical feature in this dataset is gender. Age, contract type, monthly fees, and duration are all numerical characteristics.\n",
    "\n",
    "2. Nominal encoding: We may use nominal encoding to translate the categorical attribute gender into numerical values. For example, we may assign a value of 0 to male and a value of 1 to female.\n",
    "\n",
    "3. Because there is no intrinsic order or ranking between the categories, we may utilise one-hot encoding for the categorical feature contract type. If the contract kinds are \"month-to-month,\" \"one-year,\" and \"two-year,\" for example, we may define three binary features, one for each contract type.\n",
    "\n",
    "4. Before putting the data into the machine learning algorithm, we need normalise the numerical characteristics (age, monthly charges, and tenure) to guarantee that they are all on the same scale. This may be done using approaches such as z-score normalisation or min-max scaling.\n",
    "\n",
    "5. Lastly, we can combine the nominal-encoded gender feature and the one-hot encoded contract type feature with the standardised numerical characteristics to generate a final dataset that contains all numerical features. This dataset may then be used to train and evaluate machine learning models for customer churn prediction."
   ]
  },
  {
   "cell_type": "markdown",
   "metadata": {},
   "source": []
  }
 ],
 "metadata": {
  "language_info": {
   "name": "python"
  },
  "orig_nbformat": 4
 },
 "nbformat": 4,
 "nbformat_minor": 2
}
