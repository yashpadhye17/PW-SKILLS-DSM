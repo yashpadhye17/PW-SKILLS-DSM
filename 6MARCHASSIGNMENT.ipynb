{
 "cells": [
  {
   "attachments": {},
   "cell_type": "markdown",
   "metadata": {},
   "source": [
    "# 6 MARCH ASSIGNMENT"
   ]
  },
  {
   "attachments": {},
   "cell_type": "markdown",
   "metadata": {},
   "source": [
    "<u>Q1. What is Statistics?</u>"
   ]
  },
  {
   "attachments": {},
   "cell_type": "markdown",
   "metadata": {},
   "source": [
    "Statistics is a discipline of mathematics concerned with data gathering, analysis, interpretation, presentation, and organisation. It entails analysing data and drawing relevant findings using mathematical tools and methodologies.\n",
    "\n",
    "Statistics is employed in a variety of sectors, including business, healthcare, social sciences, engineering, and many more. It is crucial in decision-making processes since it assists in identifying patterns, trends, and linkages in data that may inform and guide decisions."
   ]
  },
  {
   "attachments": {},
   "cell_type": "markdown",
   "metadata": {},
   "source": [
    "<u>Q2. Define the different types of statistics and give an example of when each type might be used.</u>"
   ]
  },
  {
   "attachments": {},
   "cell_type": "markdown",
   "metadata": {},
   "source": [
    "There are two types of staistics:\n",
    "\n",
    "\n",
    "* Descriptive statistics:Descriptive statistics are used to summarise and characterise information. It enables the organisation and presentation of data through the use of metrics such as averages, standard deviations, frequencies, and graphs.\n",
    "\n",
    "Example: Assume we've gathered data on the heights of 100 persons. To display the distribution of heights, we may use descriptive statistics to compute the mean height, standard deviation, and generate a histogram.\n",
    "\n",
    "* Inferential Statistics: Based on a sample of data, inferential statistics is used to make conclusions or predictions about a broader population. It entails hypothesis testing, parameter estimation, and establishing the level of confidence in the results.\n",
    "\n",
    "Example: Assume we want to determine if the average height of persons in a city is over 5 feet. We may pick a sample of people from the city and apply inferential statistics to see if the sample's mean height differs considerably from 5 feet, and estimate the population mean height with a particular degree of confidence."
   ]
  },
  {
   "attachments": {},
   "cell_type": "markdown",
   "metadata": {},
   "source": [
    "<u>Q3. What are the different types of data and how do they differ from each other? Provide an example of\n",
    "each type of data.</u>"
   ]
  },
  {
   "attachments": {},
   "cell_type": "markdown",
   "metadata": {},
   "source": [
    "* Nominal data is categorical data in which variables have no intrinsic order or hierarchy. It merely detects or categorises data into several groupings.\n",
    "\n",
    "For example, automobile colours, gender.\n",
    "\n",
    "* Ordinal data is categorical data that may be sorted or ranked depending on certain criteria. The difference in values is insignificant, yet there is a distinct hierarchy or order.\n",
    "\n",
    "For example, movie ratings (1 star, 2 stars, 3 stars), letter grades (A, B, C, D, F).\n",
    "\n",
    "* Interval data is numerical data in which the distance between values is equal but there is no genuine zero point.\n",
    "\n",
    "For example, Temperature in Celsius or Fahrenheit, years on a calendar, etc.\n",
    "\n",
    "* Ratio data is numerical data in which the distance between values is equal and there is a real zero point, which means that a value of zero denotes the lack of the characteristic being measured.\n",
    "\n",
    "For example , height, weight, length, or wealth."
   ]
  },
  {
   "attachments": {},
   "cell_type": "markdown",
   "metadata": {},
   "source": [
    "<u>Q4. Categorise the following datasets with respect to quantitative and qualitative data types:</u>\n"
   ]
  },
  {
   "attachments": {},
   "cell_type": "markdown",
   "metadata": {},
   "source": [
    "i. Qualitative Data\n",
    "\n",
    "ii. Qualitative Data\n",
    "\n",
    "iii. Quantitative Data\n",
    "\n",
    "iv. Quantitative Data\n"
   ]
  },
  {
   "attachments": {},
   "cell_type": "markdown",
   "metadata": {},
   "source": [
    "<u>Q5. Explain the concept of levels of measurement and give an example of a variable for each level.</u>"
   ]
  },
  {
   "attachments": {},
   "cell_type": "markdown",
   "metadata": {},
   "source": [
    "The mathematical qualities of the data are referred to as measurement levels, and they influence the sort of statistical analysis that may be conducted. Nominal, ordinal, interval, and ratio are the four levels of measurement.\n",
    "\n",
    "* Variables at the Nominal Level: Variables at the Nominal Level are categorical variables that may be labelled or named. There is no intrinsic order or ranking to these factors.\n",
    "\n",
    "Example:consider eye colour (blue, brown, green).\n",
    "\n",
    "* Ordinal Level Variables: Ordinal level variables are categorical variables with a rank or order. The difference in values is insignificant, yet there is a distinct hierarchy or order.\n",
    "\n",
    "Example: Education level (high school, some college, bachelor's degree, master's degree, PhD).\n",
    "\n",
    "* Interval Level Variables: Interval level variables are numerical variables with equal distance between values but no genuine 0 point.\n",
    "\n",
    "Example: Temperature in degrees Celsius or Fahrenheit, years on a calendar, IQ score.\n",
    "\n",
    "* Ratio level variables are numerical variables with equal distance between values and a real zero point, which means that a value of zero denotes the lack of the characteristic being assessed.\n",
    "\n",
    "Example: Height, weight, length, wealth, and the amount of apples on a tree."
   ]
  },
  {
   "attachments": {},
   "cell_type": "markdown",
   "metadata": {},
   "source": [
    "<u>Q6. Why is it important to understand the level of measurement when analyzing data? Provide an\n",
    "example to illustrate your answer.</u>"
   ]
  },
  {
   "attachments": {},
   "cell_type": "markdown",
   "metadata": {},
   "source": [
    "When analysing data, understanding the degree of measurement is critical because it dictates the sort of statistical analysis that can be conducted as well as the mathematical operations that can be applied to the data. Incorrect or improper analysis and conclusions might result from using an unsuitable degree of measurement.\n",
    "\n",
    "Example:If we have data on a set of students' siblings and wish to compare the average number of siblings for different age groups. We can only count the number of pupils in each age group and determine the proportion of kids with varying numbers of siblings if we regard age as a nominal variable. Nevertheless, because nominal data lacks inherent order or hierarchy, we cannot determine the average number of siblings for each age group.\n",
    "\n",
    "If we regard age as an interval variable, we may rank the age groups and get the average number of siblings for each. Unfortunately, because there is no genuine zero point in the age data, we cannot make any generalisations regarding the ratio of the number of siblings between the age categories.\n",
    "\n",
    "We can compute the average number of siblings for each age group and draw relevant inferences about the ratio of the number of siblings between the age groups if we regard age as a ratio variable."
   ]
  },
  {
   "attachments": {},
   "cell_type": "markdown",
   "metadata": {},
   "source": [
    "<u>Q7. How nominal data type is different from ordinal data type.</u>"
   ]
  },
  {
   "attachments": {},
   "cell_type": "markdown",
   "metadata": {},
   "source": [
    "Nominal data are categorical data that may be labelled or identified but lack intrinsic order or ranking. Nominal data, in other words, are categorical variables with no natural or logical order. Nominal data examples include eye colour (blue, brown, and green).\n",
    "\n",
    "Ordinal data are categorical data that have a natural or logical order or ranking. In other words, ordinal data are categorical variables with ranked or ordered values. Letter grades (A, B, C, D, F), military positions (private, sergeant, captain, general)"
   ]
  },
  {
   "attachments": {},
   "cell_type": "markdown",
   "metadata": {},
   "source": [
    "<u>Q8. Which type of plot can be used to display data in terms of range?</u>"
   ]
  },
  {
   "attachments": {},
   "cell_type": "markdown",
   "metadata": {},
   "source": [
    "A box plot, often known as a box and whisker plot, is a form of figure used to depict data in terms of range.\n",
    "\n",
    "A box plot illustrates a dataset's range, median, quartiles, and outliers. The box in the graphic depicts the middle 50% of the data, with a line in the box representing the median (or 50th percentile).\n",
    "\n",
    "Box plots are useful for comparing data distributions, finding outliers, and showing data dispersion and central tendency. They are frequently employed in exploratory data analysis and are particularly helpful when"
   ]
  },
  {
   "attachments": {},
   "cell_type": "markdown",
   "metadata": {},
   "source": [
    "<u>Q9. Describe the difference between descriptive and inferential statistics. Give an example of each\n",
    "type of statistics and explain how they are used.</u>"
   ]
  },
  {
   "attachments": {},
   "cell_type": "markdown",
   "metadata": {},
   "source": [
    "Descriptive statistics are used to summarise and describe a dataset's essential aspects, such as measures of central tendency (mean, median, mode) and dispersion (variance, standard deviation, range). Descriptive statistics are important for presenting a fast summary of the data, recognising patterns, and comprehending the dataset's fundamental properties.\n",
    "\n",
    "Assume we have a dataset containing the heights of a group of people. We may use descriptive statistics to compute the dataset's mean height, standard deviation, and range.\n",
    "\n",
    "Inferential Staistics:In contrast, inferential statistics are used to establish generalisations and draw inferences about a wider population based on a sample of data. Testing hypotheses, estimating parameters, and generating predictions based on statistical models are all part of inferential statistics.\n",
    "\n",
    "\n",
    "If we want to see if there is a statistically significant difference in the mean height of boys and females in a certain group. Inferential statistics may be used to evaluate hypotheses, such as whether the difference in mean height between men and women is statistically significant."
   ]
  },
  {
   "attachments": {},
   "cell_type": "markdown",
   "metadata": {},
   "source": [
    "<u>Q10. What are some common measures of central tendency and variability used in statistics? Explain\n",
    "how each measure can be used to describe a dataset.</u>"
   ]
  },
  {
   "attachments": {},
   "cell_type": "markdown",
   "metadata": {},
   "source": [
    "<b>The centre or typical value of a dataset is described by measures of central tendency. There are three types of central tendency measures:</b>\n",
    "\n",
    "Mean:The mean is the arithmetic mean of all the values in the dataset. It is determined by adding all of the values and dividing by the total number of values. The mean is impacted by extreme values in the dataset and is susceptible to outliers.\n",
    "\n",
    "Median: The median is the middle value in the dataset when the values are ordered. If the number of values is even, the median is the average of the two middle values. The median is less vulnerable to outliers than the mean, making it a more reliable estimate of central tendency.\n",
    "\n",
    "Mode:The mode is the value that appears the most frequently in the dataset. It may be used to find the most frequent value or values in a dataset.\n",
    "\n",
    "<b>Variability measures describe the spread or dispersion of values in a dataset. There are three types of variability measures:</b>\n",
    "\n",
    "Variance: Variance is defined as the average squared departure from the mean. It is determined by subtracting the mean from each value, squaring the differences, adding the squares, and dividing by the number of values.\n",
    "\n",
    "\n",
    "Standard Deviation:Standard deviation: The standard deviation is the square root of the variance. It measures the spread of values from the mean and is often used to describe the shape of a distribution.\n",
    "\n",
    "Range: The range is the difference between the maximum and minimum values in the dataset. It is a simple measure of variability that is useful for identifying outliers or extreme values."
   ]
  },
  {
   "cell_type": "markdown",
   "metadata": {},
   "source": []
  }
 ],
 "metadata": {
  "language_info": {
   "name": "python"
  },
  "orig_nbformat": 4
 },
 "nbformat": 4,
 "nbformat_minor": 2
}
