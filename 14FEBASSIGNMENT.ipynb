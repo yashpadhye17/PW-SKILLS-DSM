{
 "cells": [
  {
   "attachments": {},
   "cell_type": "markdown",
   "metadata": {},
   "source": [
    "# 14 FEBRUARY ASSIGNMENT"
   ]
  },
  {
   "attachments": {},
   "cell_type": "markdown",
   "metadata": {},
   "source": [
    "Q1. what is multithreading in python? Why is it used? Name the module used to handle threads in python"
   ]
  },
  {
   "attachments": {},
   "cell_type": "markdown",
   "metadata": {},
   "source": [
    "In Python, multithreading refers to the execution of many threads concurrently within a single process. In other words, it enables many execution threads to execute simultaneously inside the same application. Each thread can do a distinct task and communicate with one another to share data and coordinate actions.\n",
    "\n",
    "Multithreading is important for increasing the speed of programmes that must accomplish numerous tasks at the same time. A web server, for example, that must process numerous requests at the same time may benefit from multithreading.\n",
    "\n",
    "\n",
    "The threading module in Python is used to manage threads. This module allows you to generate and manage threads in your Python application. The threading module offers a straightforward API for establishing, launching, and maintaining threads."
   ]
  },
  {
   "attachments": {},
   "cell_type": "markdown",
   "metadata": {},
   "source": [
    "Q2. Why threading module used? Write the use of the following functions\n",
    "1) activeCount()\n",
    "2) currentThread()\n",
    "3) enumerate()"
   ]
  },
  {
   "attachments": {},
   "cell_type": "markdown",
   "metadata": {},
   "source": [
    "Python's threading module is used to create and manage threads in a programme. It offers synchronisation primitives like as locks and semaphores to assist control access to shared resources, as well as a straightforward API for generating, launching, and maintaining threads.\n",
    "\n",
    "* activeCount(): This method returns the number of presently active threads in the thread group of the current thread. It may be used to debug and monitor the execution of threads in a programme.\n",
    "* currentThread(): This method returns a reference to the thread object that is currently operating. It may be used to get information about the thread that is presently running, such as its name, ID, and other properties.\n",
    "* enumerate(): This method produces a list of all presently active thread objects. It may be used to retrieve information about all threads in the application, such as their names, IDs, and other characteristics. The list returned by this function includes the main thread as well as all the other threads that have been started by the program."
   ]
  },
  {
   "attachments": {},
   "cell_type": "markdown",
   "metadata": {},
   "source": [
    "Q3. Explain the following functions\n",
    "1. run()\n",
    "2. start()\n",
    "3. join()\n",
    "4. isAlive()"
   ]
  },
  {
   "attachments": {},
   "cell_type": "markdown",
   "metadata": {},
   "source": [
    "* run(): The start of a thread's activity is the run() function. The run() method of the thread object is called when a thread is started. The thread will run the code contained in this function.\n",
    "* start(): To begin a thread's execution, use the start() function. When the start() function is used, a new thread is created and the thread object's run() function is invoked. The start() function does not pause the thread that called it and returns right away.\n",
    "* join(): Using the join() function, you can watch for a thread to finish running. The calling thread is blocked until the target thread completes when join() is called. The join() function immediately exits if the target thread has already finished.\n",
    "* isAlive(): To determine whether a thread is still active, use the isAlive() function. The isAlive() function returns True if the thread is still active. The isAlive() function returns False if the thread's execution is complete."
   ]
  },
  {
   "attachments": {},
   "cell_type": "markdown",
   "metadata": {},
   "source": [
    "Q4. Write a python program to create two threads.Thread one must print the list of squares and thread\n",
    "two must print the list of cubes"
   ]
  },
  {
   "cell_type": "code",
   "execution_count": 1,
   "metadata": {},
   "outputs": [],
   "source": [
    "import threading"
   ]
  },
  {
   "cell_type": "code",
   "execution_count": 7,
   "metadata": {},
   "outputs": [],
   "source": [
    "def square(i):\n",
    "    print(i**2)"
   ]
  },
  {
   "cell_type": "code",
   "execution_count": 8,
   "metadata": {},
   "outputs": [],
   "source": [
    "def cube(i):\n",
    "    print(i**3)"
   ]
  },
  {
   "cell_type": "code",
   "execution_count": 9,
   "metadata": {},
   "outputs": [],
   "source": [
    "t1 = [threading.Thread(target=square , args=(i,)) for i in range(1,11)]\n",
    "t2 = [threading.Thread(target=cube  , args=(i,)) for i in range(1,11)]"
   ]
  },
  {
   "cell_type": "code",
   "execution_count": 11,
   "metadata": {},
   "outputs": [
    {
     "name": "stdout",
     "output_type": "stream",
     "text": [
      "1\n",
      "4\n",
      "9\n",
      "16\n",
      "25\n",
      "36\n",
      "49\n",
      "64\n",
      "81\n",
      "100\n"
     ]
    }
   ],
   "source": [
    "for t in t1:\n",
    "    t.start()"
   ]
  },
  {
   "cell_type": "code",
   "execution_count": 12,
   "metadata": {},
   "outputs": [
    {
     "name": "stdout",
     "output_type": "stream",
     "text": [
      "1\n",
      "8\n",
      "27\n",
      "64\n",
      "125\n",
      "216\n",
      "343\n",
      "512\n",
      "729\n",
      "1000\n"
     ]
    }
   ],
   "source": [
    "for t in t2:\n",
    "    t.start()"
   ]
  },
  {
   "attachments": {},
   "cell_type": "markdown",
   "metadata": {},
   "source": [
    "Q5. State advantages and disadvantages of multithreading"
   ]
  },
  {
   "attachments": {},
   "cell_type": "markdown",
   "metadata": {},
   "source": [
    "Advantages of Multithreading:\n",
    "* Enhanced performance by decreased development time\n",
    "* Simplified and streamlined program coding\n",
    "* Improvised GUI responsiveness\n",
    "* Simultaneous and parallelized occurrence of tasks\n",
    "\n",
    "\n",
    "Disadvantages of Multithreading:\n",
    "* Complex debugging and testing processes\n",
    "* Overhead switching of context\n",
    "* Increased potential for deadlock occurrence\n",
    "* Increased difficulty level in writing a program\n",
    "\n"
   ]
  },
  {
   "attachments": {},
   "cell_type": "markdown",
   "metadata": {},
   "source": [
    "Q6. Explain deadlocks and race conditions."
   ]
  },
  {
   "attachments": {},
   "cell_type": "markdown",
   "metadata": {},
   "source": [
    "* Deadlocks happen when two or more threads become blocked while waiting for one another to release resources, leaving no threads able to move forward. This can occur when two threads compete for a resource that the other thread requires to continue running, leaving neither thread able to do so.\n",
    "\n",
    "* Race conditions occur when multiple threads access a shared resource simultaneously, leading to unpredictable and potentially incorrect behavior. This can happen when two or more threads attempt to modify the same data or resource without proper synchronization, leading to unexpected results."
   ]
  }
 ],
 "metadata": {
  "kernelspec": {
   "display_name": "Python 3",
   "language": "python",
   "name": "python3"
  },
  "language_info": {
   "codemirror_mode": {
    "name": "ipython",
    "version": 3
   },
   "file_extension": ".py",
   "mimetype": "text/x-python",
   "name": "python",
   "nbconvert_exporter": "python",
   "pygments_lexer": "ipython3",
   "version": "3.11.1"
  },
  "orig_nbformat": 4,
  "vscode": {
   "interpreter": {
    "hash": "da8bd05485955255bdcec9b6056a3f5a0ea9108210a95491ff7a03b1df67877e"
   }
  }
 },
 "nbformat": 4,
 "nbformat_minor": 2
}
