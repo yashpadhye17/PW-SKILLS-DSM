{
 "cells": [
  {
   "cell_type": "markdown",
   "metadata": {},
   "source": [
    "### Callback Functions Assignment\n"
   ]
  },
  {
   "cell_type": "markdown",
   "metadata": {},
   "source": [
    "Q1. Install and load the latest versions of TensorFlow and Keras. Print their versions."
   ]
  },
  {
   "cell_type": "code",
   "execution_count": 1,
   "metadata": {},
   "outputs": [
    {
     "name": "stdout",
     "output_type": "stream",
     "text": [
      "TensorFlow version: 2.10.0\n",
      "Keras version: 2.10.0\n"
     ]
    }
   ],
   "source": [
    "import tensorflow as tf\n",
    "from tensorflow import keras\n",
    "import pandas as pd\n",
    "\n",
    "print(\"TensorFlow version:\", tf.__version__)\n",
    "print(\"Keras version:\", keras.__version__)"
   ]
  },
  {
   "cell_type": "markdown",
   "metadata": {},
   "source": [
    "Q2. Load the Wine Quality dataset and explore its dimensions.\n"
   ]
  },
  {
   "cell_type": "code",
   "execution_count": 2,
   "metadata": {},
   "outputs": [
    {
     "name": "stdout",
     "output_type": "stream",
     "text": [
      "Dimensions of the dataset: (1599, 12)\n"
     ]
    }
   ],
   "source": [
    "# Q2. Load the Wine Quality dataset and explore its dimensions\n",
    "url = \"https://archive.ics.uci.edu/ml/machine-learning-databases/wine-quality/winequality-red.csv\"\n",
    "wine_data = pd.read_csv(url, sep=';')\n",
    "\n",
    "# Display dimensions\n",
    "print(\"Dimensions of the dataset:\", wine_data.shape)"
   ]
  },
  {
   "cell_type": "markdown",
   "metadata": {},
   "source": [
    "Q3. Check for null values, identify categorical variables, and encode them."
   ]
  },
  {
   "cell_type": "code",
   "execution_count": 3,
   "metadata": {},
   "outputs": [
    {
     "name": "stdout",
     "output_type": "stream",
     "text": [
      "Null values in the dataset:\n",
      "fixed acidity           0\n",
      "volatile acidity        0\n",
      "citric acid             0\n",
      "residual sugar          0\n",
      "chlorides               0\n",
      "free sulfur dioxide     0\n",
      "total sulfur dioxide    0\n",
      "density                 0\n",
      "pH                      0\n",
      "sulphates               0\n",
      "alcohol                 0\n",
      "quality                 0\n",
      "dtype: int64\n",
      "Categorical variables: []\n"
     ]
    }
   ],
   "source": [
    "print(\"Null values in the dataset:\")\n",
    "print(wine_data.isnull().sum())\n",
    "\n",
    "# Identify categorical variables\n",
    "categorical_cols = wine_data.select_dtypes(include=['object']).columns.tolist()\n",
    "print(\"Categorical variables:\", categorical_cols)\n",
    "\n",
    "# Encode categorical variables\n",
    "wine_data_encoded = pd.get_dummies(wine_data, columns=categorical_cols, drop_first=True)\n"
   ]
  },
  {
   "cell_type": "markdown",
   "metadata": {},
   "source": [
    "Q4. Separate the features and target variables from the dataframe."
   ]
  },
  {
   "cell_type": "code",
   "execution_count": 4,
   "metadata": {},
   "outputs": [],
   "source": [
    "X = wine_data_encoded.drop(columns=['quality'])\n",
    "y = wine_data_encoded['quality']"
   ]
  },
  {
   "cell_type": "markdown",
   "metadata": {},
   "source": [
    "Q5. Perform a train-test split and divide the data into training, validation, and test datasets."
   ]
  },
  {
   "cell_type": "code",
   "execution_count": 5,
   "metadata": {},
   "outputs": [],
   "source": [
    "from sklearn.model_selection import train_test_split\n",
    "\n",
    "X_train, X_test, y_train, y_test = train_test_split(X, y, test_size=0.2, random_state=42)\n"
   ]
  },
  {
   "cell_type": "markdown",
   "metadata": {},
   "source": [
    "Q6. Perform scaling on the dataset."
   ]
  },
  {
   "cell_type": "code",
   "execution_count": 6,
   "metadata": {},
   "outputs": [],
   "source": [
    "from sklearn.preprocessing import StandardScaler\n",
    "\n",
    "scaler = StandardScaler()\n",
    "X_train_scaled = scaler.fit_transform(X_train)\n",
    "X_test_scaled = scaler.transform(X_test)"
   ]
  },
  {
   "cell_type": "markdown",
   "metadata": {},
   "source": [
    "Q7. Create at least 2 hidden layers and an output layer for the binary categorical variables.\n",
    "\n",
    "Q8. Create a Sequential model and add all the layers to"
   ]
  },
  {
   "cell_type": "code",
   "execution_count": 7,
   "metadata": {},
   "outputs": [],
   "source": [
    "from keras.models import Sequential\n",
    "from keras.layers import Dense\n",
    "\n",
    "model = Sequential([\n",
    "    Dense(64, activation='relu', input_shape=(X_train_scaled.shape[1],)),\n",
    "    Dense(32, activation='relu'),\n",
    "    Dense(1, activation='sigmoid')\n",
    "])\n"
   ]
  },
  {
   "cell_type": "markdown",
   "metadata": {},
   "source": [
    "Q9. Implement a TensorBoard callback to visualize and monitor the model's training process."
   ]
  },
  {
   "cell_type": "code",
   "execution_count": 8,
   "metadata": {},
   "outputs": [],
   "source": [
    "from keras.callbacks import TensorBoard\n",
    "\n",
    "tensorboard_callback = TensorBoard(log_dir=\"./logs\")"
   ]
  },
  {
   "cell_type": "markdown",
   "metadata": {},
   "source": [
    "Q10. Use Early Stopping to prevent overfitting by monitoring a chosen metric and stopping the training if\n",
    "no improvement is observed."
   ]
  },
  {
   "cell_type": "code",
   "execution_count": 9,
   "metadata": {},
   "outputs": [],
   "source": [
    "from keras.callbacks import EarlyStopping\n",
    "\n",
    "early_stopping_callback = EarlyStopping(patience=5, monitor='val_loss', restore_best_weights=True)"
   ]
  },
  {
   "cell_type": "markdown",
   "metadata": {},
   "source": [
    "Q11. Implement a ModelCheckpoint callback to save the best model based on a chosen metric during\n",
    "training."
   ]
  },
  {
   "cell_type": "code",
   "execution_count": 10,
   "metadata": {},
   "outputs": [],
   "source": [
    "from keras.callbacks import ModelCheckpoint\n",
    "\n",
    "checkpoint_callback = ModelCheckpoint(filepath='best_model.h5', monitor='val_accuracy', save_best_only=True)"
   ]
  },
  {
   "cell_type": "markdown",
   "metadata": {},
   "source": [
    "Q12. Print the model summary."
   ]
  },
  {
   "cell_type": "code",
   "execution_count": 11,
   "metadata": {},
   "outputs": [
    {
     "name": "stdout",
     "output_type": "stream",
     "text": [
      "Model: \"sequential\"\n",
      "_________________________________________________________________\n",
      " Layer (type)                Output Shape              Param #   \n",
      "=================================================================\n",
      " dense (Dense)               (None, 64)                768       \n",
      "                                                                 \n",
      " dense_1 (Dense)             (None, 32)                2080      \n",
      "                                                                 \n",
      " dense_2 (Dense)             (None, 1)                 33        \n",
      "                                                                 \n",
      "=================================================================\n",
      "Total params: 2,881\n",
      "Trainable params: 2,881\n",
      "Non-trainable params: 0\n",
      "_________________________________________________________________\n"
     ]
    }
   ],
   "source": [
    "model.summary()"
   ]
  },
  {
   "cell_type": "markdown",
   "metadata": {},
   "source": [
    "Q13. Use binary cross-entropy as the loss function, Adam optimizer, and include the metric ['accuracy'].\n",
    "\n",
    "Q14. Compile the model with the specified loss function, optimizer, and metrics."
   ]
  },
  {
   "cell_type": "code",
   "execution_count": 13,
   "metadata": {},
   "outputs": [],
   "source": [
    "model.compile(optimizer='adam', loss='binary_crossentropy', metrics=['accuracy'])"
   ]
  },
  {
   "cell_type": "markdown",
   "metadata": {},
   "source": [
    "Q15. Fit the model to the data, incorporating the TensorBoard, Early Stopping, and ModelCheckpoint\n",
    "callbacks."
   ]
  },
  {
   "cell_type": "code",
   "execution_count": 16,
   "metadata": {},
   "outputs": [
    {
     "name": "stdout",
     "output_type": "stream",
     "text": [
      "Epoch 1/20\n",
      "32/32 [==============================] - 3s 16ms/step - loss: -4.4323 - accuracy: 0.0000e+00 - val_loss: -9.3804 - val_accuracy: 0.0000e+00\n",
      "Epoch 2/20\n",
      "32/32 [==============================] - 0s 7ms/step - loss: -17.1685 - accuracy: 0.0000e+00 - val_loss: -26.7612 - val_accuracy: 0.0000e+00\n",
      "Epoch 3/20\n",
      "32/32 [==============================] - 0s 6ms/step - loss: -43.1243 - accuracy: 0.0000e+00 - val_loss: -63.1829 - val_accuracy: 0.0000e+00\n",
      "Epoch 4/20\n",
      "32/32 [==============================] - 0s 7ms/step - loss: -94.5734 - accuracy: 0.0000e+00 - val_loss: -131.5063 - val_accuracy: 0.0000e+00\n",
      "Epoch 5/20\n",
      "32/32 [==============================] - 0s 7ms/step - loss: -185.8750 - accuracy: 0.0000e+00 - val_loss: -247.1226 - val_accuracy: 0.0000e+00\n",
      "Epoch 6/20\n",
      "32/32 [==============================] - 0s 7ms/step - loss: -333.5081 - accuracy: 0.0000e+00 - val_loss: -428.1923 - val_accuracy: 0.0000e+00\n",
      "Epoch 7/20\n",
      "32/32 [==============================] - 0s 7ms/step - loss: -555.5016 - accuracy: 0.0000e+00 - val_loss: -691.3275 - val_accuracy: 0.0000e+00\n",
      "Epoch 8/20\n",
      "32/32 [==============================] - 0s 6ms/step - loss: -869.0813 - accuracy: 0.0000e+00 - val_loss: -1052.8246 - val_accuracy: 0.0000e+00\n",
      "Epoch 9/20\n",
      "32/32 [==============================] - 0s 6ms/step - loss: -1290.1256 - accuracy: 0.0000e+00 - val_loss: -1532.2177 - val_accuracy: 0.0000e+00\n",
      "Epoch 10/20\n",
      "32/32 [==============================] - 0s 6ms/step - loss: -1836.7385 - accuracy: 0.0000e+00 - val_loss: -2144.0706 - val_accuracy: 0.0000e+00\n",
      "Epoch 11/20\n",
      "32/32 [==============================] - 0s 6ms/step - loss: -2523.9819 - accuracy: 0.0000e+00 - val_loss: -2902.6680 - val_accuracy: 0.0000e+00\n",
      "Epoch 12/20\n",
      "32/32 [==============================] - 0s 6ms/step - loss: -3367.8789 - accuracy: 0.0000e+00 - val_loss: -3823.9871 - val_accuracy: 0.0000e+00\n",
      "Epoch 13/20\n",
      "32/32 [==============================] - 0s 6ms/step - loss: -4381.7778 - accuracy: 0.0000e+00 - val_loss: -4922.6821 - val_accuracy: 0.0000e+00\n",
      "Epoch 14/20\n",
      "32/32 [==============================] - 0s 6ms/step - loss: -5584.7866 - accuracy: 0.0000e+00 - val_loss: -6205.8550 - val_accuracy: 0.0000e+00\n",
      "Epoch 15/20\n",
      "32/32 [==============================] - 0s 8ms/step - loss: -6984.4917 - accuracy: 0.0000e+00 - val_loss: -7707.6758 - val_accuracy: 0.0000e+00\n",
      "Epoch 16/20\n",
      "32/32 [==============================] - 0s 6ms/step - loss: -8600.7734 - accuracy: 0.0000e+00 - val_loss: -9430.5645 - val_accuracy: 0.0000e+00\n",
      "Epoch 17/20\n",
      "32/32 [==============================] - 0s 6ms/step - loss: -10445.5625 - accuracy: 0.0000e+00 - val_loss: -11369.9893 - val_accuracy: 0.0000e+00\n",
      "Epoch 18/20\n",
      "32/32 [==============================] - 0s 6ms/step - loss: -12517.0918 - accuracy: 0.0000e+00 - val_loss: -13558.7773 - val_accuracy: 0.0000e+00\n",
      "Epoch 19/20\n",
      "32/32 [==============================] - 0s 7ms/step - loss: -14837.8379 - accuracy: 0.0000e+00 - val_loss: -16001.6602 - val_accuracy: 0.0000e+00\n",
      "Epoch 20/20\n",
      "32/32 [==============================] - 0s 6ms/step - loss: -17423.0137 - accuracy: 0.0000e+00 - val_loss: -18708.7695 - val_accuracy: 0.0000e+00\n"
     ]
    }
   ],
   "source": [
    "history = model.fit(\n",
    "    X_train_scaled, y_train,\n",
    "    validation_split=0.2,\n",
    "    epochs=20,\n",
    "    batch_size=32,\n",
    "    callbacks=[tensorboard_callback, early_stopping_callback, checkpoint_callback]\n",
    ")\n"
   ]
  },
  {
   "cell_type": "markdown",
   "metadata": {},
   "source": [
    "Q16. Get the model's parameters."
   ]
  },
  {
   "cell_type": "code",
   "execution_count": 23,
   "metadata": {},
   "outputs": [],
   "source": [
    "model_parameters = model.get_weights()\n"
   ]
  },
  {
   "cell_type": "markdown",
   "metadata": {},
   "source": [
    "Q17. Store the model's training history as a Pandas DataFrame."
   ]
  },
  {
   "cell_type": "code",
   "execution_count": 20,
   "metadata": {},
   "outputs": [],
   "source": [
    "history_df = pd.DataFrame(history.history)"
   ]
  },
  {
   "cell_type": "markdown",
   "metadata": {},
   "source": [
    "Q18. Plot the model's training history."
   ]
  },
  {
   "cell_type": "code",
   "execution_count": 21,
   "metadata": {},
   "outputs": [
    {
     "data": {
      "image/png": "[encoded data removed]",
      "text/plain": [
       "<Figure size 640x480 with 1 Axes>"
      ]
     },
     "metadata": {},
     "output_type": "display_data"
    }
   ],
   "source": [
    "import matplotlib.pyplot as plt\n",
    "\n",
    "plt.plot(history.history['accuracy'], label='accuracy')\n",
    "plt.plot(history.history['val_accuracy'], label='val_accuracy')\n",
    "plt.xlabel('Epoch')\n",
    "plt.ylabel('Accuracy')\n",
    "plt.legend()\n",
    "plt.show()"
   ]
  },
  {
   "cell_type": "markdown",
   "metadata": {},
   "source": [
    "Q19. Evaluate the model's performance using the test data."
   ]
  },
  {
   "cell_type": "code",
   "execution_count": 22,
   "metadata": {},
   "outputs": [
    {
     "name": "stdout",
     "output_type": "stream",
     "text": [
      "10/10 [==============================] - 0s 4ms/step - loss: -19378.9629 - accuracy: 0.0000e+00\n",
      "Test Accuracy: 0.0\n"
     ]
    }
   ],
   "source": [
    "test_loss, test_accuracy = model.evaluate(X_test_scaled, y_test)\n",
    "print(\"Test Accuracy:\", test_accuracy)"
   ]
  },
  {
   "cell_type": "code",
   "execution_count": null,
   "metadata": {},
   "outputs": [],
   "source": []
  }
 ],
 "metadata": {
  "kernelspec": {
   "display_name": "py310",
   "language": "python",
   "name": "python3"
  },
  "language_info": {
   "codemirror_mode": {
    "name": "ipython",
    "version": 3
   },
   "file_extension": ".py",
   "mimetype": "text/x-python",
   "name": "python",
   "nbconvert_exporter": "python",
   "pygments_lexer": "ipython3",
   "version": "3.10.13"
  }
 },
 "nbformat": 4,
 "nbformat_minor": 2
}
