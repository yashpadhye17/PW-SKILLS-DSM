{
 "cells": [
  {
   "attachments": {},
   "cell_type": "markdown",
   "metadata": {},
   "source": [
    "# 8 MARCH ASSIGNMENT"
   ]
  },
  {
   "attachments": {},
   "cell_type": "markdown",
   "metadata": {},
   "source": [
    "Q1. What is the Probability density function?"
   ]
  },
  {
   "attachments": {},
   "cell_type": "markdown",
   "metadata": {},
   "source": [
    "In probability theory, a probability density function (PDF) represents the probability distribution of a continuous random variable. The PDF reflects the probability that a random variable will take on a certain value within a specified range. It is defined as the cumulative distribution function (CDF) derivative with respect to the random variable.\n",
    "\n",
    "In statistical analysis, the PDF is widely used to explain the distribution of continuous variables such as height, weight, or temperature. It is vital to remember that the PDF only applies to continuous random variables, whereas probability mass functions (PMF) are used for discrete random variables."
   ]
  },
  {
   "attachments": {},
   "cell_type": "markdown",
   "metadata": {},
   "source": [
    "Q2. What are the types of Probability distribution?"
   ]
  },
  {
   "attachments": {},
   "cell_type": "markdown",
   "metadata": {},
   "source": [
    "There are several types of probability distributions:\n",
    "\n",
    "* Normal distribution: A continuous probability distribution with a bell-shaped curve, also known as Gaussian distribution. Several natural phenomena, such as human height, IQ scores, and physical quantity measures, follow this distribution.\n",
    "\n",
    "* Bionomial distribution:The binomial distribution describes the likelihood of a binary result (success or failure) in a set number of trials. It is frequently employed in statistical inference and hypothesis testing.\n",
    "\n",
    "* The Poisson distribution describes the likelihood of a specific number of events happening in a given time or space interval. It's widely employed in research on unusual events like accidents or natural catastrophes.\n",
    "\n",
    "* The uniform distribution provides equal probability to all events within a defined range. It is frequently used as a basic model for random processes.\n",
    "\n",
    "* Exponential distribution: This distribution represents the time elapsed between events in a Poisson process. It is frequently utilised in reliability analysis as well as queueing theory."
   ]
  },
  {
   "attachments": {},
   "cell_type": "markdown",
   "metadata": {},
   "source": [
    "Q3. Write a Python function to calculate the probability density function of a normal distribution with\n",
    "given mean and standard deviation at a given point."
   ]
  },
  {
   "cell_type": "code",
   "execution_count": 1,
   "metadata": {},
   "outputs": [],
   "source": [
    "import math\n",
    "\n",
    "def normal_pdf(x, mu, sigma):\n",
    "    return (1 / (sigma * math.sqrt(2 * math.pi))) * math.exp(-((x - mu)**2) / (2 * sigma**2))\n"
   ]
  },
  {
   "cell_type": "code",
   "execution_count": 2,
   "metadata": {},
   "outputs": [
    {
     "data": {
      "text/plain": [
       "0.3989422804014327"
      ]
     },
     "execution_count": 2,
     "metadata": {},
     "output_type": "execute_result"
    }
   ],
   "source": [
    "normal_pdf(0, 0, 1)\n"
   ]
  },
  {
   "attachments": {},
   "cell_type": "markdown",
   "metadata": {},
   "source": [
    "Q4. What are the properties of Binomial distribution? Give two examples of events where binomial\n",
    "distribution can be applied."
   ]
  },
  {
   "attachments": {},
   "cell_type": "markdown",
   "metadata": {},
   "source": [
    "The Binomial distribution has the following characteristics:\n",
    "\n",
    "* Fixed number of trials: The number of trials n is known ahead of time.\n",
    "* Trials are conducted independently of one another.\n",
    "* There are two probable outcomes: Each trial can only have two outcomes: success or failure.\n",
    "* Constant likelihood of success: For each trial, the chance of success p is constant.\n",
    "* The Binomial distribution is a discrete distribution, which means that the random variable can only take on integer values.\n",
    "\n",
    "Example:\n",
    "* Tossing a coin: If the coin is fair, the Binomial distribution may be used to model the number of heads acquired after a set number of coin flips (i.e., the probability of getting heads is 0.5 for each flip).\n",
    "* Qualtiy Control:The Binomial distribution may be used to simulate the number of faulty items in a batch of examined products, assuming that the likelihood of an item being defective is constant and independent of the other items."
   ]
  },
  {
   "attachments": {},
   "cell_type": "markdown",
   "metadata": {},
   "source": [
    "Q5. Generate a random sample of size 1000 from a binomial distribution with probability of success 0.4\n",
    "and plot a histogram of the results using matplotlib."
   ]
  },
  {
   "cell_type": "code",
   "execution_count": 4,
   "metadata": {},
   "outputs": [
    {
     "data": {
      "image/png": "[encoded data removed]",
      "text/plain": [
       "<Figure size 640x480 with 1 Axes>"
      ]
     },
     "metadata": {},
     "output_type": "display_data"
    }
   ],
   "source": [
    "import numpy as np\n",
    "import matplotlib.pyplot as plt\n",
    "\n",
    "# Generate random sample of size 1000 from binomial distribution with p=0.4\n",
    "n = 1000\n",
    "p = 0.4\n",
    "sample = np.random.binomial(n, p, size=1000)\n",
    "\n",
    "# Plot histogram of sample using matplotlib\n",
    "plt.hist(sample, bins=20, density=True, color='grey', edgecolor='black')\n",
    "plt.xlabel('Number of Successes')\n",
    "plt.ylabel('Probability Density')\n",
    "plt.title('Histogram of Binomial Distribution')\n",
    "plt.show()\n"
   ]
  },
  {
   "attachments": {},
   "cell_type": "markdown",
   "metadata": {},
   "source": [
    "Q6. Write a Python function to calculate the cumulative distribution function of a Poisson distribution\n",
    "with given mean at a given point."
   ]
  },
  {
   "cell_type": "code",
   "execution_count": 5,
   "metadata": {},
   "outputs": [],
   "source": [
    "import math\n",
    "\n",
    "def poisson_cdf(x, mu):\n",
    "    cdf = 0\n",
    "    for i in range(x+1):\n",
    "        cdf += (math.exp(-mu) * mu**i) / math.factorial(i)\n",
    "    return cdf\n"
   ]
  },
  {
   "cell_type": "code",
   "execution_count": 6,
   "metadata": {},
   "outputs": [
    {
     "data": {
      "text/plain": [
       "0.42319008112684353"
      ]
     },
     "execution_count": 6,
     "metadata": {},
     "output_type": "execute_result"
    }
   ],
   "source": [
    "poisson_cdf(2, 3)"
   ]
  },
  {
   "attachments": {},
   "cell_type": "markdown",
   "metadata": {},
   "source": [
    "Q7. How Binomial distribution different from Poisson distribution?"
   ]
  },
  {
   "attachments": {},
   "cell_type": "markdown",
   "metadata": {},
   "source": [
    "The following are the primary distinctions between the Binomial and Poisson distributions:\n",
    "\n",
    "* The Binomial distribution presumes a set number of independent trials, whereas the Poisson distribution presumes an infinite number of trials or events that occur within a defined interval.\n",
    "* Success probability: The Binomial distribution implies a constant success probability for each trial, whereas the Poisson distribution predicts a tiny success probability for each event or interval.\n",
    "* The Binomial distribution is used for events with two potential outcomes (for example, success or failure), whereas the Poisson distribution is used for occurrences with numerous outcomes or uncommon events.\n",
    "* Mean and variance: The Binomial distribution's mean and variance are both constant and rely on the number of trials and likelihood of success, but the Poisson distribution's mean and variance are equal and depend on the rate parameter or the average number of occurrences per unit of time or space."
   ]
  },
  {
   "attachments": {},
   "cell_type": "markdown",
   "metadata": {},
   "source": [
    "Q8. Generate a random sample of size 1000 from a Poisson distribution with mean 5 and calculate the\n",
    "sample mean and variance."
   ]
  },
  {
   "cell_type": "code",
   "execution_count": 7,
   "metadata": {},
   "outputs": [
    {
     "name": "stdout",
     "output_type": "stream",
     "text": [
      "Sample mean: 4.979\n",
      "Sample variance: 4.978558999999999\n"
     ]
    }
   ],
   "source": [
    "import numpy as np\n",
    "sample = np.random.poisson(lam=5, size=1000)\n",
    "sample_mean = np.mean(sample)\n",
    "sample_var = np.var(sample)\n",
    "print(\"Sample mean:\", sample_mean)\n",
    "print(\"Sample variance:\", sample_var)\n"
   ]
  },
  {
   "attachments": {},
   "cell_type": "markdown",
   "metadata": {},
   "source": [
    "Q9. How mean and variance are related in Binomial distribution and Poisson distribution?"
   ]
  },
  {
   "attachments": {},
   "cell_type": "markdown",
   "metadata": {},
   "source": [
    "In the Poisson distribution, the mean and variance are directly connected, however in the Binomial distribution, the variance is affected by both the mean and the likelihood of success.\n",
    "\n",
    "In both distributions, as the mean or rate parameter increases, so does the variance. This means that the distribution becomes more dispersed and variable. In contrast, when the mean or rate parameter falls, so does the variance, and the distribution becomes more densely concentrated around the mean."
   ]
  },
  {
   "attachments": {},
   "cell_type": "markdown",
   "metadata": {},
   "source": [
    "Q10. In normal distribution with respect to mean position, where does the least frequent data appear?"
   ]
  },
  {
   "attachments": {},
   "cell_type": "markdown",
   "metadata": {},
   "source": [
    "The least common data in a normal distribution appears in the tails of the distribution, which are more than two standard deviations from the mean.\n",
    "\n",
    "The normal distribution, in particular, is a bell-shaped curve that is symmetric around the mean. The mean is shown by the highest frequency of data points near the middle of the curve. The frequency of data points reduces as one moves away from the mean and towards the tails of the distribution."
   ]
  }
 ],
 "metadata": {
  "kernelspec": {
   "display_name": "Python 3",
   "language": "python",
   "name": "python3"
  },
  "language_info": {
   "codemirror_mode": {
    "name": "ipython",
    "version": 3
   },
   "file_extension": ".py",
   "mimetype": "text/x-python",
   "name": "python",
   "nbconvert_exporter": "python",
   "pygments_lexer": "ipython3",
   "version": "3.11.1"
  },
  "orig_nbformat": 4
 },
 "nbformat": 4,
 "nbformat_minor": 2
}
